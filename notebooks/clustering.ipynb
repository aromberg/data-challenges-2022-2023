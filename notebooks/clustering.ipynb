{
 "cells": [
  {
   "cell_type": "markdown",
   "metadata": {},
   "source": [
    "# Clustering"
   ]
  },
  {
   "cell_type": "code",
   "execution_count": 6,
   "metadata": {},
   "outputs": [],
   "source": [
    "import sklearn as sk\n",
    "from sklearn.preprocessing import StandardScaler\n",
    "from sklearn.feature_extraction import DictVectorizer\n",
    "from sklearn.cluster import KMeans\n",
    "from sklearn.decomposition import PCA"
   ]
  },
  {
   "cell_type": "code",
   "execution_count": 7,
   "metadata": {},
   "outputs": [],
   "source": [
    "import plotly.graph_objs as go\n",
    "from plotly.offline import  init_notebook_mode, iplot"
   ]
  },
  {
   "cell_type": "code",
   "execution_count": 8,
   "metadata": {},
   "outputs": [],
   "source": [
    "import pandas as pd"
   ]
  },
  {
   "cell_type": "code",
   "execution_count": 9,
   "metadata": {},
   "outputs": [],
   "source": [
    "data = pd.read_csv(\"../data/heart_disease/heart_disease_combined.csv\")"
   ]
  },
  {
   "cell_type": "code",
   "execution_count": 10,
   "metadata": {},
   "outputs": [],
   "source": [
    "data = data.drop(labels=\"Unnamed: 0\", axis=1)  # drop unnecessary cols"
   ]
  },
  {
   "cell_type": "markdown",
   "metadata": {},
   "source": [
    "As proposed in Task 2, exercise 1 a), clustering algorithms should be applied on the whole dataset, without imputation or dimensionality reduction. However, sklearn.cluster methods cannot handle NA's. We continue by dropping rows which contain NA values."
   ]
  },
  {
   "cell_type": "code",
   "execution_count": 11,
   "metadata": {},
   "outputs": [],
   "source": [
    "data = data.dropna(axis=0)  # drop rows which contain missing values"
   ]
  },
  {
   "cell_type": "code",
   "execution_count": 12,
   "metadata": {},
   "outputs": [
    {
     "data": {
      "text/plain": [
       "age         float64\n",
       "sex         float64\n",
       "cp          float64\n",
       "trestbps    float64\n",
       "chol        float64\n",
       "fbs         float64\n",
       "restecg     float64\n",
       "thalach     float64\n",
       "exang       float64\n",
       "oldpeak     float64\n",
       "slope       float64\n",
       "ca          float64\n",
       "thal        float64\n",
       "num           int64\n",
       "dtype: object"
      ]
     },
     "execution_count": 12,
     "metadata": {},
     "output_type": "execute_result"
    }
   ],
   "source": [
    "data.dtypes"
   ]
  },
  {
   "cell_type": "markdown",
   "metadata": {},
   "source": [
    "## Prepare Dataset for K-Means"
   ]
  },
  {
   "cell_type": "markdown",
   "metadata": {},
   "source": [
    "For K-Means clustering we need to feature-scale numerical variables. K-Means measures euclidean distance between data-points. If we leave numerical variables un-scaled, then most of the distance measured between points would be attributed to the larger numerical variables rather than any of the categorical variables. "
   ]
  },
  {
   "cell_type": "markdown",
   "metadata": {},
   "source": [
    "However, some of our categorical variables hold more values than either $0$ or $1$. Therefore, we also need to convert multiclass labels to binary labels. "
   ]
  },
  {
   "cell_type": "markdown",
   "metadata": {},
   "source": [
    "Let's make these two preprocseeing steps optional for the User."
   ]
  },
  {
   "cell_type": "code",
   "execution_count": 13,
   "metadata": {},
   "outputs": [
    {
     "data": {
      "text/plain": [
       "age          float64\n",
       "sex         category\n",
       "cp          category\n",
       "trestbps     float64\n",
       "chol         float64\n",
       "fbs         category\n",
       "restecg     category\n",
       "thalach      float64\n",
       "exang       category\n",
       "oldpeak      float64\n",
       "slope       category\n",
       "ca          category\n",
       "thal        category\n",
       "num         category\n",
       "dtype: object"
      ]
     },
     "execution_count": 13,
     "metadata": {},
     "output_type": "execute_result"
    }
   ],
   "source": [
    "# change dtype of categorical variables\n",
    "dtyp = {\"sex\": \"category\",\n",
    "        \"cp\": \"category\",\n",
    "        \"restecg\": \"category\",\n",
    "        \"fbs\": \"category\",\n",
    "        \"exang\": \"category\",\n",
    "        \"slope\": \"category\",\n",
    "        \"ca\": \"category\",\n",
    "        \"thal\": \"category\",\n",
    "        \"num\": \"category\"\n",
    "}\n",
    "dat = data.astype(dtyp)\n",
    "dat.dtypes"
   ]
  },
  {
   "cell_type": "code",
   "execution_count": 14,
   "metadata": {},
   "outputs": [],
   "source": [
    "# first divide dataframe into two other dataframes\n",
    "cater_columns = list(dat.columns[dat.dtypes == 'category'])"
   ]
  },
  {
   "cell_type": "code",
   "execution_count": 15,
   "metadata": {},
   "outputs": [],
   "source": [
    "cater = dat[cater_columns]"
   ]
  },
  {
   "cell_type": "code",
   "execution_count": 16,
   "metadata": {},
   "outputs": [],
   "source": [
    "numer_columns = list(dat.columns[dat.dtypes != 'category'])"
   ]
  },
  {
   "cell_type": "code",
   "execution_count": 17,
   "metadata": {},
   "outputs": [
    {
     "data": {
      "text/plain": [
       "['age', 'trestbps', 'chol', 'thalach', 'oldpeak']"
      ]
     },
     "execution_count": 17,
     "metadata": {},
     "output_type": "execute_result"
    }
   ],
   "source": [
    "numer_columns"
   ]
  },
  {
   "cell_type": "code",
   "execution_count": 18,
   "metadata": {},
   "outputs": [],
   "source": [
    "numer = dat[numer_columns]"
   ]
  },
  {
   "cell_type": "markdown",
   "metadata": {},
   "source": [
    "### Rescale numerical variables"
   ]
  },
  {
   "cell_type": "code",
   "execution_count": 19,
   "metadata": {},
   "outputs": [],
   "source": [
    "# initialize scaler\n",
    "scaler = StandardScaler()"
   ]
  },
  {
   "cell_type": "code",
   "execution_count": 20,
   "metadata": {},
   "outputs": [],
   "source": [
    "numer = pd.DataFrame(scaler.fit_transform(numer))"
   ]
  },
  {
   "cell_type": "code",
   "execution_count": 21,
   "metadata": {},
   "outputs": [],
   "source": [
    "numer.columns = [sub + \"_scaled\" for sub in numer_columns]"
   ]
  },
  {
   "cell_type": "markdown",
   "metadata": {},
   "source": [
    "### Binarize categorical variables"
   ]
  },
  {
   "cell_type": "code",
   "execution_count": 22,
   "metadata": {},
   "outputs": [],
   "source": [
    "cater = cater.astype(\"int\")"
   ]
  },
  {
   "cell_type": "code",
   "execution_count": 23,
   "metadata": {},
   "outputs": [],
   "source": [
    "cater.loc[cater.cp < 4, \"cp\"] = 1\n",
    "cater.loc[cater.cp == 4, \"cp\"] = 0  # cp val 4 means asymptomatic\n",
    "cater.loc[cater.thal == 3, \"thal\"] = 0  # thal val 3 is normal\n",
    "cater.loc[cater.thal == 6, \"thal\"] = 1\n",
    "cater.loc[cater.thal == 7, \"thal\"] = 1\n",
    "cater.loc[cater.slope == 1, \"slope\"] = 0  # bc upsloping (val 1) is \"normal\"\n",
    "cater.loc[cater.slope > 1, \"slope\"] = 1\n",
    "cater.loc[cater.ca > 0, \"ca\"] = 1  # no major vessels is \"normal\"\n",
    "cater.loc[cater.restecg > 0, \"restecg\"] = 1 # 0 is normal\n",
    "cater.loc[cater.num > 0, \"num\"] = 1  # 0 means disease not present"
   ]
  },
  {
   "cell_type": "code",
   "execution_count": 24,
   "metadata": {},
   "outputs": [],
   "source": [
    "cater.columns = [sub + \"_binarized\" for sub in cater_columns]"
   ]
  },
  {
   "cell_type": "code",
   "execution_count": 25,
   "metadata": {},
   "outputs": [],
   "source": [
    "dat_preproc = pd.concat([numer, cater], axis=1, join=\"inner\")"
   ]
  },
  {
   "cell_type": "markdown",
   "metadata": {},
   "source": [
    "## K-Means"
   ]
  },
  {
   "cell_type": "code",
   "execution_count": 26,
   "metadata": {},
   "outputs": [],
   "source": [
    "# define arguments\n",
    "# should be adjustable by users in App\n",
    "k = 3\n",
    "init_method = \"k-means++\"\n",
    "# or \"random\" "
   ]
  },
  {
   "cell_type": "markdown",
   "metadata": {},
   "source": [
    "__Initialization__ __Methods__\n",
    "- _k-means++_\n",
    "  \n",
    "  selects initial cluster centroids using sampling based on an empirical probability distribution of the points’ contribution to the overall inertia.\n",
    "- _random_\n",
    "  \n",
    "   choose n_clusters observations (rows) at random from data for the initial centroids."
   ]
  },
  {
   "cell_type": "markdown",
   "metadata": {},
   "source": [
    "Let's define a maximum of clusters, which should be the default value (8)"
   ]
  },
  {
   "cell_type": "code",
   "execution_count": 27,
   "metadata": {},
   "outputs": [],
   "source": [
    "max_k = 8"
   ]
  },
  {
   "cell_type": "code",
   "execution_count": 28,
   "metadata": {},
   "outputs": [],
   "source": [
    "kmeans = KMeans(n_clusters=k, init=init_method, random_state=2022) # use random_state to make randomness deterministic"
   ]
  },
  {
   "cell_type": "markdown",
   "metadata": {},
   "source": [
    "### ... on unprocessed data"
   ]
  },
  {
   "cell_type": "code",
   "execution_count": 29,
   "metadata": {},
   "outputs": [],
   "source": [
    "# create matrix of shape (n_samples)(n_features)\n",
    "# orient='records' to enable usage by DictVectorizer\n",
    "data_dict = data.to_dict(orient='records')"
   ]
  },
  {
   "cell_type": "code",
   "execution_count": 30,
   "metadata": {},
   "outputs": [],
   "source": [
    "# create vectorizer\n",
    "vec = DictVectorizer()"
   ]
  },
  {
   "cell_type": "code",
   "execution_count": 31,
   "metadata": {},
   "outputs": [],
   "source": [
    "matrix = vec.fit_transform(data_dict).toarray()"
   ]
  },
  {
   "cell_type": "code",
   "execution_count": 32,
   "metadata": {},
   "outputs": [
    {
     "data": {
      "text/plain": [
       "array(['age', 'ca', 'chol', 'cp', 'exang', 'fbs', 'num', 'oldpeak',\n",
       "       'restecg', 'sex', 'slope', 'thal', 'thalach', 'trestbps'],\n",
       "      dtype=object)"
      ]
     },
     "execution_count": 32,
     "metadata": {},
     "output_type": "execute_result"
    }
   ],
   "source": [
    "# note different order of column names!\n",
    "feature_names = vec.get_feature_names_out()\n",
    "feature_names"
   ]
  },
  {
   "cell_type": "code",
   "execution_count": 33,
   "metadata": {},
   "outputs": [],
   "source": [
    "kmeans_unpr = kmeans.fit(matrix)"
   ]
  },
  {
   "cell_type": "code",
   "execution_count": 34,
   "metadata": {},
   "outputs": [],
   "source": [
    "clusters = kmeans_unpr.labels_"
   ]
  },
  {
   "cell_type": "code",
   "execution_count": 35,
   "metadata": {},
   "outputs": [],
   "source": [
    "data[\"Clusters\"] = clusters"
   ]
  },
  {
   "cell_type": "markdown",
   "metadata": {},
   "source": [
    "### ... on processed data"
   ]
  },
  {
   "cell_type": "code",
   "execution_count": 36,
   "metadata": {},
   "outputs": [],
   "source": [
    "vec_preproc = DictVectorizer()"
   ]
  },
  {
   "cell_type": "code",
   "execution_count": 37,
   "metadata": {},
   "outputs": [
    {
     "data": {
      "text/plain": [
       "array(['age_scaled', 'ca_binarized', 'chol_scaled', 'cp_binarized',\n",
       "       'exang_binarized', 'fbs_binarized', 'num_binarized',\n",
       "       'oldpeak_scaled', 'restecg_binarized', 'sex_binarized',\n",
       "       'slope_binarized', 'thal_binarized', 'thalach_scaled',\n",
       "       'trestbps_scaled'], dtype=object)"
      ]
     },
     "execution_count": 37,
     "metadata": {},
     "output_type": "execute_result"
    }
   ],
   "source": [
    "# create matrix of shape (n_samples)(n_features)\n",
    "# orient='records' to enable usage by DictVectorizer\n",
    "dat_preproc_dict = dat_preproc.to_dict(orient='records')\n",
    "matrix_preproc = vec_preproc.fit_transform(dat_preproc_dict).toarray()\n",
    "# note different order of column names!\n",
    "feature_names_preproc = vec_preproc.get_feature_names_out()\n",
    "feature_names_preproc"
   ]
  },
  {
   "cell_type": "code",
   "execution_count": 38,
   "metadata": {},
   "outputs": [],
   "source": [
    "kmeans_pro = kmeans.fit(matrix_preproc)  # use random_state to make randomness deterministic"
   ]
  },
  {
   "cell_type": "code",
   "execution_count": 39,
   "metadata": {},
   "outputs": [],
   "source": [
    "clusters_proc = kmeans_pro.labels_"
   ]
  },
  {
   "cell_type": "code",
   "execution_count": 40,
   "metadata": {},
   "outputs": [],
   "source": [
    "dat_preproc[\"Clusters\"] = clusters_proc"
   ]
  },
  {
   "cell_type": "markdown",
   "metadata": {},
   "source": [
    "## Visualization"
   ]
  },
  {
   "cell_type": "code",
   "execution_count": 41,
   "metadata": {},
   "outputs": [
    {
     "data": {
      "text/html": [
       "        <script type=\"text/javascript\">\n",
       "        window.PlotlyConfig = {MathJaxConfig: 'local'};\n",
       "        if (window.MathJax && window.MathJax.Hub && window.MathJax.Hub.Config) {window.MathJax.Hub.Config({SVG: {font: \"STIX-Web\"}});}\n",
       "        if (typeof require !== 'undefined') {\n",
       "        require.undef(\"plotly\");\n",
       "        requirejs.config({\n",
       "            paths: {\n",
       "                'plotly': ['https://cdn.plot.ly/plotly-2.16.1.min']\n",
       "            }\n",
       "        });\n",
       "        require(['plotly'], function(Plotly) {\n",
       "            window._Plotly = Plotly;\n",
       "        });\n",
       "        }\n",
       "        </script>\n",
       "        "
      ]
     },
     "metadata": {},
     "output_type": "display_data"
    }
   ],
   "source": [
    "init_notebook_mode(connected=True)"
   ]
  },
  {
   "cell_type": "markdown",
   "metadata": {},
   "source": [
    "We have to apply PCA on our dataset to visualize clusters in 2D space."
   ]
  },
  {
   "cell_type": "code",
   "execution_count": 42,
   "metadata": {},
   "outputs": [],
   "source": [
    "pca_2d = PCA(n_components=2)"
   ]
  },
  {
   "cell_type": "code",
   "execution_count": 43,
   "metadata": {},
   "outputs": [],
   "source": [
    "# create colors, we need max k_max colors\n",
    "colors = [\"rgba(255, 128, 255, 0.8)\", # pink\n",
    "          \"rgba(255, 128, 2, 0.8)\", # orange\n",
    "          \"rgba(0, 255, 200, 0.8)\", # turquoise\n",
    "          \"rgba(102, 205, 0, 0.8)\" ,# green\n",
    "          \"rgba(255, 215, 0, 0.8)\", # yellow\n",
    "          \"rgba(123, 104, 238, 0.8)\", #mediumslateblue\n",
    "          \"rgba(51, 161, 201, 0.8)\", # peacock\n",
    "          \"rgba(255, 48, 48, 0.8)\", # firebrick1\n",
    "]"
   ]
  },
  {
   "cell_type": "code",
   "execution_count": 44,
   "metadata": {},
   "outputs": [],
   "source": [
    "title = \"Visualizing Clusters in Two Dimensions Using PCA\""
   ]
  },
  {
   "cell_type": "code",
   "execution_count": 45,
   "metadata": {},
   "outputs": [],
   "source": [
    "layout = dict(title=title,\n",
    "              xaxis= dict(title= \"PC1\", ticklen=5, zeroline=False),\n",
    "              yaxis=dict(title= \"PC2\", ticklen=5, zeroline=False)\n",
    ")"
   ]
  },
  {
   "cell_type": "code",
   "execution_count": 46,
   "metadata": {},
   "outputs": [],
   "source": [
    "def SubClusterDF(k, df):\n",
    "    ls = []\n",
    "    for i in range(k):\n",
    "        cluster = df[df[\"Clusters\"] == i]\n",
    "        ls.append(cluster)\n",
    "    return ls"
   ]
  },
  {
   "cell_type": "code",
   "execution_count": 47,
   "metadata": {},
   "outputs": [],
   "source": [
    "def SubScatterCluster(clusters, cols):\n",
    "    ls = []\n",
    "    for i in range(len(clusters)):\n",
    "        trace = go.Scatter(\n",
    "            x=clusters[i][\"PC1\"],\n",
    "            y=clusters[i][\"PC2\"],\n",
    "            mode=\"markers\",\n",
    "            name=f\"Cluster {i}\",\n",
    "            marker=dict(color = cols[i]),\n",
    "            text=None\n",
    "        )\n",
    "        ls.append(trace)\n",
    "    return ls\n"
   ]
  },
  {
   "cell_type": "markdown",
   "metadata": {},
   "source": [
    "### ...for unprocessed data"
   ]
  },
  {
   "cell_type": "code",
   "execution_count": 48,
   "metadata": {},
   "outputs": [],
   "source": [
    "PCs_2d = pd.DataFrame(pca_2d.fit_transform(data.drop([\"Clusters\"], axis=1)))"
   ]
  },
  {
   "cell_type": "code",
   "execution_count": 49,
   "metadata": {},
   "outputs": [],
   "source": [
    "PCs_2d.columns = [\"PC1\", \"PC2\"]"
   ]
  },
  {
   "cell_type": "code",
   "execution_count": 50,
   "metadata": {},
   "outputs": [],
   "source": [
    "plotData = pd.concat([data, PCs_2d], axis=1, join=\"inner\")"
   ]
  },
  {
   "cell_type": "code",
   "execution_count": 51,
   "metadata": {},
   "outputs": [],
   "source": [
    "x = SubClusterDF(k, plotData)"
   ]
  },
  {
   "cell_type": "code",
   "execution_count": 52,
   "metadata": {},
   "outputs": [],
   "source": [
    "traces = SubScatterCluster(clusters=x, cols=colors)"
   ]
  },
  {
   "cell_type": "code",
   "execution_count": 53,
   "metadata": {},
   "outputs": [],
   "source": [
    "fig = dict(data=traces, layout=layout)"
   ]
  },
  {
   "cell_type": "code",
   "execution_count": 54,
   "metadata": {},
   "outputs": [
    {
     "data": {
      "application/vnd.plotly.v1+json": {
       "config": {
        "linkText": "Export to plot.ly",
        "plotlyServerURL": "https://plot.ly",
        "showLink": false
       },
       "data": [
        {
         "marker": {
          "color": "rgba(255, 128, 255, 0.8)"
         },
         "mode": "markers",
         "name": "Cluster 0",
         "type": "scatter",
         "x": [
          40.791124854674706,
          106.56629382887756,
          47.62245093124308,
          92.68449180862906,
          88.85142167809633,
          105.92613577001944,
          57.22705240500226,
          83.31747492390205,
          170.7267932901189,
          41.763674202521706,
          57.83664024597624,
          57.37354031527632,
          81.1351637262912,
          114.83098736278754,
          61.35021851578248,
          74.14006866523583,
          77.49699643446036,
          -80.9051152601506,
          17.530607644418062,
          -68.98100006814312,
          1.8881541652037477,
          16.033136923468707,
          7.611288109264378,
          -26.542406208301003,
          -9.050997405097679,
          -41.7757293008573,
          -7.99518672092174,
          1.8860813972145736,
          69.80001193055455,
          52.236576734092424,
          16.02955151463064,
          43.585692590088485,
          -1.3740964125621322,
          52.55503935676103,
          53.027835477632756,
          46.88216444287213,
          29.935174635801285,
          -33.80822801425255,
          -88.0470624361317,
          27.907010782649795,
          26.638078754725168,
          25.684343835494055,
          -7.551526265806121,
          -50.90841467067138,
          -36.04894839278513,
          -10.901501691620096,
          -3.472647978280278,
          -37.178917367639805,
          12.01336126133986,
          15.138780983275202,
          19.044606903582626,
          -44.17453412037657,
          21.964178490346697,
          -69.39589984909028,
          -24.662577087777592,
          -48.70187435566841,
          -80.20970559877733,
          -67.19269035307764,
          32.31740184091969,
          -42.556036836336126,
          -33.219963865532414,
          -69.18314599977916
         ],
         "y": [
          45.749679088150806,
          -15.106417598038984,
          -2.704863243783853,
          -23.650659886451667,
          -6.441436961109037,
          16.450461443183293,
          -6.46421178210791,
          -18.8680677341089,
          -5.820683616391539,
          -8.154964793460588,
          6.024629959940577,
          -20.34552008663018,
          14.174244709054255,
          2.8292850267630105,
          7.0685172841064325,
          -34.20448657675981,
          -24.6223546575172,
          9.777494562839257,
          18.924866163637862,
          -10.033060293537435,
          4.618243958793397,
          52.14262750531504,
          24.121259309763662,
          1.7932817691516698,
          20.23388834942369,
          -34.56936753508535,
          -7.117469510816464,
          -33.86607615961774,
          -13.620852931777575,
          -26.294414185567753,
          20.649952369377267,
          7.615114548671359,
          52.351119355513816,
          -22.990431295212787,
          -21.63864692144252,
          -18.384423489050892,
          -1.0912683967818178,
          -11.04412047395845,
          7.433373569496039,
          62.64126528809969,
          -18.43735730425025,
          10.558102209015765,
          -47.15155864074734,
          -14.239907973618804,
          34.627187497764275,
          23.86455647956387,
          -14.670022083446348,
          -15.824183391913019,
          19.11689519168765,
          -5.877445466907667,
          -20.45075731585034,
          -9.786219532707594,
          -14.764182803977947,
          51.92310231494646,
          6.323122529218486,
          37.580320333258406,
          26.279517081636012,
          -2.7446018346985865,
          0.8765537498387418,
          -7.910269956100661,
          4.294822328206415,
          63.17662183953435
         ]
        },
        {
         "marker": {
          "color": "rgba(255, 128, 2, 0.8)"
         },
         "mode": "markers",
         "name": "Cluster 1",
         "type": "scatter",
         "x": [
          -43.13014333457702,
          -43.28641086240522,
          -54.17595064150934,
          -45.63370444048753,
          -77.44998381964622,
          -36.528856554152625,
          -40.692392565374625,
          -28.4463384689994,
          -81.47947402511309,
          -70.83903560563215,
          -47.61236685149903,
          -33.572802868947186,
          -73.05936006737677,
          -49.81300620015452,
          -50.43643374301458,
          -69.93966959038002,
          -27.95549115322773,
          -76.18304602266477,
          -34.34255919311687,
          -69.35311616199365,
          -30.895965588491997,
          -59.518500765067415,
          -61.00149914792877,
          -51.00449688412726,
          -40.482554831960165,
          -15.595866985182266,
          5.818731415528459,
          -25.240688066895636,
          12.20910872906985,
          56.06328608312321,
          60.88218367763912,
          -17.846143932593833,
          60.99310163685644,
          93.5519765500449,
          -35.06620730647285,
          -63.83260550389856,
          83.1673565050111,
          -29.52006886788994,
          35.998266738088745,
          -37.7595314030619,
          10.553811082678218,
          14.716162707827793,
          3.4673616845651676,
          33.52514209691232,
          -2.1492682856859533,
          43.32244737359883,
          61.963470081933565,
          57.650774132958745,
          -0.466450717936545,
          41.19025339404688,
          -20.509072757488607,
          -15.084648909463837,
          -0.7734537090031457,
          0.9005050294331586,
          47.445745255825855,
          -10.762811673754516,
          62.27538134774251,
          -46.36209118544588,
          -32.82960245796315,
          -15.85003778999343,
          -54.1515590213075,
          56.18207647098235,
          24.854028550264207,
          -37.892668802648835,
          -42.09352193887367,
          -35.423974005373125,
          82.35950732170114,
          -98.63302298330576,
          22.08795537866653,
          38.419503431434414,
          1.2698730442009745,
          26.578209170351084,
          -28.14741149984049,
          16.04751994382096,
          47.437126677754,
          55.02062524696179,
          -0.019722439993548384,
          13.81752887646232,
          -5.865360148733172,
          -23.02014565271174,
          -16.95000235354806,
          -98.17238304179355,
          -42.34655211624939,
          -26.95386100874211,
          -13.426630916507097,
          6.021938210786536,
          -55.73001661490475,
          -19.654943394538453,
          -25.686550004574205,
          -7.209079291939992,
          -58.95844592526247,
          -90.49813254086364,
          -5.4269802330205215,
          15.604023422986447,
          -52.6118164587116,
          -115.7676933047127,
          -10.606471338727646
         ],
         "y": [
          -24.527393651266625,
          -4.385930743648487,
          3.102519377304943,
          -7.594758413094788,
          -20.966843019406667,
          4.396161392708864,
          18.123906087065325,
          -10.569088364011646,
          29.920731976226495,
          25.756410116830555,
          -29.222964175072214,
          -4.3164316621934855,
          22.803223232780624,
          -2.811889674072773,
          -23.64547640172854,
          10.004812129268863,
          -39.73049054615154,
          -12.964524460238847,
          22.437535352477287,
          -10.255020563614458,
          18.376375708065833,
          34.4139406511838,
          -3.161081682353501,
          -31.223252817116702,
          -3.514918107373011,
          4.535156336715356,
          -20.35512751468646,
          -38.03625507770837,
          -38.6931131393422,
          -9.89559430258742,
          -9.916694489594327,
          -0.5006414057986002,
          5.6822732565792435,
          10.508568137739628,
          -13.530237084567052,
          -34.21369477092778,
          17.804363293141186,
          38.888416949330235,
          -21.742108031504664,
          -12.797645422319254,
          0.697884246363515,
          -35.566467821399904,
          -11.002966905659973,
          44.97435453601541,
          -17.73837554852689,
          -4.253098242878126,
          18.39857451903928,
          -9.53351679484053,
          23.357213408354646,
          -9.860421634448421,
          38.534673805093355,
          -0.9249225248063342,
          -23.63342987203652,
          34.140710175133925,
          44.08086830838343,
          -3.520614545644165,
          1.5593149425721549,
          23.87806321204966,
          -24.590447902926314,
          -7.3763270223877,
          -13.154819917534669,
          27.737129281667617,
          -30.56526412264094,
          -46.79721547422688,
          37.871400193298456,
          16.750928986027166,
          37.002975413346654,
          20.732857671060582,
          29.42336744517062,
          31.066464769520522,
          2.301866748187066,
          26.393959944523328,
          45.87844762587267,
          44.4074654574022,
          -9.939785917164134,
          -35.402385179829146,
          11.764476249173075,
          7.539040394507201,
          -3.2569982292044943,
          -30.81871797457526,
          16.676362642764452,
          24.84660373594085,
          -11.084805985094198,
          -4.508640258493205,
          -11.148412232281618,
          -30.635851241026373,
          -28.464764276885045,
          8.785275424548818,
          -13.130618332497948,
          -20.409513822871343,
          8.261176055038183,
          -35.220752385046126,
          27.221194294778776,
          12.487979203151633,
          12.50509829325546,
          34.61200599893399,
          -23.83996462031545
         ]
        },
        {
         "marker": {
          "color": "rgba(0, 255, 200, 0.8)"
         },
         "mode": "markers",
         "name": "Cluster 2",
         "type": "scatter",
         "x": [
          -12.768291506058977,
          -18.02631558508094,
          2.722718956981382,
          -11.143697690227386,
          21.946239208848272,
          7.406331800822839,
          9.119194880395348,
          15.340879514445541,
          -18.992233846508622,
          -7.301400461108631,
          27.765061700100727,
          19.01677698685782,
          37.28643730803766,
          36.72797306097788,
          -22.44233599124682,
          -19.61974014567526,
          0.8731165226685923,
          -6.81749046858016,
          -17.244885742616788,
          -12.36435973383263,
          -14.04470711939075,
          -20.593104669442006,
          29.95650337544608,
          -2.6888220377564305,
          -20.631624639962425,
          -17.535960782280245,
          -3.123940834627992,
          6.274478855806961,
          18.512526130013033,
          -13.411640992851583,
          25.81471879802957,
          35.98797064720858,
          -13.735056311111855,
          -15.135823942083553,
          23.730064074849746,
          7.388532668312568,
          19.523424853113976,
          0.5288366547874582,
          10.995789357193614,
          -1.9144609687543621,
          23.999335304637295,
          16.998845429997147,
          30.13832662516393,
          -11.521458096364723,
          10.288514872247127,
          8.9799978448573,
          54.92137665564131,
          -107.01742892363019,
          7.986490877220546,
          -8.7680527627292,
          12.390342842983213,
          -45.61885740067238,
          -65.94629095996419,
          -59.52913057440261,
          12.759389768459204,
          -29.052030136381838,
          -61.209886105218175,
          -44.13095616211433,
          8.887590936385616,
          161.18580973769662,
          -13.029019158782226,
          44.613602172266525,
          -27.591979865320514,
          -21.7910450559813,
          -43.37463990370919,
          -34.539164437374055,
          -71.55281277101003,
          -50.11528768577576,
          -25.06418956137174,
          -5.258776563199628,
          43.7875835266195,
          60.686457369084046,
          316.23367113744087,
          75.28633712565174,
          -51.54049450832734,
          7.7242122079250946,
          -39.49244904769972,
          23.9482077663766,
          4.50486742872948,
          147.66434601135379,
          -33.789379755311565,
          -62.864966165509536,
          67.65201349103764,
          162.0753613454606,
          -2.2086418081316888,
          59.723736869750866,
          -50.76915751240057,
          39.51551734574779,
          8.133708136212247,
          51.249313182780334,
          27.624271111226964,
          5.9814402301978715,
          80.90832109309164,
          -119.37094064460939,
          66.7392608436095,
          -1.5438150550157859,
          -16.744850143718754,
          -33.17557906643151,
          -17.794330411209447,
          -44.24663604626303,
          -3.7411890504003726,
          19.815053684063912,
          -50.008773117671396,
          34.30408536205667,
          21.377474252700782,
          -44.031520610961984,
          31.78306414672433,
          -50.43032058588429,
          35.82038755565324,
          24.15755631222934,
          47.13627035917489,
          -13.350941441427608,
          58.395583693560496,
          -12.438588271931737,
          -10.417033294895498,
          -14.228961117886795,
          -35.03230821359714,
          -38.69286290422545,
          -46.87568269612525,
          -38.6200052747419,
          72.44016298594906,
          -5.5064301785717715,
          -21.609140569491245,
          67.69569147727599,
          -28.959268352412145,
          64.02602019530215,
          -17.402880622625315,
          -49.76982811674624,
          86.96942383562569,
          -41.990547548395156,
          70.23797755048092,
          95.15347682140744,
          -49.86709617990327,
          -20.397209587477924,
          -147.2303475476825
         ],
         "y": [
          2.5609815386474035,
          20.857877240965635,
          -40.10630057937227,
          -29.170624050395915,
          -8.13155197197163,
          3.6207292042519286,
          7.202777751379734,
          -26.51007369270099,
          -21.853743759480828,
          -9.515913212195263,
          8.425195596040087,
          -22.565272765110667,
          -9.872961995066092,
          -11.513453785666297,
          -22.148159520447347,
          38.79355933900349,
          -21.026150514856084,
          1.9099399462235032,
          -11.013687556031362,
          -10.085900576770287,
          -31.01961925930562,
          -29.13722107730928,
          38.940147226100464,
          15.353787333871924,
          38.85360978407919,
          -16.804718771597596,
          22.41809616696874,
          5.99161516502006,
          38.29485523642977,
          -12.99341671049927,
          -3.746138207265524,
          9.651626425529114,
          -13.034054383137915,
          3.083655547099986,
          5.742020591263448,
          -11.884379407091474,
          48.971371530988655,
          -9.210653120368905,
          8.32033024644204,
          -31.374776410417564,
          40.183981763070385,
          5.514358734287577,
          7.534875646834677,
          -30.80114514880603,
          -7.24256679688478,
          -0.6632137365715027,
          -1.4560990232428408,
          -29.17960904073948,
          -12.292002652517825,
          5.462958273516181,
          -4.20723470349078,
          -8.420882284763834,
          -29.0691378540185,
          8.203891245572674,
          8.882272059265699,
          4.9769504359732375,
          -41.43726166781411,
          15.166945397125922,
          -1.9674156429699483,
          -1.6731701724202115,
          -26.948561672555464,
          24.426177725999136,
          -23.39750474908692,
          -9.624525173502175,
          -55.94497566656428,
          -18.3800021667276,
          28.74282822384926,
          14.377519489604786,
          -12.456618860362555,
          -6.878948085194635,
          29.08444118639037,
          -22.82177578504907,
          -12.291429168184981,
          41.40593011254864,
          -11.443991489677373,
          -27.276137608742232,
          -17.467788963665026,
          42.593246667496565,
          12.040822215385358,
          -6.1798363065086,
          20.576096161851783,
          44.03860958156884,
          -15.120596719746878,
          -1.0540568824625118,
          -28.281143122706464,
          -7.670588573355724,
          -26.199036153290173,
          -37.54336438759446,
          6.893240422308591,
          26.911583571729608,
          27.690592175273135,
          -13.010477868392812,
          2.388199691597991,
          -19.629831943582836,
          18.17341002767777,
          -1.0201789308020726,
          -35.97778778237075,
          -20.654396138503085,
          -13.202598182524392,
          -26.71420447828034,
          -3.3934811799999567,
          -27.14173099663596,
          -36.073040422638876,
          51.59616866138979,
          -20.71982441755661,
          2.638654773582583,
          -17.740997351611423,
          -18.87114366723918,
          45.1315098563295,
          -13.332452832034924,
          -16.440782981419996,
          -8.65667491449477,
          -16.93762413695589,
          5.723268529078169,
          77.25246387529597,
          -9.601116538613129,
          -19.136145283058017,
          10.116320436498142,
          20.888362397838122,
          -26.582684026568213,
          -1.970128617990108,
          -18.02536373189939,
          -22.44764117882917,
          21.66953780456818,
          15.31779566632376,
          27.815184022093852,
          0.9213408352963761,
          18.545995938828103,
          3.526109303682578,
          18.908517616701698,
          7.3028529960966955,
          -16.873738955114348,
          13.842435890272506,
          51.182958314296854,
          28.494569094041182
         ]
        }
       ],
       "layout": {
        "template": {
         "data": {
          "bar": [
           {
            "error_x": {
             "color": "#2a3f5f"
            },
            "error_y": {
             "color": "#2a3f5f"
            },
            "marker": {
             "line": {
              "color": "#E5ECF6",
              "width": 0.5
             },
             "pattern": {
              "fillmode": "overlay",
              "size": 10,
              "solidity": 0.2
             }
            },
            "type": "bar"
           }
          ],
          "barpolar": [
           {
            "marker": {
             "line": {
              "color": "#E5ECF6",
              "width": 0.5
             },
             "pattern": {
              "fillmode": "overlay",
              "size": 10,
              "solidity": 0.2
             }
            },
            "type": "barpolar"
           }
          ],
          "carpet": [
           {
            "aaxis": {
             "endlinecolor": "#2a3f5f",
             "gridcolor": "white",
             "linecolor": "white",
             "minorgridcolor": "white",
             "startlinecolor": "#2a3f5f"
            },
            "baxis": {
             "endlinecolor": "#2a3f5f",
             "gridcolor": "white",
             "linecolor": "white",
             "minorgridcolor": "white",
             "startlinecolor": "#2a3f5f"
            },
            "type": "carpet"
           }
          ],
          "choropleth": [
           {
            "colorbar": {
             "outlinewidth": 0,
             "ticks": ""
            },
            "type": "choropleth"
           }
          ],
          "contour": [
           {
            "colorbar": {
             "outlinewidth": 0,
             "ticks": ""
            },
            "colorscale": [
             [
              0,
              "#0d0887"
             ],
             [
              0.1111111111111111,
              "#46039f"
             ],
             [
              0.2222222222222222,
              "#7201a8"
             ],
             [
              0.3333333333333333,
              "#9c179e"
             ],
             [
              0.4444444444444444,
              "#bd3786"
             ],
             [
              0.5555555555555556,
              "#d8576b"
             ],
             [
              0.6666666666666666,
              "#ed7953"
             ],
             [
              0.7777777777777778,
              "#fb9f3a"
             ],
             [
              0.8888888888888888,
              "#fdca26"
             ],
             [
              1,
              "#f0f921"
             ]
            ],
            "type": "contour"
           }
          ],
          "contourcarpet": [
           {
            "colorbar": {
             "outlinewidth": 0,
             "ticks": ""
            },
            "type": "contourcarpet"
           }
          ],
          "heatmap": [
           {
            "colorbar": {
             "outlinewidth": 0,
             "ticks": ""
            },
            "colorscale": [
             [
              0,
              "#0d0887"
             ],
             [
              0.1111111111111111,
              "#46039f"
             ],
             [
              0.2222222222222222,
              "#7201a8"
             ],
             [
              0.3333333333333333,
              "#9c179e"
             ],
             [
              0.4444444444444444,
              "#bd3786"
             ],
             [
              0.5555555555555556,
              "#d8576b"
             ],
             [
              0.6666666666666666,
              "#ed7953"
             ],
             [
              0.7777777777777778,
              "#fb9f3a"
             ],
             [
              0.8888888888888888,
              "#fdca26"
             ],
             [
              1,
              "#f0f921"
             ]
            ],
            "type": "heatmap"
           }
          ],
          "heatmapgl": [
           {
            "colorbar": {
             "outlinewidth": 0,
             "ticks": ""
            },
            "colorscale": [
             [
              0,
              "#0d0887"
             ],
             [
              0.1111111111111111,
              "#46039f"
             ],
             [
              0.2222222222222222,
              "#7201a8"
             ],
             [
              0.3333333333333333,
              "#9c179e"
             ],
             [
              0.4444444444444444,
              "#bd3786"
             ],
             [
              0.5555555555555556,
              "#d8576b"
             ],
             [
              0.6666666666666666,
              "#ed7953"
             ],
             [
              0.7777777777777778,
              "#fb9f3a"
             ],
             [
              0.8888888888888888,
              "#fdca26"
             ],
             [
              1,
              "#f0f921"
             ]
            ],
            "type": "heatmapgl"
           }
          ],
          "histogram": [
           {
            "marker": {
             "pattern": {
              "fillmode": "overlay",
              "size": 10,
              "solidity": 0.2
             }
            },
            "type": "histogram"
           }
          ],
          "histogram2d": [
           {
            "colorbar": {
             "outlinewidth": 0,
             "ticks": ""
            },
            "colorscale": [
             [
              0,
              "#0d0887"
             ],
             [
              0.1111111111111111,
              "#46039f"
             ],
             [
              0.2222222222222222,
              "#7201a8"
             ],
             [
              0.3333333333333333,
              "#9c179e"
             ],
             [
              0.4444444444444444,
              "#bd3786"
             ],
             [
              0.5555555555555556,
              "#d8576b"
             ],
             [
              0.6666666666666666,
              "#ed7953"
             ],
             [
              0.7777777777777778,
              "#fb9f3a"
             ],
             [
              0.8888888888888888,
              "#fdca26"
             ],
             [
              1,
              "#f0f921"
             ]
            ],
            "type": "histogram2d"
           }
          ],
          "histogram2dcontour": [
           {
            "colorbar": {
             "outlinewidth": 0,
             "ticks": ""
            },
            "colorscale": [
             [
              0,
              "#0d0887"
             ],
             [
              0.1111111111111111,
              "#46039f"
             ],
             [
              0.2222222222222222,
              "#7201a8"
             ],
             [
              0.3333333333333333,
              "#9c179e"
             ],
             [
              0.4444444444444444,
              "#bd3786"
             ],
             [
              0.5555555555555556,
              "#d8576b"
             ],
             [
              0.6666666666666666,
              "#ed7953"
             ],
             [
              0.7777777777777778,
              "#fb9f3a"
             ],
             [
              0.8888888888888888,
              "#fdca26"
             ],
             [
              1,
              "#f0f921"
             ]
            ],
            "type": "histogram2dcontour"
           }
          ],
          "mesh3d": [
           {
            "colorbar": {
             "outlinewidth": 0,
             "ticks": ""
            },
            "type": "mesh3d"
           }
          ],
          "parcoords": [
           {
            "line": {
             "colorbar": {
              "outlinewidth": 0,
              "ticks": ""
             }
            },
            "type": "parcoords"
           }
          ],
          "pie": [
           {
            "automargin": true,
            "type": "pie"
           }
          ],
          "scatter": [
           {
            "fillpattern": {
             "fillmode": "overlay",
             "size": 10,
             "solidity": 0.2
            },
            "type": "scatter"
           }
          ],
          "scatter3d": [
           {
            "line": {
             "colorbar": {
              "outlinewidth": 0,
              "ticks": ""
             }
            },
            "marker": {
             "colorbar": {
              "outlinewidth": 0,
              "ticks": ""
             }
            },
            "type": "scatter3d"
           }
          ],
          "scattercarpet": [
           {
            "marker": {
             "colorbar": {
              "outlinewidth": 0,
              "ticks": ""
             }
            },
            "type": "scattercarpet"
           }
          ],
          "scattergeo": [
           {
            "marker": {
             "colorbar": {
              "outlinewidth": 0,
              "ticks": ""
             }
            },
            "type": "scattergeo"
           }
          ],
          "scattergl": [
           {
            "marker": {
             "colorbar": {
              "outlinewidth": 0,
              "ticks": ""
             }
            },
            "type": "scattergl"
           }
          ],
          "scattermapbox": [
           {
            "marker": {
             "colorbar": {
              "outlinewidth": 0,
              "ticks": ""
             }
            },
            "type": "scattermapbox"
           }
          ],
          "scatterpolar": [
           {
            "marker": {
             "colorbar": {
              "outlinewidth": 0,
              "ticks": ""
             }
            },
            "type": "scatterpolar"
           }
          ],
          "scatterpolargl": [
           {
            "marker": {
             "colorbar": {
              "outlinewidth": 0,
              "ticks": ""
             }
            },
            "type": "scatterpolargl"
           }
          ],
          "scatterternary": [
           {
            "marker": {
             "colorbar": {
              "outlinewidth": 0,
              "ticks": ""
             }
            },
            "type": "scatterternary"
           }
          ],
          "surface": [
           {
            "colorbar": {
             "outlinewidth": 0,
             "ticks": ""
            },
            "colorscale": [
             [
              0,
              "#0d0887"
             ],
             [
              0.1111111111111111,
              "#46039f"
             ],
             [
              0.2222222222222222,
              "#7201a8"
             ],
             [
              0.3333333333333333,
              "#9c179e"
             ],
             [
              0.4444444444444444,
              "#bd3786"
             ],
             [
              0.5555555555555556,
              "#d8576b"
             ],
             [
              0.6666666666666666,
              "#ed7953"
             ],
             [
              0.7777777777777778,
              "#fb9f3a"
             ],
             [
              0.8888888888888888,
              "#fdca26"
             ],
             [
              1,
              "#f0f921"
             ]
            ],
            "type": "surface"
           }
          ],
          "table": [
           {
            "cells": {
             "fill": {
              "color": "#EBF0F8"
             },
             "line": {
              "color": "white"
             }
            },
            "header": {
             "fill": {
              "color": "#C8D4E3"
             },
             "line": {
              "color": "white"
             }
            },
            "type": "table"
           }
          ]
         },
         "layout": {
          "annotationdefaults": {
           "arrowcolor": "#2a3f5f",
           "arrowhead": 0,
           "arrowwidth": 1
          },
          "autotypenumbers": "strict",
          "coloraxis": {
           "colorbar": {
            "outlinewidth": 0,
            "ticks": ""
           }
          },
          "colorscale": {
           "diverging": [
            [
             0,
             "#8e0152"
            ],
            [
             0.1,
             "#c51b7d"
            ],
            [
             0.2,
             "#de77ae"
            ],
            [
             0.3,
             "#f1b6da"
            ],
            [
             0.4,
             "#fde0ef"
            ],
            [
             0.5,
             "#f7f7f7"
            ],
            [
             0.6,
             "#e6f5d0"
            ],
            [
             0.7,
             "#b8e186"
            ],
            [
             0.8,
             "#7fbc41"
            ],
            [
             0.9,
             "#4d9221"
            ],
            [
             1,
             "#276419"
            ]
           ],
           "sequential": [
            [
             0,
             "#0d0887"
            ],
            [
             0.1111111111111111,
             "#46039f"
            ],
            [
             0.2222222222222222,
             "#7201a8"
            ],
            [
             0.3333333333333333,
             "#9c179e"
            ],
            [
             0.4444444444444444,
             "#bd3786"
            ],
            [
             0.5555555555555556,
             "#d8576b"
            ],
            [
             0.6666666666666666,
             "#ed7953"
            ],
            [
             0.7777777777777778,
             "#fb9f3a"
            ],
            [
             0.8888888888888888,
             "#fdca26"
            ],
            [
             1,
             "#f0f921"
            ]
           ],
           "sequentialminus": [
            [
             0,
             "#0d0887"
            ],
            [
             0.1111111111111111,
             "#46039f"
            ],
            [
             0.2222222222222222,
             "#7201a8"
            ],
            [
             0.3333333333333333,
             "#9c179e"
            ],
            [
             0.4444444444444444,
             "#bd3786"
            ],
            [
             0.5555555555555556,
             "#d8576b"
            ],
            [
             0.6666666666666666,
             "#ed7953"
            ],
            [
             0.7777777777777778,
             "#fb9f3a"
            ],
            [
             0.8888888888888888,
             "#fdca26"
            ],
            [
             1,
             "#f0f921"
            ]
           ]
          },
          "colorway": [
           "#636efa",
           "#EF553B",
           "#00cc96",
           "#ab63fa",
           "#FFA15A",
           "#19d3f3",
           "#FF6692",
           "#B6E880",
           "#FF97FF",
           "#FECB52"
          ],
          "font": {
           "color": "#2a3f5f"
          },
          "geo": {
           "bgcolor": "white",
           "lakecolor": "white",
           "landcolor": "#E5ECF6",
           "showlakes": true,
           "showland": true,
           "subunitcolor": "white"
          },
          "hoverlabel": {
           "align": "left"
          },
          "hovermode": "closest",
          "mapbox": {
           "style": "light"
          },
          "paper_bgcolor": "white",
          "plot_bgcolor": "#E5ECF6",
          "polar": {
           "angularaxis": {
            "gridcolor": "white",
            "linecolor": "white",
            "ticks": ""
           },
           "bgcolor": "#E5ECF6",
           "radialaxis": {
            "gridcolor": "white",
            "linecolor": "white",
            "ticks": ""
           }
          },
          "scene": {
           "xaxis": {
            "backgroundcolor": "#E5ECF6",
            "gridcolor": "white",
            "gridwidth": 2,
            "linecolor": "white",
            "showbackground": true,
            "ticks": "",
            "zerolinecolor": "white"
           },
           "yaxis": {
            "backgroundcolor": "#E5ECF6",
            "gridcolor": "white",
            "gridwidth": 2,
            "linecolor": "white",
            "showbackground": true,
            "ticks": "",
            "zerolinecolor": "white"
           },
           "zaxis": {
            "backgroundcolor": "#E5ECF6",
            "gridcolor": "white",
            "gridwidth": 2,
            "linecolor": "white",
            "showbackground": true,
            "ticks": "",
            "zerolinecolor": "white"
           }
          },
          "shapedefaults": {
           "line": {
            "color": "#2a3f5f"
           }
          },
          "ternary": {
           "aaxis": {
            "gridcolor": "white",
            "linecolor": "white",
            "ticks": ""
           },
           "baxis": {
            "gridcolor": "white",
            "linecolor": "white",
            "ticks": ""
           },
           "bgcolor": "#E5ECF6",
           "caxis": {
            "gridcolor": "white",
            "linecolor": "white",
            "ticks": ""
           }
          },
          "title": {
           "x": 0.05
          },
          "xaxis": {
           "automargin": true,
           "gridcolor": "white",
           "linecolor": "white",
           "ticks": "",
           "title": {
            "standoff": 15
           },
           "zerolinecolor": "white",
           "zerolinewidth": 2
          },
          "yaxis": {
           "automargin": true,
           "gridcolor": "white",
           "linecolor": "white",
           "ticks": "",
           "title": {
            "standoff": 15
           },
           "zerolinecolor": "white",
           "zerolinewidth": 2
          }
         }
        },
        "title": {
         "text": "Visualizing Clusters in Two Dimensions Using PCA"
        },
        "xaxis": {
         "ticklen": 5,
         "title": {
          "text": "PC1"
         },
         "zeroline": false
        },
        "yaxis": {
         "ticklen": 5,
         "title": {
          "text": "PC2"
         },
         "zeroline": false
        }
       }
      },
      "text/html": [
       "<div>                            <div id=\"ebffe094-44a1-429b-993a-960f221d2195\" class=\"plotly-graph-div\" style=\"height:525px; width:100%;\"></div>            <script type=\"text/javascript\">                require([\"plotly\"], function(Plotly) {                    window.PLOTLYENV=window.PLOTLYENV || {};                                    if (document.getElementById(\"ebffe094-44a1-429b-993a-960f221d2195\")) {                    Plotly.newPlot(                        \"ebffe094-44a1-429b-993a-960f221d2195\",                        [{\"marker\":{\"color\":\"rgba(255, 128, 255, 0.8)\"},\"mode\":\"markers\",\"name\":\"Cluster 0\",\"x\":[40.791124854674706,106.56629382887756,47.62245093124308,92.68449180862906,88.85142167809633,105.92613577001944,57.22705240500226,83.31747492390205,170.7267932901189,41.763674202521706,57.83664024597624,57.37354031527632,81.1351637262912,114.83098736278754,61.35021851578248,74.14006866523583,77.49699643446036,-80.9051152601506,17.530607644418062,-68.98100006814312,1.8881541652037477,16.033136923468707,7.611288109264378,-26.542406208301003,-9.050997405097679,-41.7757293008573,-7.99518672092174,1.8860813972145736,69.80001193055455,52.236576734092424,16.02955151463064,43.585692590088485,-1.3740964125621322,52.55503935676103,53.027835477632756,46.88216444287213,29.935174635801285,-33.80822801425255,-88.0470624361317,27.907010782649795,26.638078754725168,25.684343835494055,-7.551526265806121,-50.90841467067138,-36.04894839278513,-10.901501691620096,-3.472647978280278,-37.178917367639805,12.01336126133986,15.138780983275202,19.044606903582626,-44.17453412037657,21.964178490346697,-69.39589984909028,-24.662577087777592,-48.70187435566841,-80.20970559877733,-67.19269035307764,32.31740184091969,-42.556036836336126,-33.219963865532414,-69.18314599977916],\"y\":[45.749679088150806,-15.106417598038984,-2.704863243783853,-23.650659886451667,-6.441436961109037,16.450461443183293,-6.46421178210791,-18.8680677341089,-5.820683616391539,-8.154964793460588,6.024629959940577,-20.34552008663018,14.174244709054255,2.8292850267630105,7.0685172841064325,-34.20448657675981,-24.6223546575172,9.777494562839257,18.924866163637862,-10.033060293537435,4.618243958793397,52.14262750531504,24.121259309763662,1.7932817691516698,20.23388834942369,-34.56936753508535,-7.117469510816464,-33.86607615961774,-13.620852931777575,-26.294414185567753,20.649952369377267,7.615114548671359,52.351119355513816,-22.990431295212787,-21.63864692144252,-18.384423489050892,-1.0912683967818178,-11.04412047395845,7.433373569496039,62.64126528809969,-18.43735730425025,10.558102209015765,-47.15155864074734,-14.239907973618804,34.627187497764275,23.86455647956387,-14.670022083446348,-15.824183391913019,19.11689519168765,-5.877445466907667,-20.45075731585034,-9.786219532707594,-14.764182803977947,51.92310231494646,6.323122529218486,37.580320333258406,26.279517081636012,-2.7446018346985865,0.8765537498387418,-7.910269956100661,4.294822328206415,63.17662183953435],\"type\":\"scatter\"},{\"marker\":{\"color\":\"rgba(255, 128, 2, 0.8)\"},\"mode\":\"markers\",\"name\":\"Cluster 1\",\"x\":[-43.13014333457702,-43.28641086240522,-54.17595064150934,-45.63370444048753,-77.44998381964622,-36.528856554152625,-40.692392565374625,-28.4463384689994,-81.47947402511309,-70.83903560563215,-47.61236685149903,-33.572802868947186,-73.05936006737677,-49.81300620015452,-50.43643374301458,-69.93966959038002,-27.95549115322773,-76.18304602266477,-34.34255919311687,-69.35311616199365,-30.895965588491997,-59.518500765067415,-61.00149914792877,-51.00449688412726,-40.482554831960165,-15.595866985182266,5.818731415528459,-25.240688066895636,12.20910872906985,56.06328608312321,60.88218367763912,-17.846143932593833,60.99310163685644,93.5519765500449,-35.06620730647285,-63.83260550389856,83.1673565050111,-29.52006886788994,35.998266738088745,-37.7595314030619,10.553811082678218,14.716162707827793,3.4673616845651676,33.52514209691232,-2.1492682856859533,43.32244737359883,61.963470081933565,57.650774132958745,-0.466450717936545,41.19025339404688,-20.509072757488607,-15.084648909463837,-0.7734537090031457,0.9005050294331586,47.445745255825855,-10.762811673754516,62.27538134774251,-46.36209118544588,-32.82960245796315,-15.85003778999343,-54.1515590213075,56.18207647098235,24.854028550264207,-37.892668802648835,-42.09352193887367,-35.423974005373125,82.35950732170114,-98.63302298330576,22.08795537866653,38.419503431434414,1.2698730442009745,26.578209170351084,-28.14741149984049,16.04751994382096,47.437126677754,55.02062524696179,-0.019722439993548384,13.81752887646232,-5.865360148733172,-23.02014565271174,-16.95000235354806,-98.17238304179355,-42.34655211624939,-26.95386100874211,-13.426630916507097,6.021938210786536,-55.73001661490475,-19.654943394538453,-25.686550004574205,-7.209079291939992,-58.95844592526247,-90.49813254086364,-5.4269802330205215,15.604023422986447,-52.6118164587116,-115.7676933047127,-10.606471338727646],\"y\":[-24.527393651266625,-4.385930743648487,3.102519377304943,-7.594758413094788,-20.966843019406667,4.396161392708864,18.123906087065325,-10.569088364011646,29.920731976226495,25.756410116830555,-29.222964175072214,-4.3164316621934855,22.803223232780624,-2.811889674072773,-23.64547640172854,10.004812129268863,-39.73049054615154,-12.964524460238847,22.437535352477287,-10.255020563614458,18.376375708065833,34.4139406511838,-3.161081682353501,-31.223252817116702,-3.514918107373011,4.535156336715356,-20.35512751468646,-38.03625507770837,-38.6931131393422,-9.89559430258742,-9.916694489594327,-0.5006414057986002,5.6822732565792435,10.508568137739628,-13.530237084567052,-34.21369477092778,17.804363293141186,38.888416949330235,-21.742108031504664,-12.797645422319254,0.697884246363515,-35.566467821399904,-11.002966905659973,44.97435453601541,-17.73837554852689,-4.253098242878126,18.39857451903928,-9.53351679484053,23.357213408354646,-9.860421634448421,38.534673805093355,-0.9249225248063342,-23.63342987203652,34.140710175133925,44.08086830838343,-3.520614545644165,1.5593149425721549,23.87806321204966,-24.590447902926314,-7.3763270223877,-13.154819917534669,27.737129281667617,-30.56526412264094,-46.79721547422688,37.871400193298456,16.750928986027166,37.002975413346654,20.732857671060582,29.42336744517062,31.066464769520522,2.301866748187066,26.393959944523328,45.87844762587267,44.4074654574022,-9.939785917164134,-35.402385179829146,11.764476249173075,7.539040394507201,-3.2569982292044943,-30.81871797457526,16.676362642764452,24.84660373594085,-11.084805985094198,-4.508640258493205,-11.148412232281618,-30.635851241026373,-28.464764276885045,8.785275424548818,-13.130618332497948,-20.409513822871343,8.261176055038183,-35.220752385046126,27.221194294778776,12.487979203151633,12.50509829325546,34.61200599893399,-23.83996462031545],\"type\":\"scatter\"},{\"marker\":{\"color\":\"rgba(0, 255, 200, 0.8)\"},\"mode\":\"markers\",\"name\":\"Cluster 2\",\"x\":[-12.768291506058977,-18.02631558508094,2.722718956981382,-11.143697690227386,21.946239208848272,7.406331800822839,9.119194880395348,15.340879514445541,-18.992233846508622,-7.301400461108631,27.765061700100727,19.01677698685782,37.28643730803766,36.72797306097788,-22.44233599124682,-19.61974014567526,0.8731165226685923,-6.81749046858016,-17.244885742616788,-12.36435973383263,-14.04470711939075,-20.593104669442006,29.95650337544608,-2.6888220377564305,-20.631624639962425,-17.535960782280245,-3.123940834627992,6.274478855806961,18.512526130013033,-13.411640992851583,25.81471879802957,35.98797064720858,-13.735056311111855,-15.135823942083553,23.730064074849746,7.388532668312568,19.523424853113976,0.5288366547874582,10.995789357193614,-1.9144609687543621,23.999335304637295,16.998845429997147,30.13832662516393,-11.521458096364723,10.288514872247127,8.9799978448573,54.92137665564131,-107.01742892363019,7.986490877220546,-8.7680527627292,12.390342842983213,-45.61885740067238,-65.94629095996419,-59.52913057440261,12.759389768459204,-29.052030136381838,-61.209886105218175,-44.13095616211433,8.887590936385616,161.18580973769662,-13.029019158782226,44.613602172266525,-27.591979865320514,-21.7910450559813,-43.37463990370919,-34.539164437374055,-71.55281277101003,-50.11528768577576,-25.06418956137174,-5.258776563199628,43.7875835266195,60.686457369084046,316.23367113744087,75.28633712565174,-51.54049450832734,7.7242122079250946,-39.49244904769972,23.9482077663766,4.50486742872948,147.66434601135379,-33.789379755311565,-62.864966165509536,67.65201349103764,162.0753613454606,-2.2086418081316888,59.723736869750866,-50.76915751240057,39.51551734574779,8.133708136212247,51.249313182780334,27.624271111226964,5.9814402301978715,80.90832109309164,-119.37094064460939,66.7392608436095,-1.5438150550157859,-16.744850143718754,-33.17557906643151,-17.794330411209447,-44.24663604626303,-3.7411890504003726,19.815053684063912,-50.008773117671396,34.30408536205667,21.377474252700782,-44.031520610961984,31.78306414672433,-50.43032058588429,35.82038755565324,24.15755631222934,47.13627035917489,-13.350941441427608,58.395583693560496,-12.438588271931737,-10.417033294895498,-14.228961117886795,-35.03230821359714,-38.69286290422545,-46.87568269612525,-38.6200052747419,72.44016298594906,-5.5064301785717715,-21.609140569491245,67.69569147727599,-28.959268352412145,64.02602019530215,-17.402880622625315,-49.76982811674624,86.96942383562569,-41.990547548395156,70.23797755048092,95.15347682140744,-49.86709617990327,-20.397209587477924,-147.2303475476825],\"y\":[2.5609815386474035,20.857877240965635,-40.10630057937227,-29.170624050395915,-8.13155197197163,3.6207292042519286,7.202777751379734,-26.51007369270099,-21.853743759480828,-9.515913212195263,8.425195596040087,-22.565272765110667,-9.872961995066092,-11.513453785666297,-22.148159520447347,38.79355933900349,-21.026150514856084,1.9099399462235032,-11.013687556031362,-10.085900576770287,-31.01961925930562,-29.13722107730928,38.940147226100464,15.353787333871924,38.85360978407919,-16.804718771597596,22.41809616696874,5.99161516502006,38.29485523642977,-12.99341671049927,-3.746138207265524,9.651626425529114,-13.034054383137915,3.083655547099986,5.742020591263448,-11.884379407091474,48.971371530988655,-9.210653120368905,8.32033024644204,-31.374776410417564,40.183981763070385,5.514358734287577,7.534875646834677,-30.80114514880603,-7.24256679688478,-0.6632137365715027,-1.4560990232428408,-29.17960904073948,-12.292002652517825,5.462958273516181,-4.20723470349078,-8.420882284763834,-29.0691378540185,8.203891245572674,8.882272059265699,4.9769504359732375,-41.43726166781411,15.166945397125922,-1.9674156429699483,-1.6731701724202115,-26.948561672555464,24.426177725999136,-23.39750474908692,-9.624525173502175,-55.94497566656428,-18.3800021667276,28.74282822384926,14.377519489604786,-12.456618860362555,-6.878948085194635,29.08444118639037,-22.82177578504907,-12.291429168184981,41.40593011254864,-11.443991489677373,-27.276137608742232,-17.467788963665026,42.593246667496565,12.040822215385358,-6.1798363065086,20.576096161851783,44.03860958156884,-15.120596719746878,-1.0540568824625118,-28.281143122706464,-7.670588573355724,-26.199036153290173,-37.54336438759446,6.893240422308591,26.911583571729608,27.690592175273135,-13.010477868392812,2.388199691597991,-19.629831943582836,18.17341002767777,-1.0201789308020726,-35.97778778237075,-20.654396138503085,-13.202598182524392,-26.71420447828034,-3.3934811799999567,-27.14173099663596,-36.073040422638876,51.59616866138979,-20.71982441755661,2.638654773582583,-17.740997351611423,-18.87114366723918,45.1315098563295,-13.332452832034924,-16.440782981419996,-8.65667491449477,-16.93762413695589,5.723268529078169,77.25246387529597,-9.601116538613129,-19.136145283058017,10.116320436498142,20.888362397838122,-26.582684026568213,-1.970128617990108,-18.02536373189939,-22.44764117882917,21.66953780456818,15.31779566632376,27.815184022093852,0.9213408352963761,18.545995938828103,3.526109303682578,18.908517616701698,7.3028529960966955,-16.873738955114348,13.842435890272506,51.182958314296854,28.494569094041182],\"type\":\"scatter\"}],                        {\"template\":{\"data\":{\"barpolar\":[{\"marker\":{\"line\":{\"color\":\"#E5ECF6\",\"width\":0.5},\"pattern\":{\"fillmode\":\"overlay\",\"size\":10,\"solidity\":0.2}},\"type\":\"barpolar\"}],\"bar\":[{\"error_x\":{\"color\":\"#2a3f5f\"},\"error_y\":{\"color\":\"#2a3f5f\"},\"marker\":{\"line\":{\"color\":\"#E5ECF6\",\"width\":0.5},\"pattern\":{\"fillmode\":\"overlay\",\"size\":10,\"solidity\":0.2}},\"type\":\"bar\"}],\"carpet\":[{\"aaxis\":{\"endlinecolor\":\"#2a3f5f\",\"gridcolor\":\"white\",\"linecolor\":\"white\",\"minorgridcolor\":\"white\",\"startlinecolor\":\"#2a3f5f\"},\"baxis\":{\"endlinecolor\":\"#2a3f5f\",\"gridcolor\":\"white\",\"linecolor\":\"white\",\"minorgridcolor\":\"white\",\"startlinecolor\":\"#2a3f5f\"},\"type\":\"carpet\"}],\"choropleth\":[{\"colorbar\":{\"outlinewidth\":0,\"ticks\":\"\"},\"type\":\"choropleth\"}],\"contourcarpet\":[{\"colorbar\":{\"outlinewidth\":0,\"ticks\":\"\"},\"type\":\"contourcarpet\"}],\"contour\":[{\"colorbar\":{\"outlinewidth\":0,\"ticks\":\"\"},\"colorscale\":[[0.0,\"#0d0887\"],[0.1111111111111111,\"#46039f\"],[0.2222222222222222,\"#7201a8\"],[0.3333333333333333,\"#9c179e\"],[0.4444444444444444,\"#bd3786\"],[0.5555555555555556,\"#d8576b\"],[0.6666666666666666,\"#ed7953\"],[0.7777777777777778,\"#fb9f3a\"],[0.8888888888888888,\"#fdca26\"],[1.0,\"#f0f921\"]],\"type\":\"contour\"}],\"heatmapgl\":[{\"colorbar\":{\"outlinewidth\":0,\"ticks\":\"\"},\"colorscale\":[[0.0,\"#0d0887\"],[0.1111111111111111,\"#46039f\"],[0.2222222222222222,\"#7201a8\"],[0.3333333333333333,\"#9c179e\"],[0.4444444444444444,\"#bd3786\"],[0.5555555555555556,\"#d8576b\"],[0.6666666666666666,\"#ed7953\"],[0.7777777777777778,\"#fb9f3a\"],[0.8888888888888888,\"#fdca26\"],[1.0,\"#f0f921\"]],\"type\":\"heatmapgl\"}],\"heatmap\":[{\"colorbar\":{\"outlinewidth\":0,\"ticks\":\"\"},\"colorscale\":[[0.0,\"#0d0887\"],[0.1111111111111111,\"#46039f\"],[0.2222222222222222,\"#7201a8\"],[0.3333333333333333,\"#9c179e\"],[0.4444444444444444,\"#bd3786\"],[0.5555555555555556,\"#d8576b\"],[0.6666666666666666,\"#ed7953\"],[0.7777777777777778,\"#fb9f3a\"],[0.8888888888888888,\"#fdca26\"],[1.0,\"#f0f921\"]],\"type\":\"heatmap\"}],\"histogram2dcontour\":[{\"colorbar\":{\"outlinewidth\":0,\"ticks\":\"\"},\"colorscale\":[[0.0,\"#0d0887\"],[0.1111111111111111,\"#46039f\"],[0.2222222222222222,\"#7201a8\"],[0.3333333333333333,\"#9c179e\"],[0.4444444444444444,\"#bd3786\"],[0.5555555555555556,\"#d8576b\"],[0.6666666666666666,\"#ed7953\"],[0.7777777777777778,\"#fb9f3a\"],[0.8888888888888888,\"#fdca26\"],[1.0,\"#f0f921\"]],\"type\":\"histogram2dcontour\"}],\"histogram2d\":[{\"colorbar\":{\"outlinewidth\":0,\"ticks\":\"\"},\"colorscale\":[[0.0,\"#0d0887\"],[0.1111111111111111,\"#46039f\"],[0.2222222222222222,\"#7201a8\"],[0.3333333333333333,\"#9c179e\"],[0.4444444444444444,\"#bd3786\"],[0.5555555555555556,\"#d8576b\"],[0.6666666666666666,\"#ed7953\"],[0.7777777777777778,\"#fb9f3a\"],[0.8888888888888888,\"#fdca26\"],[1.0,\"#f0f921\"]],\"type\":\"histogram2d\"}],\"histogram\":[{\"marker\":{\"pattern\":{\"fillmode\":\"overlay\",\"size\":10,\"solidity\":0.2}},\"type\":\"histogram\"}],\"mesh3d\":[{\"colorbar\":{\"outlinewidth\":0,\"ticks\":\"\"},\"type\":\"mesh3d\"}],\"parcoords\":[{\"line\":{\"colorbar\":{\"outlinewidth\":0,\"ticks\":\"\"}},\"type\":\"parcoords\"}],\"pie\":[{\"automargin\":true,\"type\":\"pie\"}],\"scatter3d\":[{\"line\":{\"colorbar\":{\"outlinewidth\":0,\"ticks\":\"\"}},\"marker\":{\"colorbar\":{\"outlinewidth\":0,\"ticks\":\"\"}},\"type\":\"scatter3d\"}],\"scattercarpet\":[{\"marker\":{\"colorbar\":{\"outlinewidth\":0,\"ticks\":\"\"}},\"type\":\"scattercarpet\"}],\"scattergeo\":[{\"marker\":{\"colorbar\":{\"outlinewidth\":0,\"ticks\":\"\"}},\"type\":\"scattergeo\"}],\"scattergl\":[{\"marker\":{\"colorbar\":{\"outlinewidth\":0,\"ticks\":\"\"}},\"type\":\"scattergl\"}],\"scattermapbox\":[{\"marker\":{\"colorbar\":{\"outlinewidth\":0,\"ticks\":\"\"}},\"type\":\"scattermapbox\"}],\"scatterpolargl\":[{\"marker\":{\"colorbar\":{\"outlinewidth\":0,\"ticks\":\"\"}},\"type\":\"scatterpolargl\"}],\"scatterpolar\":[{\"marker\":{\"colorbar\":{\"outlinewidth\":0,\"ticks\":\"\"}},\"type\":\"scatterpolar\"}],\"scatter\":[{\"fillpattern\":{\"fillmode\":\"overlay\",\"size\":10,\"solidity\":0.2},\"type\":\"scatter\"}],\"scatterternary\":[{\"marker\":{\"colorbar\":{\"outlinewidth\":0,\"ticks\":\"\"}},\"type\":\"scatterternary\"}],\"surface\":[{\"colorbar\":{\"outlinewidth\":0,\"ticks\":\"\"},\"colorscale\":[[0.0,\"#0d0887\"],[0.1111111111111111,\"#46039f\"],[0.2222222222222222,\"#7201a8\"],[0.3333333333333333,\"#9c179e\"],[0.4444444444444444,\"#bd3786\"],[0.5555555555555556,\"#d8576b\"],[0.6666666666666666,\"#ed7953\"],[0.7777777777777778,\"#fb9f3a\"],[0.8888888888888888,\"#fdca26\"],[1.0,\"#f0f921\"]],\"type\":\"surface\"}],\"table\":[{\"cells\":{\"fill\":{\"color\":\"#EBF0F8\"},\"line\":{\"color\":\"white\"}},\"header\":{\"fill\":{\"color\":\"#C8D4E3\"},\"line\":{\"color\":\"white\"}},\"type\":\"table\"}]},\"layout\":{\"annotationdefaults\":{\"arrowcolor\":\"#2a3f5f\",\"arrowhead\":0,\"arrowwidth\":1},\"autotypenumbers\":\"strict\",\"coloraxis\":{\"colorbar\":{\"outlinewidth\":0,\"ticks\":\"\"}},\"colorscale\":{\"diverging\":[[0,\"#8e0152\"],[0.1,\"#c51b7d\"],[0.2,\"#de77ae\"],[0.3,\"#f1b6da\"],[0.4,\"#fde0ef\"],[0.5,\"#f7f7f7\"],[0.6,\"#e6f5d0\"],[0.7,\"#b8e186\"],[0.8,\"#7fbc41\"],[0.9,\"#4d9221\"],[1,\"#276419\"]],\"sequential\":[[0.0,\"#0d0887\"],[0.1111111111111111,\"#46039f\"],[0.2222222222222222,\"#7201a8\"],[0.3333333333333333,\"#9c179e\"],[0.4444444444444444,\"#bd3786\"],[0.5555555555555556,\"#d8576b\"],[0.6666666666666666,\"#ed7953\"],[0.7777777777777778,\"#fb9f3a\"],[0.8888888888888888,\"#fdca26\"],[1.0,\"#f0f921\"]],\"sequentialminus\":[[0.0,\"#0d0887\"],[0.1111111111111111,\"#46039f\"],[0.2222222222222222,\"#7201a8\"],[0.3333333333333333,\"#9c179e\"],[0.4444444444444444,\"#bd3786\"],[0.5555555555555556,\"#d8576b\"],[0.6666666666666666,\"#ed7953\"],[0.7777777777777778,\"#fb9f3a\"],[0.8888888888888888,\"#fdca26\"],[1.0,\"#f0f921\"]]},\"colorway\":[\"#636efa\",\"#EF553B\",\"#00cc96\",\"#ab63fa\",\"#FFA15A\",\"#19d3f3\",\"#FF6692\",\"#B6E880\",\"#FF97FF\",\"#FECB52\"],\"font\":{\"color\":\"#2a3f5f\"},\"geo\":{\"bgcolor\":\"white\",\"lakecolor\":\"white\",\"landcolor\":\"#E5ECF6\",\"showlakes\":true,\"showland\":true,\"subunitcolor\":\"white\"},\"hoverlabel\":{\"align\":\"left\"},\"hovermode\":\"closest\",\"mapbox\":{\"style\":\"light\"},\"paper_bgcolor\":\"white\",\"plot_bgcolor\":\"#E5ECF6\",\"polar\":{\"angularaxis\":{\"gridcolor\":\"white\",\"linecolor\":\"white\",\"ticks\":\"\"},\"bgcolor\":\"#E5ECF6\",\"radialaxis\":{\"gridcolor\":\"white\",\"linecolor\":\"white\",\"ticks\":\"\"}},\"scene\":{\"xaxis\":{\"backgroundcolor\":\"#E5ECF6\",\"gridcolor\":\"white\",\"gridwidth\":2,\"linecolor\":\"white\",\"showbackground\":true,\"ticks\":\"\",\"zerolinecolor\":\"white\"},\"yaxis\":{\"backgroundcolor\":\"#E5ECF6\",\"gridcolor\":\"white\",\"gridwidth\":2,\"linecolor\":\"white\",\"showbackground\":true,\"ticks\":\"\",\"zerolinecolor\":\"white\"},\"zaxis\":{\"backgroundcolor\":\"#E5ECF6\",\"gridcolor\":\"white\",\"gridwidth\":2,\"linecolor\":\"white\",\"showbackground\":true,\"ticks\":\"\",\"zerolinecolor\":\"white\"}},\"shapedefaults\":{\"line\":{\"color\":\"#2a3f5f\"}},\"ternary\":{\"aaxis\":{\"gridcolor\":\"white\",\"linecolor\":\"white\",\"ticks\":\"\"},\"baxis\":{\"gridcolor\":\"white\",\"linecolor\":\"white\",\"ticks\":\"\"},\"bgcolor\":\"#E5ECF6\",\"caxis\":{\"gridcolor\":\"white\",\"linecolor\":\"white\",\"ticks\":\"\"}},\"title\":{\"x\":0.05},\"xaxis\":{\"automargin\":true,\"gridcolor\":\"white\",\"linecolor\":\"white\",\"ticks\":\"\",\"title\":{\"standoff\":15},\"zerolinecolor\":\"white\",\"zerolinewidth\":2},\"yaxis\":{\"automargin\":true,\"gridcolor\":\"white\",\"linecolor\":\"white\",\"ticks\":\"\",\"title\":{\"standoff\":15},\"zerolinecolor\":\"white\",\"zerolinewidth\":2}}},\"title\":{\"text\":\"Visualizing Clusters in Two Dimensions Using PCA\"},\"xaxis\":{\"ticklen\":5,\"title\":{\"text\":\"PC1\"},\"zeroline\":false},\"yaxis\":{\"ticklen\":5,\"title\":{\"text\":\"PC2\"},\"zeroline\":false}},                        {\"responsive\": true}                    ).then(function(){\n",
       "                            \n",
       "var gd = document.getElementById('ebffe094-44a1-429b-993a-960f221d2195');\n",
       "var x = new MutationObserver(function (mutations, observer) {{\n",
       "        var display = window.getComputedStyle(gd).display;\n",
       "        if (!display || display === 'none') {{\n",
       "            console.log([gd, 'removed!']);\n",
       "            Plotly.purge(gd);\n",
       "            observer.disconnect();\n",
       "        }}\n",
       "}});\n",
       "\n",
       "// Listen for the removal of the full notebook cells\n",
       "var notebookContainer = gd.closest('#notebook-container');\n",
       "if (notebookContainer) {{\n",
       "    x.observe(notebookContainer, {childList: true});\n",
       "}}\n",
       "\n",
       "// Listen for the clearing of the current output cell\n",
       "var outputEl = gd.closest('.output');\n",
       "if (outputEl) {{\n",
       "    x.observe(outputEl, {childList: true});\n",
       "}}\n",
       "\n",
       "                        })                };                });            </script>        </div>"
      ]
     },
     "metadata": {},
     "output_type": "display_data"
    }
   ],
   "source": [
    "iplot(fig)"
   ]
  },
  {
   "cell_type": "markdown",
   "metadata": {},
   "source": [
    "### ...for processed data"
   ]
  },
  {
   "cell_type": "code",
   "execution_count": 55,
   "metadata": {},
   "outputs": [],
   "source": [
    "PCs_2d_proc = pd.DataFrame(pca_2d.fit_transform(dat_preproc.drop([\"Clusters\"], axis=1)))"
   ]
  },
  {
   "cell_type": "code",
   "execution_count": 56,
   "metadata": {},
   "outputs": [],
   "source": [
    "PCs_2d_proc.columns = [\"PC1\", \"PC2\"]"
   ]
  },
  {
   "cell_type": "code",
   "execution_count": 57,
   "metadata": {},
   "outputs": [],
   "source": [
    "plotData_proc = pd.concat([dat_preproc, PCs_2d], axis=1, join=\"inner\")"
   ]
  },
  {
   "cell_type": "code",
   "execution_count": 58,
   "metadata": {},
   "outputs": [],
   "source": [
    "x_proc = SubClusterDF(k, plotData_proc)"
   ]
  },
  {
   "cell_type": "code",
   "execution_count": 59,
   "metadata": {},
   "outputs": [],
   "source": [
    "traces_proc = SubScatterCluster(clusters=x_proc, cols=colors)"
   ]
  },
  {
   "cell_type": "code",
   "execution_count": 60,
   "metadata": {},
   "outputs": [],
   "source": [
    "fig_proc = dict(data=traces_proc, layout=layout)"
   ]
  },
  {
   "cell_type": "code",
   "execution_count": 61,
   "metadata": {},
   "outputs": [
    {
     "data": {
      "application/vnd.plotly.v1+json": {
       "config": {
        "linkText": "Export to plot.ly",
        "plotlyServerURL": "https://plot.ly",
        "showLink": false
       },
       "data": [
        {
         "marker": {
          "color": "rgba(255, 128, 255, 0.8)"
         },
         "mode": "markers",
         "name": "Cluster 0",
         "type": "scatter",
         "x": [
          2.722718956981382,
          -43.13014333457702,
          -11.143697690227386,
          15.340879514445541,
          -18.992233846508622,
          19.01677698685782,
          -28.4463384689994,
          0.8731165226685923,
          -17.244885742616788,
          -14.04470711939075,
          -20.593104669442006,
          -47.61236685149903,
          -73.05936006737677,
          -49.81300620015452,
          -50.43643374301458,
          41.763674202521706,
          -27.95549115322773,
          -13.411640992851583,
          -76.18304602266477,
          -69.35311616199365,
          -51.00449688412726,
          -1.9144609687543621,
          -40.482554831960165,
          74.14006866523583,
          -11.521458096364723,
          10.288514872247127,
          -107.01742892363019,
          -45.61885740067238,
          -25.240688066895636,
          12.20910872906985,
          -65.94629095996419,
          -59.52913057440261,
          60.88218367763912,
          -17.846143932593833,
          -29.052030136381838,
          -61.209886105218175,
          -44.13095616211433,
          -63.83260550389856,
          8.887590936385616,
          -26.542406208301003,
          -13.029019158782226,
          -27.591979865320514,
          -21.7910450559813,
          -43.37463990370919,
          14.716162707827793,
          -34.539164437374055,
          -50.11528768577576,
          -2.1492682856859533,
          -41.7757293008573,
          -7.99518672092174,
          -5.258776563199628,
          1.8860813972145736,
          60.686457369084046,
          16.02955151463064,
          -51.54049450832734,
          -33.80822801425255,
          7.7242122079250946,
          -39.49244904769972,
          -88.0470624361317,
          -15.084648909463837,
          67.65201349103764,
          -0.7734537090031457,
          26.638078754725168,
          -2.2086418081316888,
          -7.551526265806121,
          -50.90841467067138,
          -10.762811673754516,
          -3.472647978280278,
          5.9814402301978715,
          -119.37094064460939,
          -37.178917367639805,
          15.138780983275202,
          -32.82960245796315,
          -16.744850143718754,
          -33.17557906643151,
          -17.794330411209447,
          -54.1515590213075,
          -44.24663604626303,
          -3.7411890504003726,
          19.815053684063912,
          19.044606903582626,
          -50.008773117671396,
          -37.892668802648835,
          -44.031520610961984,
          -42.09352193887367,
          -50.43032058588429,
          -98.63302298330576,
          1.2698730442009745,
          24.15755631222934,
          47.13627035917489,
          -13.350941441427608,
          58.395583693560496,
          21.964178490346697,
          -14.228961117886795,
          26.578209170351084,
          -35.03230821359714,
          47.437126677754,
          55.02062524696179,
          -38.6200052747419,
          -5.865360148733172,
          -21.609140569491245,
          -23.02014565271174,
          -67.19269035307764,
          -42.34655211624939,
          -26.95386100874211,
          6.021938210786536,
          -55.73001661490475,
          -7.209079291939992,
          -90.49813254086364,
          15.604023422986447,
          -10.606471338727646
         ],
         "y": [
          -40.10630057937227,
          -24.527393651266625,
          -29.170624050395915,
          -26.51007369270099,
          -21.853743759480828,
          -22.565272765110667,
          -10.569088364011646,
          -21.026150514856084,
          -11.013687556031362,
          -31.01961925930562,
          -29.13722107730928,
          -29.222964175072214,
          22.803223232780624,
          -2.811889674072773,
          -23.64547640172854,
          -8.154964793460588,
          -39.73049054615154,
          -12.99341671049927,
          -12.964524460238847,
          -10.255020563614458,
          -31.223252817116702,
          -31.374776410417564,
          -3.514918107373011,
          -34.20448657675981,
          -30.80114514880603,
          -7.24256679688478,
          -29.17960904073948,
          -8.420882284763834,
          -38.03625507770837,
          -38.6931131393422,
          -29.0691378540185,
          8.203891245572674,
          -9.916694489594327,
          -0.5006414057986002,
          4.9769504359732375,
          -41.43726166781411,
          15.166945397125922,
          -34.21369477092778,
          -1.9674156429699483,
          1.7932817691516698,
          -26.948561672555464,
          -23.39750474908692,
          -9.624525173502175,
          -55.94497566656428,
          -35.566467821399904,
          -18.3800021667276,
          14.377519489604786,
          -17.73837554852689,
          -34.56936753508535,
          -7.117469510816464,
          -6.878948085194635,
          -33.86607615961774,
          -22.82177578504907,
          20.649952369377267,
          -11.443991489677373,
          -11.04412047395845,
          -27.276137608742232,
          -17.467788963665026,
          7.433373569496039,
          -0.9249225248063342,
          -15.120596719746878,
          -23.63342987203652,
          -18.43735730425025,
          -28.281143122706464,
          -47.15155864074734,
          -14.239907973618804,
          -3.520614545644165,
          -14.670022083446348,
          -13.010477868392812,
          -19.629831943582836,
          -15.824183391913019,
          -5.877445466907667,
          -24.590447902926314,
          -35.97778778237075,
          -20.654396138503085,
          -13.202598182524392,
          -13.154819917534669,
          -26.71420447828034,
          -3.3934811799999567,
          -27.14173099663596,
          -20.45075731585034,
          -36.073040422638876,
          -46.79721547422688,
          2.638654773582583,
          37.871400193298456,
          -18.87114366723918,
          20.732857671060582,
          2.301866748187066,
          -13.332452832034924,
          -16.440782981419996,
          -8.65667491449477,
          -16.93762413695589,
          -14.764182803977947,
          -9.601116538613129,
          26.393959944523328,
          -19.136145283058017,
          -9.939785917164134,
          -35.402385179829146,
          -26.582684026568213,
          -3.2569982292044943,
          -22.44764117882917,
          -30.81871797457526,
          -2.7446018346985865,
          -11.084805985094198,
          -4.508640258493205,
          -30.635851241026373,
          -28.464764276885045,
          -20.409513822871343,
          -35.220752385046126,
          12.487979203151633,
          -23.83996462031545
         ]
        },
        {
         "marker": {
          "color": "rgba(255, 128, 2, 0.8)"
         },
         "mode": "markers",
         "name": "Cluster 1",
         "type": "scatter",
         "x": [
          -12.768291506058977,
          40.791124854674706,
          -18.02631558508094,
          21.946239208848272,
          7.406331800822839,
          -43.28641086240522,
          -36.528856554152625,
          -22.44233599124682,
          -40.692392565374625,
          -19.61974014567526,
          -81.47947402511309,
          -70.83903560563215,
          29.95650337544608,
          -20.631624639962425,
          -17.535960782280245,
          -3.123940834627992,
          6.274478855806961,
          18.512526130013033,
          -34.34255919311687,
          -30.895965588491997,
          -59.518500765067415,
          35.98797064720858,
          -61.00149914792877,
          81.1351637262912,
          -15.135823942083553,
          19.523424853113976,
          10.995789357193614,
          23.999335304637295,
          -80.9051152601506,
          -15.595866985182266,
          -8.7680527627292,
          12.390342842983213,
          12.759389768459204,
          1.8881541652037477,
          93.5519765500449,
          16.033136923468707,
          7.611288109264378,
          161.18580973769662,
          -29.52006886788994,
          44.613602172266525,
          -9.050997405097679,
          -71.55281277101003,
          33.52514209691232,
          -1.3740964125621322,
          75.28633712565174,
          -0.466450717936545,
          23.9482077663766,
          -33.789379755311565,
          27.907010782649795,
          -62.864966165509536,
          25.684343835494055,
          8.133708136212247,
          51.249313182780334,
          47.445745255825855,
          -36.04894839278513,
          12.01336126133986,
          -46.36209118544588,
          -1.5438150550157859,
          56.18207647098235,
          34.30408536205667,
          82.35950732170114,
          38.419503431434414,
          35.82038755565324,
          -12.438588271931737,
          -69.39589984909028,
          -10.417033294895498,
          -46.87568269612525,
          -28.14741149984049,
          -48.70187435566841,
          -80.20970559877733,
          -28.959268352412145,
          -16.95000235354806,
          64.02602019530215,
          -98.17238304179355,
          -49.76982811674624,
          86.96942383562569,
          -41.990547548395156,
          70.23797755048092,
          -19.654943394538453,
          -58.95844592526247,
          -69.18314599977916,
          -5.4269802330205215,
          -52.6118164587116,
          -115.7676933047127,
          -20.397209587477924,
          -147.2303475476825
         ],
         "y": [
          2.5609815386474035,
          45.749679088150806,
          20.857877240965635,
          -8.13155197197163,
          3.6207292042519286,
          -4.385930743648487,
          4.396161392708864,
          -22.148159520447347,
          18.123906087065325,
          38.79355933900349,
          29.920731976226495,
          25.756410116830555,
          38.940147226100464,
          38.85360978407919,
          -16.804718771597596,
          22.41809616696874,
          5.99161516502006,
          38.29485523642977,
          22.437535352477287,
          18.376375708065833,
          34.4139406511838,
          9.651626425529114,
          -3.161081682353501,
          14.174244709054255,
          3.083655547099986,
          48.971371530988655,
          8.32033024644204,
          40.183981763070385,
          9.777494562839257,
          4.535156336715356,
          5.462958273516181,
          -4.20723470349078,
          8.882272059265699,
          4.618243958793397,
          10.508568137739628,
          52.14262750531504,
          24.121259309763662,
          -1.6731701724202115,
          38.888416949330235,
          24.426177725999136,
          20.23388834942369,
          28.74282822384926,
          44.97435453601541,
          52.351119355513816,
          41.40593011254864,
          23.357213408354646,
          42.593246667496565,
          20.576096161851783,
          62.64126528809969,
          44.03860958156884,
          10.558102209015765,
          6.893240422308591,
          26.911583571729608,
          44.08086830838343,
          34.627187497764275,
          19.11689519168765,
          23.87806321204966,
          -1.0201789308020726,
          27.737129281667617,
          51.59616866138979,
          37.002975413346654,
          31.066464769520522,
          45.1315098563295,
          5.723268529078169,
          51.92310231494646,
          77.25246387529597,
          20.888362397838122,
          45.87844762587267,
          37.580320333258406,
          26.279517081636012,
          15.31779566632376,
          16.676362642764452,
          27.815184022093852,
          24.84660373594085,
          18.545995938828103,
          3.526109303682578,
          18.908517616701698,
          7.3028529960966955,
          8.785275424548818,
          8.261176055038183,
          63.17662183953435,
          27.221194294778776,
          12.50509829325546,
          34.61200599893399,
          51.182958314296854,
          28.494569094041182
         ]
        },
        {
         "marker": {
          "color": "rgba(0, 255, 200, 0.8)"
         },
         "mode": "markers",
         "name": "Cluster 2",
         "type": "scatter",
         "x": [
          106.56629382887756,
          -54.17595064150934,
          47.62245093124308,
          9.119194880395348,
          -45.63370444048753,
          -77.44998381964622,
          -7.301400461108631,
          27.765061700100727,
          37.28643730803766,
          36.72797306097788,
          92.68449180862906,
          -6.81749046858016,
          88.85142167809633,
          -12.36435973383263,
          105.92613577001944,
          -2.6888220377564305,
          57.22705240500226,
          -33.572802868947186,
          83.31747492390205,
          170.7267932901189,
          -69.93966959038002,
          25.81471879802957,
          57.83664024597624,
          57.37354031527632,
          -13.735056311111855,
          23.730064074849746,
          7.388532668312568,
          0.5288366547874582,
          114.83098736278754,
          61.35021851578248,
          16.998845429997147,
          30.13832662516393,
          77.49699643446036,
          8.9799978448573,
          54.92137665564131,
          5.818731415528459,
          7.986490877220546,
          56.06328608312321,
          17.530607644418062,
          -68.98100006814312,
          60.99310163685644,
          -35.06620730647285,
          83.1673565050111,
          35.998266738088745,
          -37.7595314030619,
          10.553811082678218,
          3.4673616845651676,
          -25.06418956137174,
          43.32244737359883,
          61.963470081933565,
          43.7875835266195,
          69.80001193055455,
          52.236576734092424,
          316.23367113744087,
          43.585692590088485,
          52.55503935676103,
          53.027835477632756,
          46.88216444287213,
          29.935174635801285,
          57.650774132958745,
          41.19025339404688,
          -20.509072757488607,
          4.50486742872948,
          147.66434601135379,
          162.0753613454606,
          59.723736869750866,
          -50.76915751240057,
          0.9005050294331586,
          39.51551734574779,
          -10.901501691620096,
          27.624271111226964,
          80.90832109309164,
          66.7392608436095,
          62.27538134774251,
          -15.85003778999343,
          24.854028550264207,
          21.377474252700782,
          31.78306414672433,
          -35.423974005373125,
          22.08795537866653,
          -44.17453412037657,
          -38.69286290422545,
          16.04751994382096,
          -24.662577087777592,
          -0.019722439993548384,
          13.81752887646232,
          72.44016298594906,
          -5.5064301785717715,
          67.69569147727599,
          -17.402880622625315,
          32.31740184091969,
          -13.426630916507097,
          -42.556036836336126,
          -25.686550004574205,
          -33.219963865532414,
          95.15347682140744,
          -49.86709617990327
         ],
         "y": [
          -15.106417598038984,
          3.102519377304943,
          -2.704863243783853,
          7.202777751379734,
          -7.594758413094788,
          -20.966843019406667,
          -9.515913212195263,
          8.425195596040087,
          -9.872961995066092,
          -11.513453785666297,
          -23.650659886451667,
          1.9099399462235032,
          -6.441436961109037,
          -10.085900576770287,
          16.450461443183293,
          15.353787333871924,
          -6.46421178210791,
          -4.3164316621934855,
          -18.8680677341089,
          -5.820683616391539,
          10.004812129268863,
          -3.746138207265524,
          6.024629959940577,
          -20.34552008663018,
          -13.034054383137915,
          5.742020591263448,
          -11.884379407091474,
          -9.210653120368905,
          2.8292850267630105,
          7.0685172841064325,
          5.514358734287577,
          7.534875646834677,
          -24.6223546575172,
          -0.6632137365715027,
          -1.4560990232428408,
          -20.35512751468646,
          -12.292002652517825,
          -9.89559430258742,
          18.924866163637862,
          -10.033060293537435,
          5.6822732565792435,
          -13.530237084567052,
          17.804363293141186,
          -21.742108031504664,
          -12.797645422319254,
          0.697884246363515,
          -11.002966905659973,
          -12.456618860362555,
          -4.253098242878126,
          18.39857451903928,
          29.08444118639037,
          -13.620852931777575,
          -26.294414185567753,
          -12.291429168184981,
          7.615114548671359,
          -22.990431295212787,
          -21.63864692144252,
          -18.384423489050892,
          -1.0912683967818178,
          -9.53351679484053,
          -9.860421634448421,
          38.534673805093355,
          12.040822215385358,
          -6.1798363065086,
          -1.0540568824625118,
          -7.670588573355724,
          -26.199036153290173,
          34.140710175133925,
          -37.54336438759446,
          23.86455647956387,
          27.690592175273135,
          2.388199691597991,
          18.17341002767777,
          1.5593149425721549,
          -7.3763270223877,
          -30.56526412264094,
          -20.71982441755661,
          -17.740997351611423,
          16.750928986027166,
          29.42336744517062,
          -9.786219532707594,
          10.116320436498142,
          44.4074654574022,
          6.323122529218486,
          11.764476249173075,
          7.539040394507201,
          -1.970128617990108,
          -18.02536373189939,
          21.66953780456818,
          0.9213408352963761,
          0.8765537498387418,
          -11.148412232281618,
          -7.910269956100661,
          -13.130618332497948,
          4.294822328206415,
          -16.873738955114348,
          13.842435890272506
         ]
        }
       ],
       "layout": {
        "template": {
         "data": {
          "bar": [
           {
            "error_x": {
             "color": "#2a3f5f"
            },
            "error_y": {
             "color": "#2a3f5f"
            },
            "marker": {
             "line": {
              "color": "#E5ECF6",
              "width": 0.5
             },
             "pattern": {
              "fillmode": "overlay",
              "size": 10,
              "solidity": 0.2
             }
            },
            "type": "bar"
           }
          ],
          "barpolar": [
           {
            "marker": {
             "line": {
              "color": "#E5ECF6",
              "width": 0.5
             },
             "pattern": {
              "fillmode": "overlay",
              "size": 10,
              "solidity": 0.2
             }
            },
            "type": "barpolar"
           }
          ],
          "carpet": [
           {
            "aaxis": {
             "endlinecolor": "#2a3f5f",
             "gridcolor": "white",
             "linecolor": "white",
             "minorgridcolor": "white",
             "startlinecolor": "#2a3f5f"
            },
            "baxis": {
             "endlinecolor": "#2a3f5f",
             "gridcolor": "white",
             "linecolor": "white",
             "minorgridcolor": "white",
             "startlinecolor": "#2a3f5f"
            },
            "type": "carpet"
           }
          ],
          "choropleth": [
           {
            "colorbar": {
             "outlinewidth": 0,
             "ticks": ""
            },
            "type": "choropleth"
           }
          ],
          "contour": [
           {
            "colorbar": {
             "outlinewidth": 0,
             "ticks": ""
            },
            "colorscale": [
             [
              0,
              "#0d0887"
             ],
             [
              0.1111111111111111,
              "#46039f"
             ],
             [
              0.2222222222222222,
              "#7201a8"
             ],
             [
              0.3333333333333333,
              "#9c179e"
             ],
             [
              0.4444444444444444,
              "#bd3786"
             ],
             [
              0.5555555555555556,
              "#d8576b"
             ],
             [
              0.6666666666666666,
              "#ed7953"
             ],
             [
              0.7777777777777778,
              "#fb9f3a"
             ],
             [
              0.8888888888888888,
              "#fdca26"
             ],
             [
              1,
              "#f0f921"
             ]
            ],
            "type": "contour"
           }
          ],
          "contourcarpet": [
           {
            "colorbar": {
             "outlinewidth": 0,
             "ticks": ""
            },
            "type": "contourcarpet"
           }
          ],
          "heatmap": [
           {
            "colorbar": {
             "outlinewidth": 0,
             "ticks": ""
            },
            "colorscale": [
             [
              0,
              "#0d0887"
             ],
             [
              0.1111111111111111,
              "#46039f"
             ],
             [
              0.2222222222222222,
              "#7201a8"
             ],
             [
              0.3333333333333333,
              "#9c179e"
             ],
             [
              0.4444444444444444,
              "#bd3786"
             ],
             [
              0.5555555555555556,
              "#d8576b"
             ],
             [
              0.6666666666666666,
              "#ed7953"
             ],
             [
              0.7777777777777778,
              "#fb9f3a"
             ],
             [
              0.8888888888888888,
              "#fdca26"
             ],
             [
              1,
              "#f0f921"
             ]
            ],
            "type": "heatmap"
           }
          ],
          "heatmapgl": [
           {
            "colorbar": {
             "outlinewidth": 0,
             "ticks": ""
            },
            "colorscale": [
             [
              0,
              "#0d0887"
             ],
             [
              0.1111111111111111,
              "#46039f"
             ],
             [
              0.2222222222222222,
              "#7201a8"
             ],
             [
              0.3333333333333333,
              "#9c179e"
             ],
             [
              0.4444444444444444,
              "#bd3786"
             ],
             [
              0.5555555555555556,
              "#d8576b"
             ],
             [
              0.6666666666666666,
              "#ed7953"
             ],
             [
              0.7777777777777778,
              "#fb9f3a"
             ],
             [
              0.8888888888888888,
              "#fdca26"
             ],
             [
              1,
              "#f0f921"
             ]
            ],
            "type": "heatmapgl"
           }
          ],
          "histogram": [
           {
            "marker": {
             "pattern": {
              "fillmode": "overlay",
              "size": 10,
              "solidity": 0.2
             }
            },
            "type": "histogram"
           }
          ],
          "histogram2d": [
           {
            "colorbar": {
             "outlinewidth": 0,
             "ticks": ""
            },
            "colorscale": [
             [
              0,
              "#0d0887"
             ],
             [
              0.1111111111111111,
              "#46039f"
             ],
             [
              0.2222222222222222,
              "#7201a8"
             ],
             [
              0.3333333333333333,
              "#9c179e"
             ],
             [
              0.4444444444444444,
              "#bd3786"
             ],
             [
              0.5555555555555556,
              "#d8576b"
             ],
             [
              0.6666666666666666,
              "#ed7953"
             ],
             [
              0.7777777777777778,
              "#fb9f3a"
             ],
             [
              0.8888888888888888,
              "#fdca26"
             ],
             [
              1,
              "#f0f921"
             ]
            ],
            "type": "histogram2d"
           }
          ],
          "histogram2dcontour": [
           {
            "colorbar": {
             "outlinewidth": 0,
             "ticks": ""
            },
            "colorscale": [
             [
              0,
              "#0d0887"
             ],
             [
              0.1111111111111111,
              "#46039f"
             ],
             [
              0.2222222222222222,
              "#7201a8"
             ],
             [
              0.3333333333333333,
              "#9c179e"
             ],
             [
              0.4444444444444444,
              "#bd3786"
             ],
             [
              0.5555555555555556,
              "#d8576b"
             ],
             [
              0.6666666666666666,
              "#ed7953"
             ],
             [
              0.7777777777777778,
              "#fb9f3a"
             ],
             [
              0.8888888888888888,
              "#fdca26"
             ],
             [
              1,
              "#f0f921"
             ]
            ],
            "type": "histogram2dcontour"
           }
          ],
          "mesh3d": [
           {
            "colorbar": {
             "outlinewidth": 0,
             "ticks": ""
            },
            "type": "mesh3d"
           }
          ],
          "parcoords": [
           {
            "line": {
             "colorbar": {
              "outlinewidth": 0,
              "ticks": ""
             }
            },
            "type": "parcoords"
           }
          ],
          "pie": [
           {
            "automargin": true,
            "type": "pie"
           }
          ],
          "scatter": [
           {
            "fillpattern": {
             "fillmode": "overlay",
             "size": 10,
             "solidity": 0.2
            },
            "type": "scatter"
           }
          ],
          "scatter3d": [
           {
            "line": {
             "colorbar": {
              "outlinewidth": 0,
              "ticks": ""
             }
            },
            "marker": {
             "colorbar": {
              "outlinewidth": 0,
              "ticks": ""
             }
            },
            "type": "scatter3d"
           }
          ],
          "scattercarpet": [
           {
            "marker": {
             "colorbar": {
              "outlinewidth": 0,
              "ticks": ""
             }
            },
            "type": "scattercarpet"
           }
          ],
          "scattergeo": [
           {
            "marker": {
             "colorbar": {
              "outlinewidth": 0,
              "ticks": ""
             }
            },
            "type": "scattergeo"
           }
          ],
          "scattergl": [
           {
            "marker": {
             "colorbar": {
              "outlinewidth": 0,
              "ticks": ""
             }
            },
            "type": "scattergl"
           }
          ],
          "scattermapbox": [
           {
            "marker": {
             "colorbar": {
              "outlinewidth": 0,
              "ticks": ""
             }
            },
            "type": "scattermapbox"
           }
          ],
          "scatterpolar": [
           {
            "marker": {
             "colorbar": {
              "outlinewidth": 0,
              "ticks": ""
             }
            },
            "type": "scatterpolar"
           }
          ],
          "scatterpolargl": [
           {
            "marker": {
             "colorbar": {
              "outlinewidth": 0,
              "ticks": ""
             }
            },
            "type": "scatterpolargl"
           }
          ],
          "scatterternary": [
           {
            "marker": {
             "colorbar": {
              "outlinewidth": 0,
              "ticks": ""
             }
            },
            "type": "scatterternary"
           }
          ],
          "surface": [
           {
            "colorbar": {
             "outlinewidth": 0,
             "ticks": ""
            },
            "colorscale": [
             [
              0,
              "#0d0887"
             ],
             [
              0.1111111111111111,
              "#46039f"
             ],
             [
              0.2222222222222222,
              "#7201a8"
             ],
             [
              0.3333333333333333,
              "#9c179e"
             ],
             [
              0.4444444444444444,
              "#bd3786"
             ],
             [
              0.5555555555555556,
              "#d8576b"
             ],
             [
              0.6666666666666666,
              "#ed7953"
             ],
             [
              0.7777777777777778,
              "#fb9f3a"
             ],
             [
              0.8888888888888888,
              "#fdca26"
             ],
             [
              1,
              "#f0f921"
             ]
            ],
            "type": "surface"
           }
          ],
          "table": [
           {
            "cells": {
             "fill": {
              "color": "#EBF0F8"
             },
             "line": {
              "color": "white"
             }
            },
            "header": {
             "fill": {
              "color": "#C8D4E3"
             },
             "line": {
              "color": "white"
             }
            },
            "type": "table"
           }
          ]
         },
         "layout": {
          "annotationdefaults": {
           "arrowcolor": "#2a3f5f",
           "arrowhead": 0,
           "arrowwidth": 1
          },
          "autotypenumbers": "strict",
          "coloraxis": {
           "colorbar": {
            "outlinewidth": 0,
            "ticks": ""
           }
          },
          "colorscale": {
           "diverging": [
            [
             0,
             "#8e0152"
            ],
            [
             0.1,
             "#c51b7d"
            ],
            [
             0.2,
             "#de77ae"
            ],
            [
             0.3,
             "#f1b6da"
            ],
            [
             0.4,
             "#fde0ef"
            ],
            [
             0.5,
             "#f7f7f7"
            ],
            [
             0.6,
             "#e6f5d0"
            ],
            [
             0.7,
             "#b8e186"
            ],
            [
             0.8,
             "#7fbc41"
            ],
            [
             0.9,
             "#4d9221"
            ],
            [
             1,
             "#276419"
            ]
           ],
           "sequential": [
            [
             0,
             "#0d0887"
            ],
            [
             0.1111111111111111,
             "#46039f"
            ],
            [
             0.2222222222222222,
             "#7201a8"
            ],
            [
             0.3333333333333333,
             "#9c179e"
            ],
            [
             0.4444444444444444,
             "#bd3786"
            ],
            [
             0.5555555555555556,
             "#d8576b"
            ],
            [
             0.6666666666666666,
             "#ed7953"
            ],
            [
             0.7777777777777778,
             "#fb9f3a"
            ],
            [
             0.8888888888888888,
             "#fdca26"
            ],
            [
             1,
             "#f0f921"
            ]
           ],
           "sequentialminus": [
            [
             0,
             "#0d0887"
            ],
            [
             0.1111111111111111,
             "#46039f"
            ],
            [
             0.2222222222222222,
             "#7201a8"
            ],
            [
             0.3333333333333333,
             "#9c179e"
            ],
            [
             0.4444444444444444,
             "#bd3786"
            ],
            [
             0.5555555555555556,
             "#d8576b"
            ],
            [
             0.6666666666666666,
             "#ed7953"
            ],
            [
             0.7777777777777778,
             "#fb9f3a"
            ],
            [
             0.8888888888888888,
             "#fdca26"
            ],
            [
             1,
             "#f0f921"
            ]
           ]
          },
          "colorway": [
           "#636efa",
           "#EF553B",
           "#00cc96",
           "#ab63fa",
           "#FFA15A",
           "#19d3f3",
           "#FF6692",
           "#B6E880",
           "#FF97FF",
           "#FECB52"
          ],
          "font": {
           "color": "#2a3f5f"
          },
          "geo": {
           "bgcolor": "white",
           "lakecolor": "white",
           "landcolor": "#E5ECF6",
           "showlakes": true,
           "showland": true,
           "subunitcolor": "white"
          },
          "hoverlabel": {
           "align": "left"
          },
          "hovermode": "closest",
          "mapbox": {
           "style": "light"
          },
          "paper_bgcolor": "white",
          "plot_bgcolor": "#E5ECF6",
          "polar": {
           "angularaxis": {
            "gridcolor": "white",
            "linecolor": "white",
            "ticks": ""
           },
           "bgcolor": "#E5ECF6",
           "radialaxis": {
            "gridcolor": "white",
            "linecolor": "white",
            "ticks": ""
           }
          },
          "scene": {
           "xaxis": {
            "backgroundcolor": "#E5ECF6",
            "gridcolor": "white",
            "gridwidth": 2,
            "linecolor": "white",
            "showbackground": true,
            "ticks": "",
            "zerolinecolor": "white"
           },
           "yaxis": {
            "backgroundcolor": "#E5ECF6",
            "gridcolor": "white",
            "gridwidth": 2,
            "linecolor": "white",
            "showbackground": true,
            "ticks": "",
            "zerolinecolor": "white"
           },
           "zaxis": {
            "backgroundcolor": "#E5ECF6",
            "gridcolor": "white",
            "gridwidth": 2,
            "linecolor": "white",
            "showbackground": true,
            "ticks": "",
            "zerolinecolor": "white"
           }
          },
          "shapedefaults": {
           "line": {
            "color": "#2a3f5f"
           }
          },
          "ternary": {
           "aaxis": {
            "gridcolor": "white",
            "linecolor": "white",
            "ticks": ""
           },
           "baxis": {
            "gridcolor": "white",
            "linecolor": "white",
            "ticks": ""
           },
           "bgcolor": "#E5ECF6",
           "caxis": {
            "gridcolor": "white",
            "linecolor": "white",
            "ticks": ""
           }
          },
          "title": {
           "x": 0.05
          },
          "xaxis": {
           "automargin": true,
           "gridcolor": "white",
           "linecolor": "white",
           "ticks": "",
           "title": {
            "standoff": 15
           },
           "zerolinecolor": "white",
           "zerolinewidth": 2
          },
          "yaxis": {
           "automargin": true,
           "gridcolor": "white",
           "linecolor": "white",
           "ticks": "",
           "title": {
            "standoff": 15
           },
           "zerolinecolor": "white",
           "zerolinewidth": 2
          }
         }
        },
        "title": {
         "text": "Visualizing Clusters in Two Dimensions Using PCA"
        },
        "xaxis": {
         "ticklen": 5,
         "title": {
          "text": "PC1"
         },
         "zeroline": false
        },
        "yaxis": {
         "ticklen": 5,
         "title": {
          "text": "PC2"
         },
         "zeroline": false
        }
       }
      },
      "text/html": [
       "<div>                            <div id=\"01012ed3-25b5-44d5-be2d-ed05ba7660a0\" class=\"plotly-graph-div\" style=\"height:525px; width:100%;\"></div>            <script type=\"text/javascript\">                require([\"plotly\"], function(Plotly) {                    window.PLOTLYENV=window.PLOTLYENV || {};                                    if (document.getElementById(\"01012ed3-25b5-44d5-be2d-ed05ba7660a0\")) {                    Plotly.newPlot(                        \"01012ed3-25b5-44d5-be2d-ed05ba7660a0\",                        [{\"marker\":{\"color\":\"rgba(255, 128, 255, 0.8)\"},\"mode\":\"markers\",\"name\":\"Cluster 0\",\"x\":[2.722718956981382,-43.13014333457702,-11.143697690227386,15.340879514445541,-18.992233846508622,19.01677698685782,-28.4463384689994,0.8731165226685923,-17.244885742616788,-14.04470711939075,-20.593104669442006,-47.61236685149903,-73.05936006737677,-49.81300620015452,-50.43643374301458,41.763674202521706,-27.95549115322773,-13.411640992851583,-76.18304602266477,-69.35311616199365,-51.00449688412726,-1.9144609687543621,-40.482554831960165,74.14006866523583,-11.521458096364723,10.288514872247127,-107.01742892363019,-45.61885740067238,-25.240688066895636,12.20910872906985,-65.94629095996419,-59.52913057440261,60.88218367763912,-17.846143932593833,-29.052030136381838,-61.209886105218175,-44.13095616211433,-63.83260550389856,8.887590936385616,-26.542406208301003,-13.029019158782226,-27.591979865320514,-21.7910450559813,-43.37463990370919,14.716162707827793,-34.539164437374055,-50.11528768577576,-2.1492682856859533,-41.7757293008573,-7.99518672092174,-5.258776563199628,1.8860813972145736,60.686457369084046,16.02955151463064,-51.54049450832734,-33.80822801425255,7.7242122079250946,-39.49244904769972,-88.0470624361317,-15.084648909463837,67.65201349103764,-0.7734537090031457,26.638078754725168,-2.2086418081316888,-7.551526265806121,-50.90841467067138,-10.762811673754516,-3.472647978280278,5.9814402301978715,-119.37094064460939,-37.178917367639805,15.138780983275202,-32.82960245796315,-16.744850143718754,-33.17557906643151,-17.794330411209447,-54.1515590213075,-44.24663604626303,-3.7411890504003726,19.815053684063912,19.044606903582626,-50.008773117671396,-37.892668802648835,-44.031520610961984,-42.09352193887367,-50.43032058588429,-98.63302298330576,1.2698730442009745,24.15755631222934,47.13627035917489,-13.350941441427608,58.395583693560496,21.964178490346697,-14.228961117886795,26.578209170351084,-35.03230821359714,47.437126677754,55.02062524696179,-38.6200052747419,-5.865360148733172,-21.609140569491245,-23.02014565271174,-67.19269035307764,-42.34655211624939,-26.95386100874211,6.021938210786536,-55.73001661490475,-7.209079291939992,-90.49813254086364,15.604023422986447,-10.606471338727646],\"y\":[-40.10630057937227,-24.527393651266625,-29.170624050395915,-26.51007369270099,-21.853743759480828,-22.565272765110667,-10.569088364011646,-21.026150514856084,-11.013687556031362,-31.01961925930562,-29.13722107730928,-29.222964175072214,22.803223232780624,-2.811889674072773,-23.64547640172854,-8.154964793460588,-39.73049054615154,-12.99341671049927,-12.964524460238847,-10.255020563614458,-31.223252817116702,-31.374776410417564,-3.514918107373011,-34.20448657675981,-30.80114514880603,-7.24256679688478,-29.17960904073948,-8.420882284763834,-38.03625507770837,-38.6931131393422,-29.0691378540185,8.203891245572674,-9.916694489594327,-0.5006414057986002,4.9769504359732375,-41.43726166781411,15.166945397125922,-34.21369477092778,-1.9674156429699483,1.7932817691516698,-26.948561672555464,-23.39750474908692,-9.624525173502175,-55.94497566656428,-35.566467821399904,-18.3800021667276,14.377519489604786,-17.73837554852689,-34.56936753508535,-7.117469510816464,-6.878948085194635,-33.86607615961774,-22.82177578504907,20.649952369377267,-11.443991489677373,-11.04412047395845,-27.276137608742232,-17.467788963665026,7.433373569496039,-0.9249225248063342,-15.120596719746878,-23.63342987203652,-18.43735730425025,-28.281143122706464,-47.15155864074734,-14.239907973618804,-3.520614545644165,-14.670022083446348,-13.010477868392812,-19.629831943582836,-15.824183391913019,-5.877445466907667,-24.590447902926314,-35.97778778237075,-20.654396138503085,-13.202598182524392,-13.154819917534669,-26.71420447828034,-3.3934811799999567,-27.14173099663596,-20.45075731585034,-36.073040422638876,-46.79721547422688,2.638654773582583,37.871400193298456,-18.87114366723918,20.732857671060582,2.301866748187066,-13.332452832034924,-16.440782981419996,-8.65667491449477,-16.93762413695589,-14.764182803977947,-9.601116538613129,26.393959944523328,-19.136145283058017,-9.939785917164134,-35.402385179829146,-26.582684026568213,-3.2569982292044943,-22.44764117882917,-30.81871797457526,-2.7446018346985865,-11.084805985094198,-4.508640258493205,-30.635851241026373,-28.464764276885045,-20.409513822871343,-35.220752385046126,12.487979203151633,-23.83996462031545],\"type\":\"scatter\"},{\"marker\":{\"color\":\"rgba(255, 128, 2, 0.8)\"},\"mode\":\"markers\",\"name\":\"Cluster 1\",\"x\":[-12.768291506058977,40.791124854674706,-18.02631558508094,21.946239208848272,7.406331800822839,-43.28641086240522,-36.528856554152625,-22.44233599124682,-40.692392565374625,-19.61974014567526,-81.47947402511309,-70.83903560563215,29.95650337544608,-20.631624639962425,-17.535960782280245,-3.123940834627992,6.274478855806961,18.512526130013033,-34.34255919311687,-30.895965588491997,-59.518500765067415,35.98797064720858,-61.00149914792877,81.1351637262912,-15.135823942083553,19.523424853113976,10.995789357193614,23.999335304637295,-80.9051152601506,-15.595866985182266,-8.7680527627292,12.390342842983213,12.759389768459204,1.8881541652037477,93.5519765500449,16.033136923468707,7.611288109264378,161.18580973769662,-29.52006886788994,44.613602172266525,-9.050997405097679,-71.55281277101003,33.52514209691232,-1.3740964125621322,75.28633712565174,-0.466450717936545,23.9482077663766,-33.789379755311565,27.907010782649795,-62.864966165509536,25.684343835494055,8.133708136212247,51.249313182780334,47.445745255825855,-36.04894839278513,12.01336126133986,-46.36209118544588,-1.5438150550157859,56.18207647098235,34.30408536205667,82.35950732170114,38.419503431434414,35.82038755565324,-12.438588271931737,-69.39589984909028,-10.417033294895498,-46.87568269612525,-28.14741149984049,-48.70187435566841,-80.20970559877733,-28.959268352412145,-16.95000235354806,64.02602019530215,-98.17238304179355,-49.76982811674624,86.96942383562569,-41.990547548395156,70.23797755048092,-19.654943394538453,-58.95844592526247,-69.18314599977916,-5.4269802330205215,-52.6118164587116,-115.7676933047127,-20.397209587477924,-147.2303475476825],\"y\":[2.5609815386474035,45.749679088150806,20.857877240965635,-8.13155197197163,3.6207292042519286,-4.385930743648487,4.396161392708864,-22.148159520447347,18.123906087065325,38.79355933900349,29.920731976226495,25.756410116830555,38.940147226100464,38.85360978407919,-16.804718771597596,22.41809616696874,5.99161516502006,38.29485523642977,22.437535352477287,18.376375708065833,34.4139406511838,9.651626425529114,-3.161081682353501,14.174244709054255,3.083655547099986,48.971371530988655,8.32033024644204,40.183981763070385,9.777494562839257,4.535156336715356,5.462958273516181,-4.20723470349078,8.882272059265699,4.618243958793397,10.508568137739628,52.14262750531504,24.121259309763662,-1.6731701724202115,38.888416949330235,24.426177725999136,20.23388834942369,28.74282822384926,44.97435453601541,52.351119355513816,41.40593011254864,23.357213408354646,42.593246667496565,20.576096161851783,62.64126528809969,44.03860958156884,10.558102209015765,6.893240422308591,26.911583571729608,44.08086830838343,34.627187497764275,19.11689519168765,23.87806321204966,-1.0201789308020726,27.737129281667617,51.59616866138979,37.002975413346654,31.066464769520522,45.1315098563295,5.723268529078169,51.92310231494646,77.25246387529597,20.888362397838122,45.87844762587267,37.580320333258406,26.279517081636012,15.31779566632376,16.676362642764452,27.815184022093852,24.84660373594085,18.545995938828103,3.526109303682578,18.908517616701698,7.3028529960966955,8.785275424548818,8.261176055038183,63.17662183953435,27.221194294778776,12.50509829325546,34.61200599893399,51.182958314296854,28.494569094041182],\"type\":\"scatter\"},{\"marker\":{\"color\":\"rgba(0, 255, 200, 0.8)\"},\"mode\":\"markers\",\"name\":\"Cluster 2\",\"x\":[106.56629382887756,-54.17595064150934,47.62245093124308,9.119194880395348,-45.63370444048753,-77.44998381964622,-7.301400461108631,27.765061700100727,37.28643730803766,36.72797306097788,92.68449180862906,-6.81749046858016,88.85142167809633,-12.36435973383263,105.92613577001944,-2.6888220377564305,57.22705240500226,-33.572802868947186,83.31747492390205,170.7267932901189,-69.93966959038002,25.81471879802957,57.83664024597624,57.37354031527632,-13.735056311111855,23.730064074849746,7.388532668312568,0.5288366547874582,114.83098736278754,61.35021851578248,16.998845429997147,30.13832662516393,77.49699643446036,8.9799978448573,54.92137665564131,5.818731415528459,7.986490877220546,56.06328608312321,17.530607644418062,-68.98100006814312,60.99310163685644,-35.06620730647285,83.1673565050111,35.998266738088745,-37.7595314030619,10.553811082678218,3.4673616845651676,-25.06418956137174,43.32244737359883,61.963470081933565,43.7875835266195,69.80001193055455,52.236576734092424,316.23367113744087,43.585692590088485,52.55503935676103,53.027835477632756,46.88216444287213,29.935174635801285,57.650774132958745,41.19025339404688,-20.509072757488607,4.50486742872948,147.66434601135379,162.0753613454606,59.723736869750866,-50.76915751240057,0.9005050294331586,39.51551734574779,-10.901501691620096,27.624271111226964,80.90832109309164,66.7392608436095,62.27538134774251,-15.85003778999343,24.854028550264207,21.377474252700782,31.78306414672433,-35.423974005373125,22.08795537866653,-44.17453412037657,-38.69286290422545,16.04751994382096,-24.662577087777592,-0.019722439993548384,13.81752887646232,72.44016298594906,-5.5064301785717715,67.69569147727599,-17.402880622625315,32.31740184091969,-13.426630916507097,-42.556036836336126,-25.686550004574205,-33.219963865532414,95.15347682140744,-49.86709617990327],\"y\":[-15.106417598038984,3.102519377304943,-2.704863243783853,7.202777751379734,-7.594758413094788,-20.966843019406667,-9.515913212195263,8.425195596040087,-9.872961995066092,-11.513453785666297,-23.650659886451667,1.9099399462235032,-6.441436961109037,-10.085900576770287,16.450461443183293,15.353787333871924,-6.46421178210791,-4.3164316621934855,-18.8680677341089,-5.820683616391539,10.004812129268863,-3.746138207265524,6.024629959940577,-20.34552008663018,-13.034054383137915,5.742020591263448,-11.884379407091474,-9.210653120368905,2.8292850267630105,7.0685172841064325,5.514358734287577,7.534875646834677,-24.6223546575172,-0.6632137365715027,-1.4560990232428408,-20.35512751468646,-12.292002652517825,-9.89559430258742,18.924866163637862,-10.033060293537435,5.6822732565792435,-13.530237084567052,17.804363293141186,-21.742108031504664,-12.797645422319254,0.697884246363515,-11.002966905659973,-12.456618860362555,-4.253098242878126,18.39857451903928,29.08444118639037,-13.620852931777575,-26.294414185567753,-12.291429168184981,7.615114548671359,-22.990431295212787,-21.63864692144252,-18.384423489050892,-1.0912683967818178,-9.53351679484053,-9.860421634448421,38.534673805093355,12.040822215385358,-6.1798363065086,-1.0540568824625118,-7.670588573355724,-26.199036153290173,34.140710175133925,-37.54336438759446,23.86455647956387,27.690592175273135,2.388199691597991,18.17341002767777,1.5593149425721549,-7.3763270223877,-30.56526412264094,-20.71982441755661,-17.740997351611423,16.750928986027166,29.42336744517062,-9.786219532707594,10.116320436498142,44.4074654574022,6.323122529218486,11.764476249173075,7.539040394507201,-1.970128617990108,-18.02536373189939,21.66953780456818,0.9213408352963761,0.8765537498387418,-11.148412232281618,-7.910269956100661,-13.130618332497948,4.294822328206415,-16.873738955114348,13.842435890272506],\"type\":\"scatter\"}],                        {\"template\":{\"data\":{\"barpolar\":[{\"marker\":{\"line\":{\"color\":\"#E5ECF6\",\"width\":0.5},\"pattern\":{\"fillmode\":\"overlay\",\"size\":10,\"solidity\":0.2}},\"type\":\"barpolar\"}],\"bar\":[{\"error_x\":{\"color\":\"#2a3f5f\"},\"error_y\":{\"color\":\"#2a3f5f\"},\"marker\":{\"line\":{\"color\":\"#E5ECF6\",\"width\":0.5},\"pattern\":{\"fillmode\":\"overlay\",\"size\":10,\"solidity\":0.2}},\"type\":\"bar\"}],\"carpet\":[{\"aaxis\":{\"endlinecolor\":\"#2a3f5f\",\"gridcolor\":\"white\",\"linecolor\":\"white\",\"minorgridcolor\":\"white\",\"startlinecolor\":\"#2a3f5f\"},\"baxis\":{\"endlinecolor\":\"#2a3f5f\",\"gridcolor\":\"white\",\"linecolor\":\"white\",\"minorgridcolor\":\"white\",\"startlinecolor\":\"#2a3f5f\"},\"type\":\"carpet\"}],\"choropleth\":[{\"colorbar\":{\"outlinewidth\":0,\"ticks\":\"\"},\"type\":\"choropleth\"}],\"contourcarpet\":[{\"colorbar\":{\"outlinewidth\":0,\"ticks\":\"\"},\"type\":\"contourcarpet\"}],\"contour\":[{\"colorbar\":{\"outlinewidth\":0,\"ticks\":\"\"},\"colorscale\":[[0.0,\"#0d0887\"],[0.1111111111111111,\"#46039f\"],[0.2222222222222222,\"#7201a8\"],[0.3333333333333333,\"#9c179e\"],[0.4444444444444444,\"#bd3786\"],[0.5555555555555556,\"#d8576b\"],[0.6666666666666666,\"#ed7953\"],[0.7777777777777778,\"#fb9f3a\"],[0.8888888888888888,\"#fdca26\"],[1.0,\"#f0f921\"]],\"type\":\"contour\"}],\"heatmapgl\":[{\"colorbar\":{\"outlinewidth\":0,\"ticks\":\"\"},\"colorscale\":[[0.0,\"#0d0887\"],[0.1111111111111111,\"#46039f\"],[0.2222222222222222,\"#7201a8\"],[0.3333333333333333,\"#9c179e\"],[0.4444444444444444,\"#bd3786\"],[0.5555555555555556,\"#d8576b\"],[0.6666666666666666,\"#ed7953\"],[0.7777777777777778,\"#fb9f3a\"],[0.8888888888888888,\"#fdca26\"],[1.0,\"#f0f921\"]],\"type\":\"heatmapgl\"}],\"heatmap\":[{\"colorbar\":{\"outlinewidth\":0,\"ticks\":\"\"},\"colorscale\":[[0.0,\"#0d0887\"],[0.1111111111111111,\"#46039f\"],[0.2222222222222222,\"#7201a8\"],[0.3333333333333333,\"#9c179e\"],[0.4444444444444444,\"#bd3786\"],[0.5555555555555556,\"#d8576b\"],[0.6666666666666666,\"#ed7953\"],[0.7777777777777778,\"#fb9f3a\"],[0.8888888888888888,\"#fdca26\"],[1.0,\"#f0f921\"]],\"type\":\"heatmap\"}],\"histogram2dcontour\":[{\"colorbar\":{\"outlinewidth\":0,\"ticks\":\"\"},\"colorscale\":[[0.0,\"#0d0887\"],[0.1111111111111111,\"#46039f\"],[0.2222222222222222,\"#7201a8\"],[0.3333333333333333,\"#9c179e\"],[0.4444444444444444,\"#bd3786\"],[0.5555555555555556,\"#d8576b\"],[0.6666666666666666,\"#ed7953\"],[0.7777777777777778,\"#fb9f3a\"],[0.8888888888888888,\"#fdca26\"],[1.0,\"#f0f921\"]],\"type\":\"histogram2dcontour\"}],\"histogram2d\":[{\"colorbar\":{\"outlinewidth\":0,\"ticks\":\"\"},\"colorscale\":[[0.0,\"#0d0887\"],[0.1111111111111111,\"#46039f\"],[0.2222222222222222,\"#7201a8\"],[0.3333333333333333,\"#9c179e\"],[0.4444444444444444,\"#bd3786\"],[0.5555555555555556,\"#d8576b\"],[0.6666666666666666,\"#ed7953\"],[0.7777777777777778,\"#fb9f3a\"],[0.8888888888888888,\"#fdca26\"],[1.0,\"#f0f921\"]],\"type\":\"histogram2d\"}],\"histogram\":[{\"marker\":{\"pattern\":{\"fillmode\":\"overlay\",\"size\":10,\"solidity\":0.2}},\"type\":\"histogram\"}],\"mesh3d\":[{\"colorbar\":{\"outlinewidth\":0,\"ticks\":\"\"},\"type\":\"mesh3d\"}],\"parcoords\":[{\"line\":{\"colorbar\":{\"outlinewidth\":0,\"ticks\":\"\"}},\"type\":\"parcoords\"}],\"pie\":[{\"automargin\":true,\"type\":\"pie\"}],\"scatter3d\":[{\"line\":{\"colorbar\":{\"outlinewidth\":0,\"ticks\":\"\"}},\"marker\":{\"colorbar\":{\"outlinewidth\":0,\"ticks\":\"\"}},\"type\":\"scatter3d\"}],\"scattercarpet\":[{\"marker\":{\"colorbar\":{\"outlinewidth\":0,\"ticks\":\"\"}},\"type\":\"scattercarpet\"}],\"scattergeo\":[{\"marker\":{\"colorbar\":{\"outlinewidth\":0,\"ticks\":\"\"}},\"type\":\"scattergeo\"}],\"scattergl\":[{\"marker\":{\"colorbar\":{\"outlinewidth\":0,\"ticks\":\"\"}},\"type\":\"scattergl\"}],\"scattermapbox\":[{\"marker\":{\"colorbar\":{\"outlinewidth\":0,\"ticks\":\"\"}},\"type\":\"scattermapbox\"}],\"scatterpolargl\":[{\"marker\":{\"colorbar\":{\"outlinewidth\":0,\"ticks\":\"\"}},\"type\":\"scatterpolargl\"}],\"scatterpolar\":[{\"marker\":{\"colorbar\":{\"outlinewidth\":0,\"ticks\":\"\"}},\"type\":\"scatterpolar\"}],\"scatter\":[{\"fillpattern\":{\"fillmode\":\"overlay\",\"size\":10,\"solidity\":0.2},\"type\":\"scatter\"}],\"scatterternary\":[{\"marker\":{\"colorbar\":{\"outlinewidth\":0,\"ticks\":\"\"}},\"type\":\"scatterternary\"}],\"surface\":[{\"colorbar\":{\"outlinewidth\":0,\"ticks\":\"\"},\"colorscale\":[[0.0,\"#0d0887\"],[0.1111111111111111,\"#46039f\"],[0.2222222222222222,\"#7201a8\"],[0.3333333333333333,\"#9c179e\"],[0.4444444444444444,\"#bd3786\"],[0.5555555555555556,\"#d8576b\"],[0.6666666666666666,\"#ed7953\"],[0.7777777777777778,\"#fb9f3a\"],[0.8888888888888888,\"#fdca26\"],[1.0,\"#f0f921\"]],\"type\":\"surface\"}],\"table\":[{\"cells\":{\"fill\":{\"color\":\"#EBF0F8\"},\"line\":{\"color\":\"white\"}},\"header\":{\"fill\":{\"color\":\"#C8D4E3\"},\"line\":{\"color\":\"white\"}},\"type\":\"table\"}]},\"layout\":{\"annotationdefaults\":{\"arrowcolor\":\"#2a3f5f\",\"arrowhead\":0,\"arrowwidth\":1},\"autotypenumbers\":\"strict\",\"coloraxis\":{\"colorbar\":{\"outlinewidth\":0,\"ticks\":\"\"}},\"colorscale\":{\"diverging\":[[0,\"#8e0152\"],[0.1,\"#c51b7d\"],[0.2,\"#de77ae\"],[0.3,\"#f1b6da\"],[0.4,\"#fde0ef\"],[0.5,\"#f7f7f7\"],[0.6,\"#e6f5d0\"],[0.7,\"#b8e186\"],[0.8,\"#7fbc41\"],[0.9,\"#4d9221\"],[1,\"#276419\"]],\"sequential\":[[0.0,\"#0d0887\"],[0.1111111111111111,\"#46039f\"],[0.2222222222222222,\"#7201a8\"],[0.3333333333333333,\"#9c179e\"],[0.4444444444444444,\"#bd3786\"],[0.5555555555555556,\"#d8576b\"],[0.6666666666666666,\"#ed7953\"],[0.7777777777777778,\"#fb9f3a\"],[0.8888888888888888,\"#fdca26\"],[1.0,\"#f0f921\"]],\"sequentialminus\":[[0.0,\"#0d0887\"],[0.1111111111111111,\"#46039f\"],[0.2222222222222222,\"#7201a8\"],[0.3333333333333333,\"#9c179e\"],[0.4444444444444444,\"#bd3786\"],[0.5555555555555556,\"#d8576b\"],[0.6666666666666666,\"#ed7953\"],[0.7777777777777778,\"#fb9f3a\"],[0.8888888888888888,\"#fdca26\"],[1.0,\"#f0f921\"]]},\"colorway\":[\"#636efa\",\"#EF553B\",\"#00cc96\",\"#ab63fa\",\"#FFA15A\",\"#19d3f3\",\"#FF6692\",\"#B6E880\",\"#FF97FF\",\"#FECB52\"],\"font\":{\"color\":\"#2a3f5f\"},\"geo\":{\"bgcolor\":\"white\",\"lakecolor\":\"white\",\"landcolor\":\"#E5ECF6\",\"showlakes\":true,\"showland\":true,\"subunitcolor\":\"white\"},\"hoverlabel\":{\"align\":\"left\"},\"hovermode\":\"closest\",\"mapbox\":{\"style\":\"light\"},\"paper_bgcolor\":\"white\",\"plot_bgcolor\":\"#E5ECF6\",\"polar\":{\"angularaxis\":{\"gridcolor\":\"white\",\"linecolor\":\"white\",\"ticks\":\"\"},\"bgcolor\":\"#E5ECF6\",\"radialaxis\":{\"gridcolor\":\"white\",\"linecolor\":\"white\",\"ticks\":\"\"}},\"scene\":{\"xaxis\":{\"backgroundcolor\":\"#E5ECF6\",\"gridcolor\":\"white\",\"gridwidth\":2,\"linecolor\":\"white\",\"showbackground\":true,\"ticks\":\"\",\"zerolinecolor\":\"white\"},\"yaxis\":{\"backgroundcolor\":\"#E5ECF6\",\"gridcolor\":\"white\",\"gridwidth\":2,\"linecolor\":\"white\",\"showbackground\":true,\"ticks\":\"\",\"zerolinecolor\":\"white\"},\"zaxis\":{\"backgroundcolor\":\"#E5ECF6\",\"gridcolor\":\"white\",\"gridwidth\":2,\"linecolor\":\"white\",\"showbackground\":true,\"ticks\":\"\",\"zerolinecolor\":\"white\"}},\"shapedefaults\":{\"line\":{\"color\":\"#2a3f5f\"}},\"ternary\":{\"aaxis\":{\"gridcolor\":\"white\",\"linecolor\":\"white\",\"ticks\":\"\"},\"baxis\":{\"gridcolor\":\"white\",\"linecolor\":\"white\",\"ticks\":\"\"},\"bgcolor\":\"#E5ECF6\",\"caxis\":{\"gridcolor\":\"white\",\"linecolor\":\"white\",\"ticks\":\"\"}},\"title\":{\"x\":0.05},\"xaxis\":{\"automargin\":true,\"gridcolor\":\"white\",\"linecolor\":\"white\",\"ticks\":\"\",\"title\":{\"standoff\":15},\"zerolinecolor\":\"white\",\"zerolinewidth\":2},\"yaxis\":{\"automargin\":true,\"gridcolor\":\"white\",\"linecolor\":\"white\",\"ticks\":\"\",\"title\":{\"standoff\":15},\"zerolinecolor\":\"white\",\"zerolinewidth\":2}}},\"title\":{\"text\":\"Visualizing Clusters in Two Dimensions Using PCA\"},\"xaxis\":{\"ticklen\":5,\"title\":{\"text\":\"PC1\"},\"zeroline\":false},\"yaxis\":{\"ticklen\":5,\"title\":{\"text\":\"PC2\"},\"zeroline\":false}},                        {\"responsive\": true}                    ).then(function(){\n",
       "                            \n",
       "var gd = document.getElementById('01012ed3-25b5-44d5-be2d-ed05ba7660a0');\n",
       "var x = new MutationObserver(function (mutations, observer) {{\n",
       "        var display = window.getComputedStyle(gd).display;\n",
       "        if (!display || display === 'none') {{\n",
       "            console.log([gd, 'removed!']);\n",
       "            Plotly.purge(gd);\n",
       "            observer.disconnect();\n",
       "        }}\n",
       "}});\n",
       "\n",
       "// Listen for the removal of the full notebook cells\n",
       "var notebookContainer = gd.closest('#notebook-container');\n",
       "if (notebookContainer) {{\n",
       "    x.observe(notebookContainer, {childList: true});\n",
       "}}\n",
       "\n",
       "// Listen for the clearing of the current output cell\n",
       "var outputEl = gd.closest('.output');\n",
       "if (outputEl) {{\n",
       "    x.observe(outputEl, {childList: true});\n",
       "}}\n",
       "\n",
       "                        })                };                });            </script>        </div>"
      ]
     },
     "metadata": {},
     "output_type": "display_data"
    }
   ],
   "source": [
    "iplot(fig_proc)"
   ]
  },
  {
   "cell_type": "markdown",
   "metadata": {},
   "source": [
    "## Some References"
   ]
  },
  {
   "cell_type": "markdown",
   "metadata": {},
   "source": [
    "Some useful information:\n",
    "- [Visualizing High Dimensional Clusters](https://www.kaggle.com/code/minc33/visualizing-high-dimensional-clusters/notebook) and role of Scaling numerical values prior to clustering\n",
    "- [Why do dimensionality reduction before Clustering (normally)](https://stats.stackexchange.com/questions/99171/why-is-euclidean-distance-not-a-good-metric-in-high-dimensions/)\n",
    "\n",
    "Usage of Cluster Methods:\n",
    "- [Usage of sklearn.cluster.KMeans](https://scikit-learn.org/stable/modules/generated/sklearn.cluster.KMeans.html#sklearn.cluster.KMeans)"
   ]
  }
 ],
 "metadata": {
  "kernelspec": {
   "display_name": "Python 3.10.8 ('data-challenges-2022-2023-2fesPYec')",
   "language": "python",
   "name": "python3"
  },
  "language_info": {
   "codemirror_mode": {
    "name": "ipython",
    "version": 3
   },
   "file_extension": ".py",
   "mimetype": "text/x-python",
   "name": "python",
   "nbconvert_exporter": "python",
   "pygments_lexer": "ipython3",
   "version": "3.10.8"
  },
  "orig_nbformat": 4,
  "vscode": {
   "interpreter": {
    "hash": "b43ab113b2575d9c2ff0700978da8ec8a81117cd90ebd0a07108c0f1b63c4d88"
   }
  }
 },
 "nbformat": 4,
 "nbformat_minor": 2
}
