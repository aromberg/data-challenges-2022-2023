{
 "cells": [
  {
   "cell_type": "markdown",
   "metadata": {},
   "source": [
    "# Clustering"
   ]
  },
  {
   "cell_type": "code",
   "execution_count": 1,
   "metadata": {},
   "outputs": [],
   "source": [
    "from sklearn.preprocessing import StandardScaler\n",
    "from sklearn.feature_extraction import DictVectorizer\n",
    "from sklearn.cluster import KMeans\n",
    "from sklearn.decomposition import PCA"
   ]
  },
  {
   "cell_type": "code",
   "execution_count": 2,
   "metadata": {},
   "outputs": [],
   "source": [
    "import plotly.graph_objs as go\n",
    "from plotly.offline import  init_notebook_mode, iplot"
   ]
  },
  {
   "cell_type": "code",
   "execution_count": 3,
   "metadata": {},
   "outputs": [],
   "source": [
    "import pandas as pd"
   ]
  },
  {
   "cell_type": "code",
   "execution_count": 4,
   "metadata": {},
   "outputs": [],
   "source": [
    "data = pd.read_csv(\"data/heart_disease/heart_disease_combined.csv\")"
   ]
  },
  {
   "cell_type": "code",
   "execution_count": 5,
   "metadata": {},
   "outputs": [],
   "source": [
    "data = data.drop(labels=\"Unnamed: 0\", axis=1)  # drop unnecessary cols"
   ]
  },
  {
   "cell_type": "markdown",
   "metadata": {},
   "source": [
    "As proposed in Task 2, exercise 1 a), clustering algorithms should be applied on the whole dataset, without imputation or dimensionality reduction. However, sklearn.cluster methods cannot handle NA's. We continue by dropping rows which contain NA values."
   ]
  },
  {
   "cell_type": "code",
   "execution_count": 6,
   "metadata": {},
   "outputs": [],
   "source": [
    "data = data.dropna(axis=0)  # drop rows which contain missing values"
   ]
  },
  {
   "cell_type": "code",
   "execution_count": 7,
   "metadata": {},
   "outputs": [
    {
     "data": {
      "text/plain": [
       "age         float64\n",
       "sex         float64\n",
       "cp          float64\n",
       "trestbps    float64\n",
       "chol        float64\n",
       "fbs         float64\n",
       "restecg     float64\n",
       "thalach     float64\n",
       "exang       float64\n",
       "oldpeak     float64\n",
       "slope       float64\n",
       "ca          float64\n",
       "thal        float64\n",
       "num           int64\n",
       "dtype: object"
      ]
     },
     "execution_count": 7,
     "metadata": {},
     "output_type": "execute_result"
    }
   ],
   "source": [
    "data.dtypes"
   ]
  },
  {
   "cell_type": "markdown",
   "metadata": {},
   "source": [
    "## Prepare Dataset for K-Means"
   ]
  },
  {
   "cell_type": "markdown",
   "metadata": {},
   "source": [
    "For K-Means clustering we need to feature-scale numerical variables. K-Means measures euclidean distance between data-points. If we leave numerical variables un-scaled, then most of the distance measured between points would be attributed to the larger numerical variables rather than any of the categorical variables. "
   ]
  },
  {
   "cell_type": "markdown",
   "metadata": {},
   "source": [
    "However, some of our categorical variables hold more values than either $0$ or $1$. Therefore, we also need to convert multiclass labels to binary labels. "
   ]
  },
  {
   "cell_type": "markdown",
   "metadata": {},
   "source": [
    "Let's make these two preprocseeing steps optional for the User."
   ]
  },
  {
   "cell_type": "code",
   "execution_count": 8,
   "metadata": {},
   "outputs": [
    {
     "data": {
      "text/plain": [
       "age          float64\n",
       "sex         category\n",
       "cp          category\n",
       "trestbps     float64\n",
       "chol         float64\n",
       "fbs         category\n",
       "restecg     category\n",
       "thalach      float64\n",
       "exang       category\n",
       "oldpeak      float64\n",
       "slope       category\n",
       "ca          category\n",
       "thal        category\n",
       "num         category\n",
       "dtype: object"
      ]
     },
     "execution_count": 8,
     "metadata": {},
     "output_type": "execute_result"
    }
   ],
   "source": [
    "# change dtype of categorical variables\n",
    "dtyp = {\"sex\": \"category\",\n",
    "        \"cp\": \"category\",\n",
    "        \"restecg\": \"category\",\n",
    "        \"fbs\": \"category\",\n",
    "        \"exang\": \"category\",\n",
    "        \"slope\": \"category\",\n",
    "        \"ca\": \"category\",\n",
    "        \"thal\": \"category\",\n",
    "        \"num\": \"category\"\n",
    "}\n",
    "dat = data.astype(dtyp)\n",
    "dat.dtypes"
   ]
  },
  {
   "cell_type": "code",
   "execution_count": 9,
   "metadata": {},
   "outputs": [],
   "source": [
    "# first divide dataframe into two other dataframes\n",
    "cater_columns = list(dat.columns[dat.dtypes == 'category'])"
   ]
  },
  {
   "cell_type": "code",
   "execution_count": 10,
   "metadata": {},
   "outputs": [],
   "source": [
    "cater = dat[cater_columns]"
   ]
  },
  {
   "cell_type": "code",
   "execution_count": 11,
   "metadata": {},
   "outputs": [],
   "source": [
    "numer_columns = list(dat.columns[dat.dtypes != 'category'])"
   ]
  },
  {
   "cell_type": "code",
   "execution_count": 12,
   "metadata": {},
   "outputs": [
    {
     "data": {
      "text/plain": [
       "['age', 'trestbps', 'chol', 'thalach', 'oldpeak']"
      ]
     },
     "execution_count": 12,
     "metadata": {},
     "output_type": "execute_result"
    }
   ],
   "source": [
    "numer_columns"
   ]
  },
  {
   "cell_type": "code",
   "execution_count": 13,
   "metadata": {},
   "outputs": [],
   "source": [
    "numer = dat[numer_columns]"
   ]
  },
  {
   "cell_type": "markdown",
   "metadata": {},
   "source": [
    "### Rescale numerical variables"
   ]
  },
  {
   "cell_type": "code",
   "execution_count": 14,
   "metadata": {},
   "outputs": [],
   "source": [
    "# initialize scaler\n",
    "scaler = StandardScaler()"
   ]
  },
  {
   "cell_type": "code",
   "execution_count": 15,
   "metadata": {},
   "outputs": [],
   "source": [
    "numer = pd.DataFrame(scaler.fit_transform(numer))"
   ]
  },
  {
   "cell_type": "code",
   "execution_count": 16,
   "metadata": {},
   "outputs": [],
   "source": [
    "numer.columns = [sub + \"_scaled\" for sub in numer_columns]"
   ]
  },
  {
   "cell_type": "markdown",
   "metadata": {},
   "source": [
    "### Binarize categorical variables"
   ]
  },
  {
   "cell_type": "code",
   "execution_count": 17,
   "metadata": {},
   "outputs": [],
   "source": [
    "cater = cater.astype(\"int\")"
   ]
  },
  {
   "cell_type": "code",
   "execution_count": 18,
   "metadata": {},
   "outputs": [],
   "source": [
    "cater.loc[cater.cp < 4, \"cp\"] = 1\n",
    "cater.loc[cater.cp == 4, \"cp\"] = 0  # cp val 4 means asymptomatic\n",
    "cater.loc[cater.thal == 3, \"thal\"] = 0  # thal val 3 is normal\n",
    "cater.loc[cater.thal == 6, \"thal\"] = 1\n",
    "cater.loc[cater.thal == 7, \"thal\"] = 1\n",
    "cater.loc[cater.slope == 1, \"slope\"] = 0  # bc upsloping (val 1) is \"normal\"\n",
    "cater.loc[cater.slope > 1, \"slope\"] = 1\n",
    "cater.loc[cater.ca > 0, \"ca\"] = 1  # no major vessels is \"normal\"\n",
    "cater.loc[cater.restecg > 0, \"restecg\"] = 1 # 0 is normal\n",
    "cater.loc[cater.num > 0, \"num\"] = 1  # 0 means disease not present"
   ]
  },
  {
   "cell_type": "code",
   "execution_count": 19,
   "metadata": {},
   "outputs": [],
   "source": [
    "cater.columns = [sub + \"_binarized\" for sub in cater_columns]"
   ]
  },
  {
   "cell_type": "code",
   "execution_count": 20,
   "metadata": {},
   "outputs": [],
   "source": [
    "dat_preproc = pd.concat([numer, cater], axis=1, join=\"inner\")"
   ]
  },
  {
   "cell_type": "markdown",
   "metadata": {},
   "source": [
    "## K-Means"
   ]
  },
  {
   "cell_type": "code",
   "execution_count": 21,
   "metadata": {},
   "outputs": [],
   "source": [
    "# define arguments\n",
    "# should be adjustable by users in App\n",
    "k = 3\n",
    "init_method = \"k-means++\"\n",
    "# or \"random\" "
   ]
  },
  {
   "cell_type": "markdown",
   "metadata": {},
   "source": [
    "__Initialization__ __Methods__\n",
    "- _k-means++_\n",
    "  \n",
    "  selects initial cluster centroids using sampling based on an empirical probability distribution of the points’ contribution to the overall inertia.\n",
    "- _random_\n",
    "  \n",
    "   choose n_clusters observations (rows) at random from data for the initial centroids."
   ]
  },
  {
   "cell_type": "markdown",
   "metadata": {},
   "source": [
    "Let's define a maximum of clusters, which should be the default value (8)"
   ]
  },
  {
   "cell_type": "code",
   "execution_count": 22,
   "metadata": {},
   "outputs": [],
   "source": [
    "max_k = 8"
   ]
  },
  {
   "cell_type": "code",
   "execution_count": 23,
   "metadata": {},
   "outputs": [],
   "source": [
    "kmeans = KMeans(n_clusters=k, init=init_method, random_state=2022) # use random_state to make randomness deterministic"
   ]
  },
  {
   "cell_type": "markdown",
   "metadata": {},
   "source": [
    "### ... on unprocessed data"
   ]
  },
  {
   "cell_type": "code",
   "execution_count": 25,
   "metadata": {},
   "outputs": [],
   "source": [
    "# create matrix of shape (n_samples)(n_features)\n",
    "# orient='records' to enable usage by DictVectorizer\n",
    "data_dict = data.to_dict(orient='records')"
   ]
  },
  {
   "cell_type": "code",
   "execution_count": 24,
   "metadata": {},
   "outputs": [],
   "source": [
    "# create vectorizer\n",
    "vec = DictVectorizer()"
   ]
  },
  {
   "cell_type": "code",
   "execution_count": 26,
   "metadata": {},
   "outputs": [],
   "source": [
    "matrix = vec.fit_transform(data_dict).toarray()"
   ]
  },
  {
   "cell_type": "code",
   "execution_count": 27,
   "metadata": {},
   "outputs": [
    {
     "data": {
      "text/plain": [
       "array(['age', 'ca', 'chol', 'cp', 'exang', 'fbs', 'num', 'oldpeak',\n",
       "       'restecg', 'sex', 'slope', 'thal', 'thalach', 'trestbps'],\n",
       "      dtype=object)"
      ]
     },
     "execution_count": 27,
     "metadata": {},
     "output_type": "execute_result"
    }
   ],
   "source": [
    "# note different order of column names!\n",
    "feature_names = vec.get_feature_names_out()\n",
    "feature_names"
   ]
  },
  {
   "cell_type": "code",
   "execution_count": 28,
   "metadata": {},
   "outputs": [],
   "source": [
    "kmeans_unpr = kmeans.fit(matrix)"
   ]
  },
  {
   "cell_type": "code",
   "execution_count": 29,
   "metadata": {},
   "outputs": [],
   "source": [
    "clusters = kmeans_unpr.labels_"
   ]
  },
  {
   "cell_type": "code",
   "execution_count": 30,
   "metadata": {},
   "outputs": [],
   "source": [
    "data[\"Clusters\"] = clusters"
   ]
  },
  {
   "cell_type": "markdown",
   "metadata": {},
   "source": [
    "### ... on processed data"
   ]
  },
  {
   "cell_type": "code",
   "execution_count": 31,
   "metadata": {},
   "outputs": [],
   "source": [
    "vec_preproc = DictVectorizer()"
   ]
  },
  {
   "cell_type": "code",
   "execution_count": 32,
   "metadata": {},
   "outputs": [
    {
     "data": {
      "text/plain": [
       "array(['age_scaled', 'ca_binarized', 'chol_scaled', 'cp_binarized',\n",
       "       'exang_binarized', 'fbs_binarized', 'num_binarized',\n",
       "       'oldpeak_scaled', 'restecg_binarized', 'sex_binarized',\n",
       "       'slope_binarized', 'thal_binarized', 'thalach_scaled',\n",
       "       'trestbps_scaled'], dtype=object)"
      ]
     },
     "execution_count": 32,
     "metadata": {},
     "output_type": "execute_result"
    }
   ],
   "source": [
    "# create matrix of shape (n_samples)(n_features)\n",
    "# orient='records' to enable usage by DictVectorizer\n",
    "dat_preproc_dict = dat_preproc.to_dict(orient='records')\n",
    "matrix_preproc = vec_preproc.fit_transform(dat_preproc_dict).toarray()\n",
    "# note different order of column names!\n",
    "feature_names_preproc = vec_preproc.get_feature_names_out()\n",
    "feature_names_preproc"
   ]
  },
  {
   "cell_type": "code",
   "execution_count": 33,
   "metadata": {},
   "outputs": [],
   "source": [
    "kmeans_pro = kmeans.fit(matrix_preproc)  # use random_state to make randomness deterministic"
   ]
  },
  {
   "cell_type": "code",
   "execution_count": 34,
   "metadata": {},
   "outputs": [],
   "source": [
    "clusters_proc = kmeans_pro.labels_"
   ]
  },
  {
   "cell_type": "code",
   "execution_count": 35,
   "metadata": {},
   "outputs": [],
   "source": [
    "dat_preproc[\"Clusters\"] = clusters_proc"
   ]
  },
  {
   "cell_type": "markdown",
   "metadata": {},
   "source": [
    "## Visualization"
   ]
  },
  {
   "cell_type": "code",
   "execution_count": 36,
   "metadata": {},
   "outputs": [
    {
     "data": {
      "text/html": [
       "        <script type=\"text/javascript\">\n",
       "        window.PlotlyConfig = {MathJaxConfig: 'local'};\n",
       "        if (window.MathJax && window.MathJax.Hub && window.MathJax.Hub.Config) {window.MathJax.Hub.Config({SVG: {font: \"STIX-Web\"}});}\n",
       "        if (typeof require !== 'undefined') {\n",
       "        require.undef(\"plotly\");\n",
       "        requirejs.config({\n",
       "            paths: {\n",
       "                'plotly': ['https://cdn.plot.ly/plotly-2.12.1.min']\n",
       "            }\n",
       "        });\n",
       "        require(['plotly'], function(Plotly) {\n",
       "            window._Plotly = Plotly;\n",
       "        });\n",
       "        }\n",
       "        </script>\n",
       "        "
      ]
     },
     "metadata": {},
     "output_type": "display_data"
    }
   ],
   "source": [
    "init_notebook_mode(connected=True)"
   ]
  },
  {
   "cell_type": "markdown",
   "metadata": {},
   "source": [
    "We have to apply PCA on our dataset to visualize clusters in 2D space."
   ]
  },
  {
   "cell_type": "code",
   "execution_count": 37,
   "metadata": {},
   "outputs": [],
   "source": [
    "pca_2d = PCA(n_components=2)"
   ]
  },
  {
   "cell_type": "code",
   "execution_count": 38,
   "metadata": {},
   "outputs": [],
   "source": [
    "# create colors, we need max k_max colors\n",
    "colors = [\"rgba(255, 128, 255, 0.8)\", # pink\n",
    "          \"rgba(255, 128, 2, 0.8)\", # orange\n",
    "          \"rgba(0, 255, 200, 0.8)\", # turquoise\n",
    "          \"rgba(102, 205, 0, 0.8)\" ,# green\n",
    "          \"rgba(255, 215, 0, 0.8)\", # yellow\n",
    "          \"rgba(123, 104, 238, 0.8)\", #mediumslateblue\n",
    "          \"rgba(51, 161, 201, 0.8)\", # peacock\n",
    "          \"rgba(255, 48, 48, 0.8)\", # firebrick1\n",
    "]"
   ]
  },
  {
   "cell_type": "code",
   "execution_count": 39,
   "metadata": {},
   "outputs": [],
   "source": [
    "title = \"Visualizing Clusters in Two Dimensions Using PCA\""
   ]
  },
  {
   "cell_type": "code",
   "execution_count": 40,
   "metadata": {},
   "outputs": [],
   "source": [
    "layout = dict(title=title,\n",
    "              xaxis= dict(title= \"PC1\", ticklen=5, zeroline=False),\n",
    "              yaxis=dict(title= \"PC2\", ticklen=5, zeroline=False)\n",
    ")"
   ]
  },
  {
   "cell_type": "code",
   "execution_count": 41,
   "metadata": {},
   "outputs": [],
   "source": [
    "def SubClusterDF(k, df):\n",
    "    ls = []\n",
    "    for i in range(k):\n",
    "        cluster = df[df[\"Clusters\"] == i]\n",
    "        ls.append(cluster)\n",
    "    return ls"
   ]
  },
  {
   "cell_type": "code",
   "execution_count": 42,
   "metadata": {},
   "outputs": [],
   "source": [
    "def SubScatterCluster(clusters, cols):\n",
    "    ls = []\n",
    "    for i in range(len(clusters)):\n",
    "        trace = go.Scatter(\n",
    "            x=clusters[i][\"PC1\"],\n",
    "            y=clusters[i][\"PC2\"],\n",
    "            mode=\"markers\",\n",
    "            name=f\"Cluster {i}\",\n",
    "            marker=dict(color = cols[i]),\n",
    "            text=None\n",
    "        )\n",
    "        ls.append(trace)\n",
    "    return ls\n"
   ]
  },
  {
   "cell_type": "markdown",
   "metadata": {},
   "source": [
    "### ...for unprocessed data"
   ]
  },
  {
   "cell_type": "code",
   "execution_count": 43,
   "metadata": {},
   "outputs": [],
   "source": [
    "PCs_2d = pd.DataFrame(pca_2d.fit_transform(data.drop([\"Clusters\"], axis=1)))"
   ]
  },
  {
   "cell_type": "code",
   "execution_count": 44,
   "metadata": {},
   "outputs": [],
   "source": [
    "PCs_2d.columns = [\"PC1\", \"PC2\"]"
   ]
  },
  {
   "cell_type": "code",
   "execution_count": 45,
   "metadata": {},
   "outputs": [],
   "source": [
    "plotData = pd.concat([data, PCs_2d], axis=1, join=\"inner\")"
   ]
  },
  {
   "cell_type": "code",
   "execution_count": 46,
   "metadata": {},
   "outputs": [],
   "source": [
    "x = SubClusterDF(k, plotData)"
   ]
  },
  {
   "cell_type": "code",
   "execution_count": 47,
   "metadata": {},
   "outputs": [],
   "source": [
    "traces = SubScatterCluster(clusters=x, cols=colors)"
   ]
  },
  {
   "cell_type": "code",
   "execution_count": 48,
   "metadata": {},
   "outputs": [],
   "source": [
    "fig = dict(data=traces, layout=layout)"
   ]
  },
  {
   "cell_type": "code",
   "execution_count": 49,
   "metadata": {},
   "outputs": [
    {
     "data": {
      "application/vnd.plotly.v1+json": {
       "config": {
        "linkText": "Export to plot.ly",
        "plotlyServerURL": "https://plot.ly",
        "showLink": false
       },
       "data": [
        {
         "marker": {
          "color": "rgba(255, 128, 255, 0.8)"
         },
         "mode": "markers",
         "name": "Cluster 0",
         "type": "scatter",
         "x": [
          40.791124854674585,
          106.56629382887756,
          47.62245093124308,
          92.68449180862906,
          88.85142167809633,
          105.92613577001944,
          57.22705240500226,
          83.31747492390203,
          170.72679329011893,
          41.7636742025217,
          57.83664024597623,
          57.37354031527634,
          81.13516372629118,
          114.83098736278754,
          61.35021851578248,
          74.14006866523583,
          77.49699643446034,
          -80.90511526015057,
          17.53060764441805,
          -68.98100006814313,
          1.8881541652037466,
          16.033136923468692,
          7.611288109264369,
          -26.542406208301003,
          -9.050997405097684,
          -41.77572930085729,
          -7.995186720921742,
          1.8860813972145791,
          69.80001193055456,
          52.236576734092424,
          16.029551514630633,
          43.58569259008848,
          -1.3740964125621506,
          52.55503935676102,
          53.02783547763276,
          46.882164442872124,
          29.93517463580128,
          -33.80822801425254,
          -88.04706243613171,
          27.907010782649774,
          26.638078754725175,
          25.684343835494047,
          -7.5515262658061095,
          -50.90841467067137,
          -36.04894839278516,
          -10.901501691620117,
          -3.472647978280272,
          -37.1789173676398,
          12.013361261339853,
          15.1387809832752,
          19.04460690358263,
          -44.17453412037654,
          21.964178490346708,
          -69.39589984909033,
          -24.66257708777758,
          -48.701874355668416,
          -80.20970559877733,
          -67.19269035307764,
          32.31740184091969,
          -42.55603683633612,
          -33.21996386553243,
          -69.18314599977917
         ],
         "y": [
          45.749679088150835,
          -15.106417598039002,
          -2.7048632437838407,
          -23.65065988645168,
          -6.441436961109044,
          16.450461443183304,
          -6.464211782107919,
          -18.868067734108923,
          -5.820683616391542,
          -8.154964793460591,
          6.024629959940572,
          -20.34552008663019,
          14.174244709054268,
          2.829285026763017,
          7.068517284106436,
          -34.20448657675983,
          -24.622354657517203,
          9.777494562839248,
          18.924866163637866,
          -10.033060293537446,
          4.618243958793392,
          52.142627505315076,
          24.12125930976367,
          1.7932817691516698,
          20.233888349423705,
          -34.56936753508537,
          -7.1174695108164725,
          -33.86607615961775,
          -13.620852931777582,
          -26.29441418556776,
          20.64995236937729,
          7.615114548671367,
          52.35111935551386,
          -22.990431295212797,
          -21.638646921442533,
          -18.384423489050903,
          -1.091268396781823,
          -11.044120473958465,
          7.433373569496046,
          62.641265288099724,
          -18.437357304250256,
          10.558102209015795,
          -47.15155864074735,
          -14.239907973618815,
          34.6271874977643,
          23.8645564795639,
          -14.67002208344635,
          -15.82418339191303,
          19.11689519168766,
          -5.87744546690766,
          -20.450757315850353,
          -9.786219532707603,
          -14.764182803977963,
          51.9231023149465,
          6.323122529218483,
          37.580320333258406,
          26.27951708163602,
          -2.7446018346985794,
          0.8765537498387389,
          -7.9102699561006755,
          4.294822328206417,
          63.176621839534384
         ]
        },
        {
         "marker": {
          "color": "rgba(255, 128, 2, 0.8)"
         },
         "mode": "markers",
         "name": "Cluster 1",
         "type": "scatter",
         "x": [
          -43.130143334577006,
          -43.28641086240522,
          -54.17595064150934,
          -45.63370444048753,
          -77.4499838196462,
          -36.528856554152625,
          -40.69239256537464,
          -28.44633846899938,
          -81.4794740251131,
          -70.83903560563213,
          -47.612366851499026,
          -33.57280286894718,
          -73.05936006737677,
          -49.81300620015453,
          -50.43643374301457,
          -69.93966959038003,
          -27.95549115322772,
          -76.18304602266475,
          -34.34255919311688,
          -69.35311616199361,
          -30.895965588492004,
          -59.51850076506743,
          -61.00149914792878,
          -51.004496884127256,
          -40.482554831960165,
          -15.595866985182274,
          5.818731415528472,
          -25.24068806689562,
          12.20910872906986,
          56.06328608312322,
          60.88218367763911,
          -17.84614393259384,
          60.99310163685644,
          93.55197655004493,
          -35.06620730647284,
          -63.83260550389855,
          83.16735650501109,
          -29.52006886788995,
          35.99826673808875,
          -37.7595314030619,
          10.553811082678205,
          14.71616270782781,
          3.4673616845651773,
          33.5251420969123,
          -2.1492682856859497,
          43.32244737359883,
          61.963470081933565,
          57.650774132958745,
          -0.46645071793654924,
          41.19025339404689,
          -20.509072757488614,
          -15.08464890946384,
          -0.7734537090031425,
          0.9005050294331459,
          47.445745255825834,
          -10.762811673754504,
          62.275381347742496,
          -46.362091185445884,
          -32.829602457963134,
          -15.850037789993436,
          -54.15155902130751,
          56.18207647098234,
          24.854028550264218,
          -37.89266880264882,
          -42.093521938873664,
          -35.42397400537312,
          82.35950732170113,
          -98.63302298330578,
          22.087955378666514,
          38.41950343143441,
          1.2698730442009787,
          26.578209170351077,
          -28.147411499840512,
          16.04751994382094,
          47.437126677754,
          55.0206252469618,
          -0.019722439993558563,
          13.81752887646231,
          -5.865360148733168,
          -23.02014565271173,
          -16.950002353548065,
          -98.17238304179355,
          -42.34655211624939,
          -26.953861008742123,
          -13.426630916507097,
          6.0219382107865425,
          -55.730016614904756,
          -19.654943394538453,
          -25.686550004574205,
          -7.209079291939991,
          -58.95844592526247,
          -90.49813254086364,
          -5.426980233020519,
          15.604023422986428,
          -52.6118164587116,
          -115.76769330471272,
          -10.606471338727635
         ],
         "y": [
          -24.527393651266618,
          -4.385930743648499,
          3.102519377304933,
          -7.5947584130947945,
          -20.966843019406685,
          4.396161392708874,
          18.123906087065336,
          -10.569088364011657,
          29.92073197622651,
          25.756410116830573,
          -29.222964175072217,
          -4.316431662193496,
          22.803223232780635,
          -2.8118896740727783,
          -23.645476401728548,
          10.004812129268856,
          -39.730490546151565,
          -12.964524460238856,
          22.437535352477312,
          -10.255020563614467,
          18.376375708065837,
          34.41394065118383,
          -3.1610816823535046,
          -31.22325281711674,
          -3.5149181073730156,
          4.535156336715358,
          -20.355127514686473,
          -38.036255077708404,
          -38.69311313934222,
          -9.89559430258743,
          -9.916694489594324,
          -0.5006414057985998,
          5.682273256579243,
          10.508568137739639,
          -13.53023708456706,
          -34.21369477092781,
          17.804363293141193,
          38.888416949330264,
          -21.742108031504664,
          -12.797645422319283,
          0.6978842463635185,
          -35.56646782139994,
          -11.002966905659973,
          44.97435453601546,
          -17.738375548526903,
          -4.253098242878113,
          18.398574519039297,
          -9.533516794840537,
          23.357213408354653,
          -9.860421634448423,
          38.534673805093384,
          -0.9249225248063424,
          -23.633429872036544,
          34.14071017513396,
          44.08086830838346,
          -3.5206145456441704,
          1.5593149425721662,
          23.87806321204967,
          -24.59044790292633,
          -7.376327022387725,
          -13.154819917534667,
          27.73712928166762,
          -30.565264122640972,
          -46.7972154742269,
          37.871400193298484,
          16.75092898602717,
          37.00297541334668,
          20.732857671060593,
          29.423367445170626,
          31.066464769520536,
          2.301866748187066,
          26.393959944523342,
          45.878447625872695,
          44.407465457402246,
          -9.939785917164137,
          -35.40238517982916,
          11.764476249173088,
          7.53904039450721,
          -3.2569982292044917,
          -30.81871797457527,
          16.676362642764456,
          24.84660373594084,
          -11.084805985094192,
          -4.5086402584932115,
          -11.148412232281613,
          -30.635851241026387,
          -28.464764276885052,
          8.785275424548814,
          -13.130618332497951,
          -20.40951382287135,
          8.261176055038183,
          -35.22075238504615,
          27.22119429477879,
          12.487979203151669,
          12.505098293255447,
          34.612005998934,
          -23.83996462031546
         ]
        },
        {
         "marker": {
          "color": "rgba(0, 255, 200, 0.8)"
         },
         "mode": "markers",
         "name": "Cluster 2",
         "type": "scatter",
         "x": [
          -12.768291506058972,
          -18.026315585080958,
          2.722718956981406,
          -11.14369769022738,
          21.946239208848286,
          7.406331800822835,
          9.119194880395348,
          15.340879514445533,
          -18.992233846508626,
          -7.301400461108625,
          27.76506170010073,
          19.01677698685784,
          37.28643730803766,
          36.72797306097788,
          -22.442335991246814,
          -19.619740145675262,
          0.8731165226686037,
          -6.817490468580164,
          -17.244885742616784,
          -12.364359733832629,
          -14.044707119390745,
          -20.593104669441995,
          29.956503375446058,
          -2.6888220377564362,
          -20.63162463996242,
          -17.535960782280245,
          -3.1239408346279984,
          6.274478855806959,
          18.512526130013015,
          -13.411640992851579,
          25.814718798029567,
          35.98797064720858,
          -13.73505631111185,
          -15.135823942083553,
          23.73006407484975,
          7.388532668312566,
          19.52342485311395,
          0.5288366547874583,
          10.99578935719361,
          -1.9144609687543537,
          23.99933530463728,
          16.998845429997147,
          30.13832662516393,
          -11.521458096364718,
          10.288514872247122,
          8.979997844857301,
          54.92137665564132,
          -107.01742892363018,
          7.986490877220548,
          -8.768052762729207,
          12.390342842983223,
          -45.61885740067239,
          -65.94629095996419,
          -59.52913057440261,
          12.7593897684592,
          -29.052030136381845,
          -61.20988610521816,
          -44.130956162114344,
          8.887590936385614,
          161.18580973769662,
          -13.029019158782214,
          44.61360217226651,
          -27.591979865320514,
          -21.7910450559813,
          -43.374639903709166,
          -34.539164437374055,
          -71.55281277101004,
          -50.115287685775776,
          -25.06418956137174,
          -5.258776563199629,
          43.78758352661948,
          60.68645736908403,
          316.23367113744087,
          75.28633712565173,
          -51.54049450832733,
          7.724212207925097,
          -39.49244904769973,
          23.94820776637659,
          4.504867428729479,
          147.6643460113538,
          -33.78937975531156,
          -62.86496616550955,
          67.65201349103764,
          162.07536134546064,
          -2.2086418081316883,
          59.723736869750866,
          -50.76915751240057,
          39.515517345747796,
          8.133708136212242,
          51.24931318278031,
          27.624271111226953,
          5.9814402301978795,
          80.90832109309164,
          -119.37094064460942,
          66.73926084360949,
          -1.5438150550157868,
          -16.744850143718747,
          -33.1755790664315,
          -17.79433041120944,
          -44.24663604626302,
          -3.7411890504003633,
          19.81505368406392,
          -50.0087731176714,
          34.30408536205665,
          21.377474252700793,
          -44.03152061096198,
          31.78306414672433,
          -50.43032058588426,
          35.820387555653234,
          24.157556312229346,
          47.13627035917487,
          -13.350941441427613,
          58.39558369356048,
          -12.438588271931744,
          -10.417033294895521,
          -14.228961117886795,
          -35.03230821359713,
          -38.69286290422546,
          -46.87568269612527,
          -38.620005274741885,
          72.44016298594906,
          -5.506430178571768,
          -21.609140569491245,
          67.69569147727597,
          -28.95926835241216,
          64.02602019530214,
          -17.402880622625325,
          -49.769828116746226,
          86.96942383562569,
          -41.99054754839517,
          70.23797755048092,
          95.15347682140744,
          -49.867096179903285,
          -20.397209587477946,
          -147.23034754768247
         ],
         "y": [
          2.560981538647494,
          20.85787724096562,
          -40.106300579372274,
          -29.170624050395908,
          -8.131551971971648,
          3.6207292042519277,
          7.202777751379739,
          -26.510073692700995,
          -21.853743759480835,
          -9.515913212195278,
          8.425195596040092,
          -22.565272765110667,
          -9.872961995066081,
          -11.513453785666293,
          -22.14815952044736,
          38.7935593390035,
          -21.0261505148561,
          1.909939946223511,
          -11.013687556031378,
          -10.085900576770298,
          -31.01961925930563,
          -29.137221077309295,
          38.94014722610049,
          15.353787333871932,
          38.85360978407921,
          -16.804718771597614,
          22.418096166968756,
          5.991615165020059,
          38.294855236429804,
          -12.993416710499273,
          -3.7461382072655223,
          9.651626425529122,
          -13.034054383137923,
          3.083655547099998,
          5.742020591263451,
          -11.884379407091497,
          48.97137153098869,
          -9.210653120368914,
          8.320330246442046,
          -31.37477641041757,
          40.18398176307041,
          5.514358734287572,
          7.53487564683468,
          -30.80114514880604,
          -7.242566796884777,
          -0.6632137365715022,
          -1.4560990232428452,
          -29.179609040739496,
          -12.292002652517834,
          5.462958273516175,
          -4.207234703490792,
          -8.420882284763834,
          -29.069137854018514,
          8.203891245572683,
          8.882272059265693,
          4.976950435973239,
          -41.43726166781414,
          15.166945397125952,
          -1.967415642969955,
          -1.6731701724202124,
          -26.948561672555474,
          24.426177725999153,
          -23.397504749086924,
          -9.624525173502182,
          -55.94497566656431,
          -18.38000216672761,
          28.742828223849266,
          14.377519489604808,
          -12.45661886036255,
          -6.8789480851946365,
          29.08444118639039,
          -22.821775785049066,
          -12.291429168184978,
          41.40593011254866,
          -11.443991489677378,
          -27.27613760874225,
          -17.467788963665043,
          42.59324666749659,
          12.040822215385363,
          -6.179836306508608,
          20.57609616185179,
          44.038609581568856,
          -15.120596719746874,
          -1.0540568824625116,
          -28.281143122706457,
          -7.6705885733557295,
          -26.19903615329018,
          -37.543364387594465,
          6.893240422308594,
          26.911583571729622,
          27.69059217527317,
          -13.010477868392826,
          2.388199691597986,
          -19.62983194358286,
          18.173410027677786,
          -1.0201789308020868,
          -35.97778778237075,
          -20.654396138503095,
          -13.202598182524401,
          -26.714204478280354,
          -3.393481179999963,
          -27.141730996635978,
          -36.07304042263891,
          51.59616866138981,
          -20.71982441755664,
          2.638654773582581,
          -17.740997351611444,
          -18.8711436672392,
          45.131509856329515,
          -13.332452832034921,
          -16.440782981419986,
          -8.656674914494758,
          -16.93762413695588,
          5.723268529078182,
          77.25246387529603,
          -9.601116538613145,
          -19.13614528305804,
          10.11632043649815,
          20.88836239783813,
          -26.582684026568227,
          -1.970128617990111,
          -18.02536373189939,
          -22.44764117882918,
          21.6695378045682,
          15.317795666323772,
          27.815184022093884,
          0.9213408352963911,
          18.5459959388281,
          3.52610930368258,
          18.9085176167017,
          7.302852996096701,
          -16.873738955114348,
          13.842435890272505,
          51.182958314296904,
          28.494569094041204
         ]
        }
       ],
       "layout": {
        "template": {
         "data": {
          "bar": [
           {
            "error_x": {
             "color": "#2a3f5f"
            },
            "error_y": {
             "color": "#2a3f5f"
            },
            "marker": {
             "line": {
              "color": "#E5ECF6",
              "width": 0.5
             },
             "pattern": {
              "fillmode": "overlay",
              "size": 10,
              "solidity": 0.2
             }
            },
            "type": "bar"
           }
          ],
          "barpolar": [
           {
            "marker": {
             "line": {
              "color": "#E5ECF6",
              "width": 0.5
             },
             "pattern": {
              "fillmode": "overlay",
              "size": 10,
              "solidity": 0.2
             }
            },
            "type": "barpolar"
           }
          ],
          "carpet": [
           {
            "aaxis": {
             "endlinecolor": "#2a3f5f",
             "gridcolor": "white",
             "linecolor": "white",
             "minorgridcolor": "white",
             "startlinecolor": "#2a3f5f"
            },
            "baxis": {
             "endlinecolor": "#2a3f5f",
             "gridcolor": "white",
             "linecolor": "white",
             "minorgridcolor": "white",
             "startlinecolor": "#2a3f5f"
            },
            "type": "carpet"
           }
          ],
          "choropleth": [
           {
            "colorbar": {
             "outlinewidth": 0,
             "ticks": ""
            },
            "type": "choropleth"
           }
          ],
          "contour": [
           {
            "colorbar": {
             "outlinewidth": 0,
             "ticks": ""
            },
            "colorscale": [
             [
              0,
              "#0d0887"
             ],
             [
              0.1111111111111111,
              "#46039f"
             ],
             [
              0.2222222222222222,
              "#7201a8"
             ],
             [
              0.3333333333333333,
              "#9c179e"
             ],
             [
              0.4444444444444444,
              "#bd3786"
             ],
             [
              0.5555555555555556,
              "#d8576b"
             ],
             [
              0.6666666666666666,
              "#ed7953"
             ],
             [
              0.7777777777777778,
              "#fb9f3a"
             ],
             [
              0.8888888888888888,
              "#fdca26"
             ],
             [
              1,
              "#f0f921"
             ]
            ],
            "type": "contour"
           }
          ],
          "contourcarpet": [
           {
            "colorbar": {
             "outlinewidth": 0,
             "ticks": ""
            },
            "type": "contourcarpet"
           }
          ],
          "heatmap": [
           {
            "colorbar": {
             "outlinewidth": 0,
             "ticks": ""
            },
            "colorscale": [
             [
              0,
              "#0d0887"
             ],
             [
              0.1111111111111111,
              "#46039f"
             ],
             [
              0.2222222222222222,
              "#7201a8"
             ],
             [
              0.3333333333333333,
              "#9c179e"
             ],
             [
              0.4444444444444444,
              "#bd3786"
             ],
             [
              0.5555555555555556,
              "#d8576b"
             ],
             [
              0.6666666666666666,
              "#ed7953"
             ],
             [
              0.7777777777777778,
              "#fb9f3a"
             ],
             [
              0.8888888888888888,
              "#fdca26"
             ],
             [
              1,
              "#f0f921"
             ]
            ],
            "type": "heatmap"
           }
          ],
          "heatmapgl": [
           {
            "colorbar": {
             "outlinewidth": 0,
             "ticks": ""
            },
            "colorscale": [
             [
              0,
              "#0d0887"
             ],
             [
              0.1111111111111111,
              "#46039f"
             ],
             [
              0.2222222222222222,
              "#7201a8"
             ],
             [
              0.3333333333333333,
              "#9c179e"
             ],
             [
              0.4444444444444444,
              "#bd3786"
             ],
             [
              0.5555555555555556,
              "#d8576b"
             ],
             [
              0.6666666666666666,
              "#ed7953"
             ],
             [
              0.7777777777777778,
              "#fb9f3a"
             ],
             [
              0.8888888888888888,
              "#fdca26"
             ],
             [
              1,
              "#f0f921"
             ]
            ],
            "type": "heatmapgl"
           }
          ],
          "histogram": [
           {
            "marker": {
             "pattern": {
              "fillmode": "overlay",
              "size": 10,
              "solidity": 0.2
             }
            },
            "type": "histogram"
           }
          ],
          "histogram2d": [
           {
            "colorbar": {
             "outlinewidth": 0,
             "ticks": ""
            },
            "colorscale": [
             [
              0,
              "#0d0887"
             ],
             [
              0.1111111111111111,
              "#46039f"
             ],
             [
              0.2222222222222222,
              "#7201a8"
             ],
             [
              0.3333333333333333,
              "#9c179e"
             ],
             [
              0.4444444444444444,
              "#bd3786"
             ],
             [
              0.5555555555555556,
              "#d8576b"
             ],
             [
              0.6666666666666666,
              "#ed7953"
             ],
             [
              0.7777777777777778,
              "#fb9f3a"
             ],
             [
              0.8888888888888888,
              "#fdca26"
             ],
             [
              1,
              "#f0f921"
             ]
            ],
            "type": "histogram2d"
           }
          ],
          "histogram2dcontour": [
           {
            "colorbar": {
             "outlinewidth": 0,
             "ticks": ""
            },
            "colorscale": [
             [
              0,
              "#0d0887"
             ],
             [
              0.1111111111111111,
              "#46039f"
             ],
             [
              0.2222222222222222,
              "#7201a8"
             ],
             [
              0.3333333333333333,
              "#9c179e"
             ],
             [
              0.4444444444444444,
              "#bd3786"
             ],
             [
              0.5555555555555556,
              "#d8576b"
             ],
             [
              0.6666666666666666,
              "#ed7953"
             ],
             [
              0.7777777777777778,
              "#fb9f3a"
             ],
             [
              0.8888888888888888,
              "#fdca26"
             ],
             [
              1,
              "#f0f921"
             ]
            ],
            "type": "histogram2dcontour"
           }
          ],
          "mesh3d": [
           {
            "colorbar": {
             "outlinewidth": 0,
             "ticks": ""
            },
            "type": "mesh3d"
           }
          ],
          "parcoords": [
           {
            "line": {
             "colorbar": {
              "outlinewidth": 0,
              "ticks": ""
             }
            },
            "type": "parcoords"
           }
          ],
          "pie": [
           {
            "automargin": true,
            "type": "pie"
           }
          ],
          "scatter": [
           {
            "fillpattern": {
             "fillmode": "overlay",
             "size": 10,
             "solidity": 0.2
            },
            "type": "scatter"
           }
          ],
          "scatter3d": [
           {
            "line": {
             "colorbar": {
              "outlinewidth": 0,
              "ticks": ""
             }
            },
            "marker": {
             "colorbar": {
              "outlinewidth": 0,
              "ticks": ""
             }
            },
            "type": "scatter3d"
           }
          ],
          "scattercarpet": [
           {
            "marker": {
             "colorbar": {
              "outlinewidth": 0,
              "ticks": ""
             }
            },
            "type": "scattercarpet"
           }
          ],
          "scattergeo": [
           {
            "marker": {
             "colorbar": {
              "outlinewidth": 0,
              "ticks": ""
             }
            },
            "type": "scattergeo"
           }
          ],
          "scattergl": [
           {
            "marker": {
             "colorbar": {
              "outlinewidth": 0,
              "ticks": ""
             }
            },
            "type": "scattergl"
           }
          ],
          "scattermapbox": [
           {
            "marker": {
             "colorbar": {
              "outlinewidth": 0,
              "ticks": ""
             }
            },
            "type": "scattermapbox"
           }
          ],
          "scatterpolar": [
           {
            "marker": {
             "colorbar": {
              "outlinewidth": 0,
              "ticks": ""
             }
            },
            "type": "scatterpolar"
           }
          ],
          "scatterpolargl": [
           {
            "marker": {
             "colorbar": {
              "outlinewidth": 0,
              "ticks": ""
             }
            },
            "type": "scatterpolargl"
           }
          ],
          "scatterternary": [
           {
            "marker": {
             "colorbar": {
              "outlinewidth": 0,
              "ticks": ""
             }
            },
            "type": "scatterternary"
           }
          ],
          "surface": [
           {
            "colorbar": {
             "outlinewidth": 0,
             "ticks": ""
            },
            "colorscale": [
             [
              0,
              "#0d0887"
             ],
             [
              0.1111111111111111,
              "#46039f"
             ],
             [
              0.2222222222222222,
              "#7201a8"
             ],
             [
              0.3333333333333333,
              "#9c179e"
             ],
             [
              0.4444444444444444,
              "#bd3786"
             ],
             [
              0.5555555555555556,
              "#d8576b"
             ],
             [
              0.6666666666666666,
              "#ed7953"
             ],
             [
              0.7777777777777778,
              "#fb9f3a"
             ],
             [
              0.8888888888888888,
              "#fdca26"
             ],
             [
              1,
              "#f0f921"
             ]
            ],
            "type": "surface"
           }
          ],
          "table": [
           {
            "cells": {
             "fill": {
              "color": "#EBF0F8"
             },
             "line": {
              "color": "white"
             }
            },
            "header": {
             "fill": {
              "color": "#C8D4E3"
             },
             "line": {
              "color": "white"
             }
            },
            "type": "table"
           }
          ]
         },
         "layout": {
          "annotationdefaults": {
           "arrowcolor": "#2a3f5f",
           "arrowhead": 0,
           "arrowwidth": 1
          },
          "autotypenumbers": "strict",
          "coloraxis": {
           "colorbar": {
            "outlinewidth": 0,
            "ticks": ""
           }
          },
          "colorscale": {
           "diverging": [
            [
             0,
             "#8e0152"
            ],
            [
             0.1,
             "#c51b7d"
            ],
            [
             0.2,
             "#de77ae"
            ],
            [
             0.3,
             "#f1b6da"
            ],
            [
             0.4,
             "#fde0ef"
            ],
            [
             0.5,
             "#f7f7f7"
            ],
            [
             0.6,
             "#e6f5d0"
            ],
            [
             0.7,
             "#b8e186"
            ],
            [
             0.8,
             "#7fbc41"
            ],
            [
             0.9,
             "#4d9221"
            ],
            [
             1,
             "#276419"
            ]
           ],
           "sequential": [
            [
             0,
             "#0d0887"
            ],
            [
             0.1111111111111111,
             "#46039f"
            ],
            [
             0.2222222222222222,
             "#7201a8"
            ],
            [
             0.3333333333333333,
             "#9c179e"
            ],
            [
             0.4444444444444444,
             "#bd3786"
            ],
            [
             0.5555555555555556,
             "#d8576b"
            ],
            [
             0.6666666666666666,
             "#ed7953"
            ],
            [
             0.7777777777777778,
             "#fb9f3a"
            ],
            [
             0.8888888888888888,
             "#fdca26"
            ],
            [
             1,
             "#f0f921"
            ]
           ],
           "sequentialminus": [
            [
             0,
             "#0d0887"
            ],
            [
             0.1111111111111111,
             "#46039f"
            ],
            [
             0.2222222222222222,
             "#7201a8"
            ],
            [
             0.3333333333333333,
             "#9c179e"
            ],
            [
             0.4444444444444444,
             "#bd3786"
            ],
            [
             0.5555555555555556,
             "#d8576b"
            ],
            [
             0.6666666666666666,
             "#ed7953"
            ],
            [
             0.7777777777777778,
             "#fb9f3a"
            ],
            [
             0.8888888888888888,
             "#fdca26"
            ],
            [
             1,
             "#f0f921"
            ]
           ]
          },
          "colorway": [
           "#636efa",
           "#EF553B",
           "#00cc96",
           "#ab63fa",
           "#FFA15A",
           "#19d3f3",
           "#FF6692",
           "#B6E880",
           "#FF97FF",
           "#FECB52"
          ],
          "font": {
           "color": "#2a3f5f"
          },
          "geo": {
           "bgcolor": "white",
           "lakecolor": "white",
           "landcolor": "#E5ECF6",
           "showlakes": true,
           "showland": true,
           "subunitcolor": "white"
          },
          "hoverlabel": {
           "align": "left"
          },
          "hovermode": "closest",
          "mapbox": {
           "style": "light"
          },
          "paper_bgcolor": "white",
          "plot_bgcolor": "#E5ECF6",
          "polar": {
           "angularaxis": {
            "gridcolor": "white",
            "linecolor": "white",
            "ticks": ""
           },
           "bgcolor": "#E5ECF6",
           "radialaxis": {
            "gridcolor": "white",
            "linecolor": "white",
            "ticks": ""
           }
          },
          "scene": {
           "xaxis": {
            "backgroundcolor": "#E5ECF6",
            "gridcolor": "white",
            "gridwidth": 2,
            "linecolor": "white",
            "showbackground": true,
            "ticks": "",
            "zerolinecolor": "white"
           },
           "yaxis": {
            "backgroundcolor": "#E5ECF6",
            "gridcolor": "white",
            "gridwidth": 2,
            "linecolor": "white",
            "showbackground": true,
            "ticks": "",
            "zerolinecolor": "white"
           },
           "zaxis": {
            "backgroundcolor": "#E5ECF6",
            "gridcolor": "white",
            "gridwidth": 2,
            "linecolor": "white",
            "showbackground": true,
            "ticks": "",
            "zerolinecolor": "white"
           }
          },
          "shapedefaults": {
           "line": {
            "color": "#2a3f5f"
           }
          },
          "ternary": {
           "aaxis": {
            "gridcolor": "white",
            "linecolor": "white",
            "ticks": ""
           },
           "baxis": {
            "gridcolor": "white",
            "linecolor": "white",
            "ticks": ""
           },
           "bgcolor": "#E5ECF6",
           "caxis": {
            "gridcolor": "white",
            "linecolor": "white",
            "ticks": ""
           }
          },
          "title": {
           "x": 0.05
          },
          "xaxis": {
           "automargin": true,
           "gridcolor": "white",
           "linecolor": "white",
           "ticks": "",
           "title": {
            "standoff": 15
           },
           "zerolinecolor": "white",
           "zerolinewidth": 2
          },
          "yaxis": {
           "automargin": true,
           "gridcolor": "white",
           "linecolor": "white",
           "ticks": "",
           "title": {
            "standoff": 15
           },
           "zerolinecolor": "white",
           "zerolinewidth": 2
          }
         }
        },
        "title": {
         "text": "Visualizing Clusters in Two Dimensions Using PCA"
        },
        "xaxis": {
         "ticklen": 5,
         "title": {
          "text": "PC1"
         },
         "zeroline": false
        },
        "yaxis": {
         "ticklen": 5,
         "title": {
          "text": "PC2"
         },
         "zeroline": false
        }
       }
      },
      "text/html": [
       "<div>                            <div id=\"9a982751-a3f1-484d-8847-196c7aa47a95\" class=\"plotly-graph-div\" style=\"height:525px; width:100%;\"></div>            <script type=\"text/javascript\">                require([\"plotly\"], function(Plotly) {                    window.PLOTLYENV=window.PLOTLYENV || {};                                    if (document.getElementById(\"9a982751-a3f1-484d-8847-196c7aa47a95\")) {                    Plotly.newPlot(                        \"9a982751-a3f1-484d-8847-196c7aa47a95\",                        [{\"marker\":{\"color\":\"rgba(255, 128, 255, 0.8)\"},\"mode\":\"markers\",\"name\":\"Cluster 0\",\"x\":[40.791124854674585,106.56629382887756,47.62245093124308,92.68449180862906,88.85142167809633,105.92613577001944,57.22705240500226,83.31747492390203,170.72679329011893,41.7636742025217,57.83664024597623,57.37354031527634,81.13516372629118,114.83098736278754,61.35021851578248,74.14006866523583,77.49699643446034,-80.90511526015057,17.53060764441805,-68.98100006814313,1.8881541652037466,16.033136923468692,7.611288109264369,-26.542406208301003,-9.050997405097684,-41.77572930085729,-7.995186720921742,1.8860813972145791,69.80001193055456,52.236576734092424,16.029551514630633,43.58569259008848,-1.3740964125621506,52.55503935676102,53.02783547763276,46.882164442872124,29.93517463580128,-33.80822801425254,-88.04706243613171,27.907010782649774,26.638078754725175,25.684343835494047,-7.5515262658061095,-50.90841467067137,-36.04894839278516,-10.901501691620117,-3.472647978280272,-37.1789173676398,12.013361261339853,15.1387809832752,19.04460690358263,-44.17453412037654,21.964178490346708,-69.39589984909033,-24.66257708777758,-48.701874355668416,-80.20970559877733,-67.19269035307764,32.31740184091969,-42.55603683633612,-33.21996386553243,-69.18314599977917],\"y\":[45.749679088150835,-15.106417598039002,-2.7048632437838407,-23.65065988645168,-6.441436961109044,16.450461443183304,-6.464211782107919,-18.868067734108923,-5.820683616391542,-8.154964793460591,6.024629959940572,-20.34552008663019,14.174244709054268,2.829285026763017,7.068517284106436,-34.20448657675983,-24.622354657517203,9.777494562839248,18.924866163637866,-10.033060293537446,4.618243958793392,52.142627505315076,24.12125930976367,1.7932817691516698,20.233888349423705,-34.56936753508537,-7.1174695108164725,-33.86607615961775,-13.620852931777582,-26.29441418556776,20.64995236937729,7.615114548671367,52.35111935551386,-22.990431295212797,-21.638646921442533,-18.384423489050903,-1.091268396781823,-11.044120473958465,7.433373569496046,62.641265288099724,-18.437357304250256,10.558102209015795,-47.15155864074735,-14.239907973618815,34.6271874977643,23.8645564795639,-14.67002208344635,-15.82418339191303,19.11689519168766,-5.87744546690766,-20.450757315850353,-9.786219532707603,-14.764182803977963,51.9231023149465,6.323122529218483,37.580320333258406,26.27951708163602,-2.7446018346985794,0.8765537498387389,-7.9102699561006755,4.294822328206417,63.176621839534384],\"type\":\"scatter\"},{\"marker\":{\"color\":\"rgba(255, 128, 2, 0.8)\"},\"mode\":\"markers\",\"name\":\"Cluster 1\",\"x\":[-43.130143334577006,-43.28641086240522,-54.17595064150934,-45.63370444048753,-77.4499838196462,-36.528856554152625,-40.69239256537464,-28.44633846899938,-81.4794740251131,-70.83903560563213,-47.612366851499026,-33.57280286894718,-73.05936006737677,-49.81300620015453,-50.43643374301457,-69.93966959038003,-27.95549115322772,-76.18304602266475,-34.34255919311688,-69.35311616199361,-30.895965588492004,-59.51850076506743,-61.00149914792878,-51.004496884127256,-40.482554831960165,-15.595866985182274,5.818731415528472,-25.24068806689562,12.20910872906986,56.06328608312322,60.88218367763911,-17.84614393259384,60.99310163685644,93.55197655004493,-35.06620730647284,-63.83260550389855,83.16735650501109,-29.52006886788995,35.99826673808875,-37.7595314030619,10.553811082678205,14.71616270782781,3.4673616845651773,33.5251420969123,-2.1492682856859497,43.32244737359883,61.963470081933565,57.650774132958745,-0.46645071793654924,41.19025339404689,-20.509072757488614,-15.08464890946384,-0.7734537090031425,0.9005050294331459,47.445745255825834,-10.762811673754504,62.275381347742496,-46.362091185445884,-32.829602457963134,-15.850037789993436,-54.15155902130751,56.18207647098234,24.854028550264218,-37.89266880264882,-42.093521938873664,-35.42397400537312,82.35950732170113,-98.63302298330578,22.087955378666514,38.41950343143441,1.2698730442009787,26.578209170351077,-28.147411499840512,16.04751994382094,47.437126677754,55.0206252469618,-0.019722439993558563,13.81752887646231,-5.865360148733168,-23.02014565271173,-16.950002353548065,-98.17238304179355,-42.34655211624939,-26.953861008742123,-13.426630916507097,6.0219382107865425,-55.730016614904756,-19.654943394538453,-25.686550004574205,-7.209079291939991,-58.95844592526247,-90.49813254086364,-5.426980233020519,15.604023422986428,-52.6118164587116,-115.76769330471272,-10.606471338727635],\"y\":[-24.527393651266618,-4.385930743648499,3.102519377304933,-7.5947584130947945,-20.966843019406685,4.396161392708874,18.123906087065336,-10.569088364011657,29.92073197622651,25.756410116830573,-29.222964175072217,-4.316431662193496,22.803223232780635,-2.8118896740727783,-23.645476401728548,10.004812129268856,-39.730490546151565,-12.964524460238856,22.437535352477312,-10.255020563614467,18.376375708065837,34.41394065118383,-3.1610816823535046,-31.22325281711674,-3.5149181073730156,4.535156336715358,-20.355127514686473,-38.036255077708404,-38.69311313934222,-9.89559430258743,-9.916694489594324,-0.5006414057985998,5.682273256579243,10.508568137739639,-13.53023708456706,-34.21369477092781,17.804363293141193,38.888416949330264,-21.742108031504664,-12.797645422319283,0.6978842463635185,-35.56646782139994,-11.002966905659973,44.97435453601546,-17.738375548526903,-4.253098242878113,18.398574519039297,-9.533516794840537,23.357213408354653,-9.860421634448423,38.534673805093384,-0.9249225248063424,-23.633429872036544,34.14071017513396,44.08086830838346,-3.5206145456441704,1.5593149425721662,23.87806321204967,-24.59044790292633,-7.376327022387725,-13.154819917534667,27.73712928166762,-30.565264122640972,-46.7972154742269,37.871400193298484,16.75092898602717,37.00297541334668,20.732857671060593,29.423367445170626,31.066464769520536,2.301866748187066,26.393959944523342,45.878447625872695,44.407465457402246,-9.939785917164137,-35.40238517982916,11.764476249173088,7.53904039450721,-3.2569982292044917,-30.81871797457527,16.676362642764456,24.84660373594084,-11.084805985094192,-4.5086402584932115,-11.148412232281613,-30.635851241026387,-28.464764276885052,8.785275424548814,-13.130618332497951,-20.40951382287135,8.261176055038183,-35.22075238504615,27.22119429477879,12.487979203151669,12.505098293255447,34.612005998934,-23.83996462031546],\"type\":\"scatter\"},{\"marker\":{\"color\":\"rgba(0, 255, 200, 0.8)\"},\"mode\":\"markers\",\"name\":\"Cluster 2\",\"x\":[-12.768291506058972,-18.026315585080958,2.722718956981406,-11.14369769022738,21.946239208848286,7.406331800822835,9.119194880395348,15.340879514445533,-18.992233846508626,-7.301400461108625,27.76506170010073,19.01677698685784,37.28643730803766,36.72797306097788,-22.442335991246814,-19.619740145675262,0.8731165226686037,-6.817490468580164,-17.244885742616784,-12.364359733832629,-14.044707119390745,-20.593104669441995,29.956503375446058,-2.6888220377564362,-20.63162463996242,-17.535960782280245,-3.1239408346279984,6.274478855806959,18.512526130013015,-13.411640992851579,25.814718798029567,35.98797064720858,-13.73505631111185,-15.135823942083553,23.73006407484975,7.388532668312566,19.52342485311395,0.5288366547874583,10.99578935719361,-1.9144609687543537,23.99933530463728,16.998845429997147,30.13832662516393,-11.521458096364718,10.288514872247122,8.979997844857301,54.92137665564132,-107.01742892363018,7.986490877220548,-8.768052762729207,12.390342842983223,-45.61885740067239,-65.94629095996419,-59.52913057440261,12.7593897684592,-29.052030136381845,-61.20988610521816,-44.130956162114344,8.887590936385614,161.18580973769662,-13.029019158782214,44.61360217226651,-27.591979865320514,-21.7910450559813,-43.374639903709166,-34.539164437374055,-71.55281277101004,-50.115287685775776,-25.06418956137174,-5.258776563199629,43.78758352661948,60.68645736908403,316.23367113744087,75.28633712565173,-51.54049450832733,7.724212207925097,-39.49244904769973,23.94820776637659,4.504867428729479,147.6643460113538,-33.78937975531156,-62.86496616550955,67.65201349103764,162.07536134546064,-2.2086418081316883,59.723736869750866,-50.76915751240057,39.515517345747796,8.133708136212242,51.24931318278031,27.624271111226953,5.9814402301978795,80.90832109309164,-119.37094064460942,66.73926084360949,-1.5438150550157868,-16.744850143718747,-33.1755790664315,-17.79433041120944,-44.24663604626302,-3.7411890504003633,19.81505368406392,-50.0087731176714,34.30408536205665,21.377474252700793,-44.03152061096198,31.78306414672433,-50.43032058588426,35.820387555653234,24.157556312229346,47.13627035917487,-13.350941441427613,58.39558369356048,-12.438588271931744,-10.417033294895521,-14.228961117886795,-35.03230821359713,-38.69286290422546,-46.87568269612527,-38.620005274741885,72.44016298594906,-5.506430178571768,-21.609140569491245,67.69569147727597,-28.95926835241216,64.02602019530214,-17.402880622625325,-49.769828116746226,86.96942383562569,-41.99054754839517,70.23797755048092,95.15347682140744,-49.867096179903285,-20.397209587477946,-147.23034754768247],\"y\":[2.560981538647494,20.85787724096562,-40.106300579372274,-29.170624050395908,-8.131551971971648,3.6207292042519277,7.202777751379739,-26.510073692700995,-21.853743759480835,-9.515913212195278,8.425195596040092,-22.565272765110667,-9.872961995066081,-11.513453785666293,-22.14815952044736,38.7935593390035,-21.0261505148561,1.909939946223511,-11.013687556031378,-10.085900576770298,-31.01961925930563,-29.137221077309295,38.94014722610049,15.353787333871932,38.85360978407921,-16.804718771597614,22.418096166968756,5.991615165020059,38.294855236429804,-12.993416710499273,-3.7461382072655223,9.651626425529122,-13.034054383137923,3.083655547099998,5.742020591263451,-11.884379407091497,48.97137153098869,-9.210653120368914,8.320330246442046,-31.37477641041757,40.18398176307041,5.514358734287572,7.53487564683468,-30.80114514880604,-7.242566796884777,-0.6632137365715022,-1.4560990232428452,-29.179609040739496,-12.292002652517834,5.462958273516175,-4.207234703490792,-8.420882284763834,-29.069137854018514,8.203891245572683,8.882272059265693,4.976950435973239,-41.43726166781414,15.166945397125952,-1.967415642969955,-1.6731701724202124,-26.948561672555474,24.426177725999153,-23.397504749086924,-9.624525173502182,-55.94497566656431,-18.38000216672761,28.742828223849266,14.377519489604808,-12.45661886036255,-6.8789480851946365,29.08444118639039,-22.821775785049066,-12.291429168184978,41.40593011254866,-11.443991489677378,-27.27613760874225,-17.467788963665043,42.59324666749659,12.040822215385363,-6.179836306508608,20.57609616185179,44.038609581568856,-15.120596719746874,-1.0540568824625116,-28.281143122706457,-7.6705885733557295,-26.19903615329018,-37.543364387594465,6.893240422308594,26.911583571729622,27.69059217527317,-13.010477868392826,2.388199691597986,-19.62983194358286,18.173410027677786,-1.0201789308020868,-35.97778778237075,-20.654396138503095,-13.202598182524401,-26.714204478280354,-3.393481179999963,-27.141730996635978,-36.07304042263891,51.59616866138981,-20.71982441755664,2.638654773582581,-17.740997351611444,-18.8711436672392,45.131509856329515,-13.332452832034921,-16.440782981419986,-8.656674914494758,-16.93762413695588,5.723268529078182,77.25246387529603,-9.601116538613145,-19.13614528305804,10.11632043649815,20.88836239783813,-26.582684026568227,-1.970128617990111,-18.02536373189939,-22.44764117882918,21.6695378045682,15.317795666323772,27.815184022093884,0.9213408352963911,18.5459959388281,3.52610930368258,18.9085176167017,7.302852996096701,-16.873738955114348,13.842435890272505,51.182958314296904,28.494569094041204],\"type\":\"scatter\"}],                        {\"template\":{\"data\":{\"barpolar\":[{\"marker\":{\"line\":{\"color\":\"#E5ECF6\",\"width\":0.5},\"pattern\":{\"fillmode\":\"overlay\",\"size\":10,\"solidity\":0.2}},\"type\":\"barpolar\"}],\"bar\":[{\"error_x\":{\"color\":\"#2a3f5f\"},\"error_y\":{\"color\":\"#2a3f5f\"},\"marker\":{\"line\":{\"color\":\"#E5ECF6\",\"width\":0.5},\"pattern\":{\"fillmode\":\"overlay\",\"size\":10,\"solidity\":0.2}},\"type\":\"bar\"}],\"carpet\":[{\"aaxis\":{\"endlinecolor\":\"#2a3f5f\",\"gridcolor\":\"white\",\"linecolor\":\"white\",\"minorgridcolor\":\"white\",\"startlinecolor\":\"#2a3f5f\"},\"baxis\":{\"endlinecolor\":\"#2a3f5f\",\"gridcolor\":\"white\",\"linecolor\":\"white\",\"minorgridcolor\":\"white\",\"startlinecolor\":\"#2a3f5f\"},\"type\":\"carpet\"}],\"choropleth\":[{\"colorbar\":{\"outlinewidth\":0,\"ticks\":\"\"},\"type\":\"choropleth\"}],\"contourcarpet\":[{\"colorbar\":{\"outlinewidth\":0,\"ticks\":\"\"},\"type\":\"contourcarpet\"}],\"contour\":[{\"colorbar\":{\"outlinewidth\":0,\"ticks\":\"\"},\"colorscale\":[[0.0,\"#0d0887\"],[0.1111111111111111,\"#46039f\"],[0.2222222222222222,\"#7201a8\"],[0.3333333333333333,\"#9c179e\"],[0.4444444444444444,\"#bd3786\"],[0.5555555555555556,\"#d8576b\"],[0.6666666666666666,\"#ed7953\"],[0.7777777777777778,\"#fb9f3a\"],[0.8888888888888888,\"#fdca26\"],[1.0,\"#f0f921\"]],\"type\":\"contour\"}],\"heatmapgl\":[{\"colorbar\":{\"outlinewidth\":0,\"ticks\":\"\"},\"colorscale\":[[0.0,\"#0d0887\"],[0.1111111111111111,\"#46039f\"],[0.2222222222222222,\"#7201a8\"],[0.3333333333333333,\"#9c179e\"],[0.4444444444444444,\"#bd3786\"],[0.5555555555555556,\"#d8576b\"],[0.6666666666666666,\"#ed7953\"],[0.7777777777777778,\"#fb9f3a\"],[0.8888888888888888,\"#fdca26\"],[1.0,\"#f0f921\"]],\"type\":\"heatmapgl\"}],\"heatmap\":[{\"colorbar\":{\"outlinewidth\":0,\"ticks\":\"\"},\"colorscale\":[[0.0,\"#0d0887\"],[0.1111111111111111,\"#46039f\"],[0.2222222222222222,\"#7201a8\"],[0.3333333333333333,\"#9c179e\"],[0.4444444444444444,\"#bd3786\"],[0.5555555555555556,\"#d8576b\"],[0.6666666666666666,\"#ed7953\"],[0.7777777777777778,\"#fb9f3a\"],[0.8888888888888888,\"#fdca26\"],[1.0,\"#f0f921\"]],\"type\":\"heatmap\"}],\"histogram2dcontour\":[{\"colorbar\":{\"outlinewidth\":0,\"ticks\":\"\"},\"colorscale\":[[0.0,\"#0d0887\"],[0.1111111111111111,\"#46039f\"],[0.2222222222222222,\"#7201a8\"],[0.3333333333333333,\"#9c179e\"],[0.4444444444444444,\"#bd3786\"],[0.5555555555555556,\"#d8576b\"],[0.6666666666666666,\"#ed7953\"],[0.7777777777777778,\"#fb9f3a\"],[0.8888888888888888,\"#fdca26\"],[1.0,\"#f0f921\"]],\"type\":\"histogram2dcontour\"}],\"histogram2d\":[{\"colorbar\":{\"outlinewidth\":0,\"ticks\":\"\"},\"colorscale\":[[0.0,\"#0d0887\"],[0.1111111111111111,\"#46039f\"],[0.2222222222222222,\"#7201a8\"],[0.3333333333333333,\"#9c179e\"],[0.4444444444444444,\"#bd3786\"],[0.5555555555555556,\"#d8576b\"],[0.6666666666666666,\"#ed7953\"],[0.7777777777777778,\"#fb9f3a\"],[0.8888888888888888,\"#fdca26\"],[1.0,\"#f0f921\"]],\"type\":\"histogram2d\"}],\"histogram\":[{\"marker\":{\"pattern\":{\"fillmode\":\"overlay\",\"size\":10,\"solidity\":0.2}},\"type\":\"histogram\"}],\"mesh3d\":[{\"colorbar\":{\"outlinewidth\":0,\"ticks\":\"\"},\"type\":\"mesh3d\"}],\"parcoords\":[{\"line\":{\"colorbar\":{\"outlinewidth\":0,\"ticks\":\"\"}},\"type\":\"parcoords\"}],\"pie\":[{\"automargin\":true,\"type\":\"pie\"}],\"scatter3d\":[{\"line\":{\"colorbar\":{\"outlinewidth\":0,\"ticks\":\"\"}},\"marker\":{\"colorbar\":{\"outlinewidth\":0,\"ticks\":\"\"}},\"type\":\"scatter3d\"}],\"scattercarpet\":[{\"marker\":{\"colorbar\":{\"outlinewidth\":0,\"ticks\":\"\"}},\"type\":\"scattercarpet\"}],\"scattergeo\":[{\"marker\":{\"colorbar\":{\"outlinewidth\":0,\"ticks\":\"\"}},\"type\":\"scattergeo\"}],\"scattergl\":[{\"marker\":{\"colorbar\":{\"outlinewidth\":0,\"ticks\":\"\"}},\"type\":\"scattergl\"}],\"scattermapbox\":[{\"marker\":{\"colorbar\":{\"outlinewidth\":0,\"ticks\":\"\"}},\"type\":\"scattermapbox\"}],\"scatterpolargl\":[{\"marker\":{\"colorbar\":{\"outlinewidth\":0,\"ticks\":\"\"}},\"type\":\"scatterpolargl\"}],\"scatterpolar\":[{\"marker\":{\"colorbar\":{\"outlinewidth\":0,\"ticks\":\"\"}},\"type\":\"scatterpolar\"}],\"scatter\":[{\"fillpattern\":{\"fillmode\":\"overlay\",\"size\":10,\"solidity\":0.2},\"type\":\"scatter\"}],\"scatterternary\":[{\"marker\":{\"colorbar\":{\"outlinewidth\":0,\"ticks\":\"\"}},\"type\":\"scatterternary\"}],\"surface\":[{\"colorbar\":{\"outlinewidth\":0,\"ticks\":\"\"},\"colorscale\":[[0.0,\"#0d0887\"],[0.1111111111111111,\"#46039f\"],[0.2222222222222222,\"#7201a8\"],[0.3333333333333333,\"#9c179e\"],[0.4444444444444444,\"#bd3786\"],[0.5555555555555556,\"#d8576b\"],[0.6666666666666666,\"#ed7953\"],[0.7777777777777778,\"#fb9f3a\"],[0.8888888888888888,\"#fdca26\"],[1.0,\"#f0f921\"]],\"type\":\"surface\"}],\"table\":[{\"cells\":{\"fill\":{\"color\":\"#EBF0F8\"},\"line\":{\"color\":\"white\"}},\"header\":{\"fill\":{\"color\":\"#C8D4E3\"},\"line\":{\"color\":\"white\"}},\"type\":\"table\"}]},\"layout\":{\"annotationdefaults\":{\"arrowcolor\":\"#2a3f5f\",\"arrowhead\":0,\"arrowwidth\":1},\"autotypenumbers\":\"strict\",\"coloraxis\":{\"colorbar\":{\"outlinewidth\":0,\"ticks\":\"\"}},\"colorscale\":{\"diverging\":[[0,\"#8e0152\"],[0.1,\"#c51b7d\"],[0.2,\"#de77ae\"],[0.3,\"#f1b6da\"],[0.4,\"#fde0ef\"],[0.5,\"#f7f7f7\"],[0.6,\"#e6f5d0\"],[0.7,\"#b8e186\"],[0.8,\"#7fbc41\"],[0.9,\"#4d9221\"],[1,\"#276419\"]],\"sequential\":[[0.0,\"#0d0887\"],[0.1111111111111111,\"#46039f\"],[0.2222222222222222,\"#7201a8\"],[0.3333333333333333,\"#9c179e\"],[0.4444444444444444,\"#bd3786\"],[0.5555555555555556,\"#d8576b\"],[0.6666666666666666,\"#ed7953\"],[0.7777777777777778,\"#fb9f3a\"],[0.8888888888888888,\"#fdca26\"],[1.0,\"#f0f921\"]],\"sequentialminus\":[[0.0,\"#0d0887\"],[0.1111111111111111,\"#46039f\"],[0.2222222222222222,\"#7201a8\"],[0.3333333333333333,\"#9c179e\"],[0.4444444444444444,\"#bd3786\"],[0.5555555555555556,\"#d8576b\"],[0.6666666666666666,\"#ed7953\"],[0.7777777777777778,\"#fb9f3a\"],[0.8888888888888888,\"#fdca26\"],[1.0,\"#f0f921\"]]},\"colorway\":[\"#636efa\",\"#EF553B\",\"#00cc96\",\"#ab63fa\",\"#FFA15A\",\"#19d3f3\",\"#FF6692\",\"#B6E880\",\"#FF97FF\",\"#FECB52\"],\"font\":{\"color\":\"#2a3f5f\"},\"geo\":{\"bgcolor\":\"white\",\"lakecolor\":\"white\",\"landcolor\":\"#E5ECF6\",\"showlakes\":true,\"showland\":true,\"subunitcolor\":\"white\"},\"hoverlabel\":{\"align\":\"left\"},\"hovermode\":\"closest\",\"mapbox\":{\"style\":\"light\"},\"paper_bgcolor\":\"white\",\"plot_bgcolor\":\"#E5ECF6\",\"polar\":{\"angularaxis\":{\"gridcolor\":\"white\",\"linecolor\":\"white\",\"ticks\":\"\"},\"bgcolor\":\"#E5ECF6\",\"radialaxis\":{\"gridcolor\":\"white\",\"linecolor\":\"white\",\"ticks\":\"\"}},\"scene\":{\"xaxis\":{\"backgroundcolor\":\"#E5ECF6\",\"gridcolor\":\"white\",\"gridwidth\":2,\"linecolor\":\"white\",\"showbackground\":true,\"ticks\":\"\",\"zerolinecolor\":\"white\"},\"yaxis\":{\"backgroundcolor\":\"#E5ECF6\",\"gridcolor\":\"white\",\"gridwidth\":2,\"linecolor\":\"white\",\"showbackground\":true,\"ticks\":\"\",\"zerolinecolor\":\"white\"},\"zaxis\":{\"backgroundcolor\":\"#E5ECF6\",\"gridcolor\":\"white\",\"gridwidth\":2,\"linecolor\":\"white\",\"showbackground\":true,\"ticks\":\"\",\"zerolinecolor\":\"white\"}},\"shapedefaults\":{\"line\":{\"color\":\"#2a3f5f\"}},\"ternary\":{\"aaxis\":{\"gridcolor\":\"white\",\"linecolor\":\"white\",\"ticks\":\"\"},\"baxis\":{\"gridcolor\":\"white\",\"linecolor\":\"white\",\"ticks\":\"\"},\"bgcolor\":\"#E5ECF6\",\"caxis\":{\"gridcolor\":\"white\",\"linecolor\":\"white\",\"ticks\":\"\"}},\"title\":{\"x\":0.05},\"xaxis\":{\"automargin\":true,\"gridcolor\":\"white\",\"linecolor\":\"white\",\"ticks\":\"\",\"title\":{\"standoff\":15},\"zerolinecolor\":\"white\",\"zerolinewidth\":2},\"yaxis\":{\"automargin\":true,\"gridcolor\":\"white\",\"linecolor\":\"white\",\"ticks\":\"\",\"title\":{\"standoff\":15},\"zerolinecolor\":\"white\",\"zerolinewidth\":2}}},\"title\":{\"text\":\"Visualizing Clusters in Two Dimensions Using PCA\"},\"xaxis\":{\"ticklen\":5,\"title\":{\"text\":\"PC1\"},\"zeroline\":false},\"yaxis\":{\"ticklen\":5,\"title\":{\"text\":\"PC2\"},\"zeroline\":false}},                        {\"responsive\": true}                    ).then(function(){\n",
       "                            \n",
       "var gd = document.getElementById('9a982751-a3f1-484d-8847-196c7aa47a95');\n",
       "var x = new MutationObserver(function (mutations, observer) {{\n",
       "        var display = window.getComputedStyle(gd).display;\n",
       "        if (!display || display === 'none') {{\n",
       "            console.log([gd, 'removed!']);\n",
       "            Plotly.purge(gd);\n",
       "            observer.disconnect();\n",
       "        }}\n",
       "}});\n",
       "\n",
       "// Listen for the removal of the full notebook cells\n",
       "var notebookContainer = gd.closest('#notebook-container');\n",
       "if (notebookContainer) {{\n",
       "    x.observe(notebookContainer, {childList: true});\n",
       "}}\n",
       "\n",
       "// Listen for the clearing of the current output cell\n",
       "var outputEl = gd.closest('.output');\n",
       "if (outputEl) {{\n",
       "    x.observe(outputEl, {childList: true});\n",
       "}}\n",
       "\n",
       "                        })                };                });            </script>        </div>"
      ]
     },
     "metadata": {},
     "output_type": "display_data"
    }
   ],
   "source": [
    "iplot(fig)"
   ]
  },
  {
   "cell_type": "markdown",
   "metadata": {},
   "source": [
    "### ...for processed data"
   ]
  },
  {
   "cell_type": "code",
   "execution_count": 50,
   "metadata": {},
   "outputs": [],
   "source": [
    "PCs_2d_proc = pd.DataFrame(pca_2d.fit_transform(dat_preproc.drop([\"Clusters\"], axis=1)))"
   ]
  },
  {
   "cell_type": "code",
   "execution_count": 51,
   "metadata": {},
   "outputs": [],
   "source": [
    "PCs_2d_proc.columns = [\"PC1\", \"PC2\"]"
   ]
  },
  {
   "cell_type": "code",
   "execution_count": 52,
   "metadata": {},
   "outputs": [],
   "source": [
    "plotData_proc = pd.concat([dat_preproc, PCs_2d], axis=1, join=\"inner\")"
   ]
  },
  {
   "cell_type": "code",
   "execution_count": 53,
   "metadata": {},
   "outputs": [],
   "source": [
    "x_proc = SubClusterDF(k, plotData_proc)"
   ]
  },
  {
   "cell_type": "code",
   "execution_count": 54,
   "metadata": {},
   "outputs": [],
   "source": [
    "traces_proc = SubScatterCluster(clusters=x_proc, cols=colors)"
   ]
  },
  {
   "cell_type": "code",
   "execution_count": 55,
   "metadata": {},
   "outputs": [],
   "source": [
    "fig_proc = dict(data=traces_proc, layout=layout)"
   ]
  },
  {
   "cell_type": "code",
   "execution_count": 56,
   "metadata": {},
   "outputs": [
    {
     "data": {
      "application/vnd.plotly.v1+json": {
       "config": {
        "linkText": "Export to plot.ly",
        "plotlyServerURL": "https://plot.ly",
        "showLink": false
       },
       "data": [
        {
         "marker": {
          "color": "rgba(255, 128, 255, 0.8)"
         },
         "mode": "markers",
         "name": "Cluster 0",
         "type": "scatter",
         "x": [
          2.722718956981406,
          -43.130143334577006,
          -11.14369769022738,
          15.340879514445533,
          -18.992233846508626,
          19.01677698685784,
          -28.44633846899938,
          0.8731165226686037,
          -17.244885742616784,
          -14.044707119390745,
          -20.593104669441995,
          -47.612366851499026,
          -73.05936006737677,
          -49.81300620015453,
          -50.43643374301457,
          41.7636742025217,
          -27.95549115322772,
          -13.411640992851579,
          -76.18304602266475,
          -69.35311616199361,
          -51.004496884127256,
          -1.9144609687543537,
          -40.482554831960165,
          74.14006866523583,
          -11.521458096364718,
          10.288514872247122,
          -107.01742892363018,
          -45.61885740067239,
          -25.24068806689562,
          12.20910872906986,
          -65.94629095996419,
          -59.52913057440261,
          60.88218367763911,
          -17.84614393259384,
          -29.052030136381845,
          -61.20988610521816,
          -44.130956162114344,
          -63.83260550389855,
          8.887590936385614,
          -26.542406208301003,
          -13.029019158782214,
          -27.591979865320514,
          -21.7910450559813,
          -43.374639903709166,
          14.71616270782781,
          -34.539164437374055,
          -50.115287685775776,
          -2.1492682856859497,
          -41.77572930085729,
          -7.995186720921742,
          -5.258776563199629,
          1.8860813972145791,
          60.68645736908403,
          16.029551514630633,
          -51.54049450832733,
          -33.80822801425254,
          7.724212207925097,
          -39.49244904769973,
          -88.04706243613171,
          -15.08464890946384,
          67.65201349103764,
          -0.7734537090031425,
          26.638078754725175,
          -2.2086418081316883,
          -7.5515262658061095,
          -50.90841467067137,
          -10.762811673754504,
          -3.472647978280272,
          5.9814402301978795,
          -119.37094064460942,
          -37.1789173676398,
          15.1387809832752,
          -32.829602457963134,
          -16.744850143718747,
          -33.1755790664315,
          -17.79433041120944,
          -54.15155902130751,
          -44.24663604626302,
          -3.7411890504003633,
          19.81505368406392,
          19.04460690358263,
          -50.0087731176714,
          -37.89266880264882,
          -44.03152061096198,
          -42.093521938873664,
          -50.43032058588426,
          -98.63302298330578,
          1.2698730442009787,
          24.157556312229346,
          47.13627035917487,
          -13.350941441427613,
          58.39558369356048,
          21.964178490346708,
          -14.228961117886795,
          26.578209170351077,
          -35.03230821359713,
          47.437126677754,
          55.0206252469618,
          -38.620005274741885,
          -5.865360148733168,
          -21.609140569491245,
          -23.02014565271173,
          -67.19269035307764,
          -42.34655211624939,
          -26.953861008742123,
          6.0219382107865425,
          -55.730016614904756,
          -7.209079291939991,
          -90.49813254086364,
          15.604023422986428,
          -10.606471338727635
         ],
         "y": [
          -40.106300579372274,
          -24.527393651266618,
          -29.170624050395908,
          -26.510073692700995,
          -21.853743759480835,
          -22.565272765110667,
          -10.569088364011657,
          -21.0261505148561,
          -11.013687556031378,
          -31.01961925930563,
          -29.137221077309295,
          -29.222964175072217,
          22.803223232780635,
          -2.8118896740727783,
          -23.645476401728548,
          -8.154964793460591,
          -39.730490546151565,
          -12.993416710499273,
          -12.964524460238856,
          -10.255020563614467,
          -31.22325281711674,
          -31.37477641041757,
          -3.5149181073730156,
          -34.20448657675983,
          -30.80114514880604,
          -7.242566796884777,
          -29.179609040739496,
          -8.420882284763834,
          -38.036255077708404,
          -38.69311313934222,
          -29.069137854018514,
          8.203891245572683,
          -9.916694489594324,
          -0.5006414057985998,
          4.976950435973239,
          -41.43726166781414,
          15.166945397125952,
          -34.21369477092781,
          -1.967415642969955,
          1.7932817691516698,
          -26.948561672555474,
          -23.397504749086924,
          -9.624525173502182,
          -55.94497566656431,
          -35.56646782139994,
          -18.38000216672761,
          14.377519489604808,
          -17.738375548526903,
          -34.56936753508537,
          -7.1174695108164725,
          -6.8789480851946365,
          -33.86607615961775,
          -22.821775785049066,
          20.64995236937729,
          -11.443991489677378,
          -11.044120473958465,
          -27.27613760874225,
          -17.467788963665043,
          7.433373569496046,
          -0.9249225248063424,
          -15.120596719746874,
          -23.633429872036544,
          -18.437357304250256,
          -28.281143122706457,
          -47.15155864074735,
          -14.239907973618815,
          -3.5206145456441704,
          -14.67002208344635,
          -13.010477868392826,
          -19.62983194358286,
          -15.82418339191303,
          -5.87744546690766,
          -24.59044790292633,
          -35.97778778237075,
          -20.654396138503095,
          -13.202598182524401,
          -13.154819917534667,
          -26.714204478280354,
          -3.393481179999963,
          -27.141730996635978,
          -20.450757315850353,
          -36.07304042263891,
          -46.7972154742269,
          2.638654773582581,
          37.871400193298484,
          -18.8711436672392,
          20.732857671060593,
          2.301866748187066,
          -13.332452832034921,
          -16.440782981419986,
          -8.656674914494758,
          -16.93762413695588,
          -14.764182803977963,
          -9.601116538613145,
          26.393959944523342,
          -19.13614528305804,
          -9.939785917164137,
          -35.40238517982916,
          -26.582684026568227,
          -3.2569982292044917,
          -22.44764117882918,
          -30.81871797457527,
          -2.7446018346985794,
          -11.084805985094192,
          -4.5086402584932115,
          -30.635851241026387,
          -28.464764276885052,
          -20.40951382287135,
          -35.22075238504615,
          12.487979203151669,
          -23.83996462031546
         ]
        },
        {
         "marker": {
          "color": "rgba(255, 128, 2, 0.8)"
         },
         "mode": "markers",
         "name": "Cluster 1",
         "type": "scatter",
         "x": [
          -12.768291506058972,
          40.791124854674585,
          -18.026315585080958,
          21.946239208848286,
          7.406331800822835,
          -43.28641086240522,
          -36.528856554152625,
          -22.442335991246814,
          -40.69239256537464,
          -19.619740145675262,
          -81.4794740251131,
          -70.83903560563213,
          29.956503375446058,
          -20.63162463996242,
          -17.535960782280245,
          -3.1239408346279984,
          6.274478855806959,
          18.512526130013015,
          -34.34255919311688,
          -30.895965588492004,
          -59.51850076506743,
          35.98797064720858,
          -61.00149914792878,
          81.13516372629118,
          -15.135823942083553,
          19.52342485311395,
          10.99578935719361,
          23.99933530463728,
          -80.90511526015057,
          -15.595866985182274,
          -8.768052762729207,
          12.390342842983223,
          12.7593897684592,
          1.8881541652037466,
          93.55197655004493,
          16.033136923468692,
          7.611288109264369,
          161.18580973769662,
          -29.52006886788995,
          44.61360217226651,
          -9.050997405097684,
          -71.55281277101004,
          33.5251420969123,
          -1.3740964125621506,
          75.28633712565173,
          -0.46645071793654924,
          23.94820776637659,
          -33.78937975531156,
          27.907010782649774,
          -62.86496616550955,
          25.684343835494047,
          8.133708136212242,
          51.24931318278031,
          47.445745255825834,
          -36.04894839278516,
          12.013361261339853,
          -46.362091185445884,
          -1.5438150550157868,
          56.18207647098234,
          34.30408536205665,
          82.35950732170113,
          38.41950343143441,
          35.820387555653234,
          -12.438588271931744,
          -69.39589984909033,
          -10.417033294895521,
          -46.87568269612527,
          -28.147411499840512,
          -48.701874355668416,
          -80.20970559877733,
          -28.95926835241216,
          -16.950002353548065,
          64.02602019530214,
          -98.17238304179355,
          -49.769828116746226,
          86.96942383562569,
          -41.99054754839517,
          70.23797755048092,
          -19.654943394538453,
          -58.95844592526247,
          -69.18314599977917,
          -5.426980233020519,
          -52.6118164587116,
          -115.76769330471272,
          -20.397209587477946,
          -147.23034754768247
         ],
         "y": [
          2.560981538647494,
          45.749679088150835,
          20.85787724096562,
          -8.131551971971648,
          3.6207292042519277,
          -4.385930743648499,
          4.396161392708874,
          -22.14815952044736,
          18.123906087065336,
          38.7935593390035,
          29.92073197622651,
          25.756410116830573,
          38.94014722610049,
          38.85360978407921,
          -16.804718771597614,
          22.418096166968756,
          5.991615165020059,
          38.294855236429804,
          22.437535352477312,
          18.376375708065837,
          34.41394065118383,
          9.651626425529122,
          -3.1610816823535046,
          14.174244709054268,
          3.083655547099998,
          48.97137153098869,
          8.320330246442046,
          40.18398176307041,
          9.777494562839248,
          4.535156336715358,
          5.462958273516175,
          -4.207234703490792,
          8.882272059265693,
          4.618243958793392,
          10.508568137739639,
          52.142627505315076,
          24.12125930976367,
          -1.6731701724202124,
          38.888416949330264,
          24.426177725999153,
          20.233888349423705,
          28.742828223849266,
          44.97435453601546,
          52.35111935551386,
          41.40593011254866,
          23.357213408354653,
          42.59324666749659,
          20.57609616185179,
          62.641265288099724,
          44.038609581568856,
          10.558102209015795,
          6.893240422308594,
          26.911583571729622,
          44.08086830838346,
          34.6271874977643,
          19.11689519168766,
          23.87806321204967,
          -1.0201789308020868,
          27.73712928166762,
          51.59616866138981,
          37.00297541334668,
          31.066464769520536,
          45.131509856329515,
          5.723268529078182,
          51.9231023149465,
          77.25246387529603,
          20.88836239783813,
          45.878447625872695,
          37.580320333258406,
          26.27951708163602,
          15.317795666323772,
          16.676362642764456,
          27.815184022093884,
          24.84660373594084,
          18.5459959388281,
          3.52610930368258,
          18.9085176167017,
          7.302852996096701,
          8.785275424548814,
          8.261176055038183,
          63.176621839534384,
          27.22119429477879,
          12.505098293255447,
          34.612005998934,
          51.182958314296904,
          28.494569094041204
         ]
        },
        {
         "marker": {
          "color": "rgba(0, 255, 200, 0.8)"
         },
         "mode": "markers",
         "name": "Cluster 2",
         "type": "scatter",
         "x": [
          106.56629382887756,
          -54.17595064150934,
          47.62245093124308,
          9.119194880395348,
          -45.63370444048753,
          -77.4499838196462,
          -7.301400461108625,
          27.76506170010073,
          37.28643730803766,
          36.72797306097788,
          92.68449180862906,
          -6.817490468580164,
          88.85142167809633,
          -12.364359733832629,
          105.92613577001944,
          -2.6888220377564362,
          57.22705240500226,
          -33.57280286894718,
          83.31747492390203,
          170.72679329011893,
          -69.93966959038003,
          25.814718798029567,
          57.83664024597623,
          57.37354031527634,
          -13.73505631111185,
          23.73006407484975,
          7.388532668312566,
          0.5288366547874583,
          114.83098736278754,
          61.35021851578248,
          16.998845429997147,
          30.13832662516393,
          77.49699643446034,
          8.979997844857301,
          54.92137665564132,
          5.818731415528472,
          7.986490877220548,
          56.06328608312322,
          17.53060764441805,
          -68.98100006814313,
          60.99310163685644,
          -35.06620730647284,
          83.16735650501109,
          35.99826673808875,
          -37.7595314030619,
          10.553811082678205,
          3.4673616845651773,
          -25.06418956137174,
          43.32244737359883,
          61.963470081933565,
          43.78758352661948,
          69.80001193055456,
          52.236576734092424,
          316.23367113744087,
          43.58569259008848,
          52.55503935676102,
          53.02783547763276,
          46.882164442872124,
          29.93517463580128,
          57.650774132958745,
          41.19025339404689,
          -20.509072757488614,
          4.504867428729479,
          147.6643460113538,
          162.07536134546064,
          59.723736869750866,
          -50.76915751240057,
          0.9005050294331459,
          39.515517345747796,
          -10.901501691620117,
          27.624271111226953,
          80.90832109309164,
          66.73926084360949,
          62.275381347742496,
          -15.850037789993436,
          24.854028550264218,
          21.377474252700793,
          31.78306414672433,
          -35.42397400537312,
          22.087955378666514,
          -44.17453412037654,
          -38.69286290422546,
          16.04751994382094,
          -24.66257708777758,
          -0.019722439993558563,
          13.81752887646231,
          72.44016298594906,
          -5.506430178571768,
          67.69569147727597,
          -17.402880622625325,
          32.31740184091969,
          -13.426630916507097,
          -42.55603683633612,
          -25.686550004574205,
          -33.21996386553243,
          95.15347682140744,
          -49.867096179903285
         ],
         "y": [
          -15.106417598039002,
          3.102519377304933,
          -2.7048632437838407,
          7.202777751379739,
          -7.5947584130947945,
          -20.966843019406685,
          -9.515913212195278,
          8.425195596040092,
          -9.872961995066081,
          -11.513453785666293,
          -23.65065988645168,
          1.909939946223511,
          -6.441436961109044,
          -10.085900576770298,
          16.450461443183304,
          15.353787333871932,
          -6.464211782107919,
          -4.316431662193496,
          -18.868067734108923,
          -5.820683616391542,
          10.004812129268856,
          -3.7461382072655223,
          6.024629959940572,
          -20.34552008663019,
          -13.034054383137923,
          5.742020591263451,
          -11.884379407091497,
          -9.210653120368914,
          2.829285026763017,
          7.068517284106436,
          5.514358734287572,
          7.53487564683468,
          -24.622354657517203,
          -0.6632137365715022,
          -1.4560990232428452,
          -20.355127514686473,
          -12.292002652517834,
          -9.89559430258743,
          18.924866163637866,
          -10.033060293537446,
          5.682273256579243,
          -13.53023708456706,
          17.804363293141193,
          -21.742108031504664,
          -12.797645422319283,
          0.6978842463635185,
          -11.002966905659973,
          -12.45661886036255,
          -4.253098242878113,
          18.398574519039297,
          29.08444118639039,
          -13.620852931777582,
          -26.29441418556776,
          -12.291429168184978,
          7.615114548671367,
          -22.990431295212797,
          -21.638646921442533,
          -18.384423489050903,
          -1.091268396781823,
          -9.533516794840537,
          -9.860421634448423,
          38.534673805093384,
          12.040822215385363,
          -6.179836306508608,
          -1.0540568824625116,
          -7.6705885733557295,
          -26.19903615329018,
          34.14071017513396,
          -37.543364387594465,
          23.8645564795639,
          27.69059217527317,
          2.388199691597986,
          18.173410027677786,
          1.5593149425721662,
          -7.376327022387725,
          -30.565264122640972,
          -20.71982441755664,
          -17.740997351611444,
          16.75092898602717,
          29.423367445170626,
          -9.786219532707603,
          10.11632043649815,
          44.407465457402246,
          6.323122529218483,
          11.764476249173088,
          7.53904039450721,
          -1.970128617990111,
          -18.02536373189939,
          21.6695378045682,
          0.9213408352963911,
          0.8765537498387389,
          -11.148412232281613,
          -7.9102699561006755,
          -13.130618332497951,
          4.294822328206417,
          -16.873738955114348,
          13.842435890272505
         ]
        }
       ],
       "layout": {
        "template": {
         "data": {
          "bar": [
           {
            "error_x": {
             "color": "#2a3f5f"
            },
            "error_y": {
             "color": "#2a3f5f"
            },
            "marker": {
             "line": {
              "color": "#E5ECF6",
              "width": 0.5
             },
             "pattern": {
              "fillmode": "overlay",
              "size": 10,
              "solidity": 0.2
             }
            },
            "type": "bar"
           }
          ],
          "barpolar": [
           {
            "marker": {
             "line": {
              "color": "#E5ECF6",
              "width": 0.5
             },
             "pattern": {
              "fillmode": "overlay",
              "size": 10,
              "solidity": 0.2
             }
            },
            "type": "barpolar"
           }
          ],
          "carpet": [
           {
            "aaxis": {
             "endlinecolor": "#2a3f5f",
             "gridcolor": "white",
             "linecolor": "white",
             "minorgridcolor": "white",
             "startlinecolor": "#2a3f5f"
            },
            "baxis": {
             "endlinecolor": "#2a3f5f",
             "gridcolor": "white",
             "linecolor": "white",
             "minorgridcolor": "white",
             "startlinecolor": "#2a3f5f"
            },
            "type": "carpet"
           }
          ],
          "choropleth": [
           {
            "colorbar": {
             "outlinewidth": 0,
             "ticks": ""
            },
            "type": "choropleth"
           }
          ],
          "contour": [
           {
            "colorbar": {
             "outlinewidth": 0,
             "ticks": ""
            },
            "colorscale": [
             [
              0,
              "#0d0887"
             ],
             [
              0.1111111111111111,
              "#46039f"
             ],
             [
              0.2222222222222222,
              "#7201a8"
             ],
             [
              0.3333333333333333,
              "#9c179e"
             ],
             [
              0.4444444444444444,
              "#bd3786"
             ],
             [
              0.5555555555555556,
              "#d8576b"
             ],
             [
              0.6666666666666666,
              "#ed7953"
             ],
             [
              0.7777777777777778,
              "#fb9f3a"
             ],
             [
              0.8888888888888888,
              "#fdca26"
             ],
             [
              1,
              "#f0f921"
             ]
            ],
            "type": "contour"
           }
          ],
          "contourcarpet": [
           {
            "colorbar": {
             "outlinewidth": 0,
             "ticks": ""
            },
            "type": "contourcarpet"
           }
          ],
          "heatmap": [
           {
            "colorbar": {
             "outlinewidth": 0,
             "ticks": ""
            },
            "colorscale": [
             [
              0,
              "#0d0887"
             ],
             [
              0.1111111111111111,
              "#46039f"
             ],
             [
              0.2222222222222222,
              "#7201a8"
             ],
             [
              0.3333333333333333,
              "#9c179e"
             ],
             [
              0.4444444444444444,
              "#bd3786"
             ],
             [
              0.5555555555555556,
              "#d8576b"
             ],
             [
              0.6666666666666666,
              "#ed7953"
             ],
             [
              0.7777777777777778,
              "#fb9f3a"
             ],
             [
              0.8888888888888888,
              "#fdca26"
             ],
             [
              1,
              "#f0f921"
             ]
            ],
            "type": "heatmap"
           }
          ],
          "heatmapgl": [
           {
            "colorbar": {
             "outlinewidth": 0,
             "ticks": ""
            },
            "colorscale": [
             [
              0,
              "#0d0887"
             ],
             [
              0.1111111111111111,
              "#46039f"
             ],
             [
              0.2222222222222222,
              "#7201a8"
             ],
             [
              0.3333333333333333,
              "#9c179e"
             ],
             [
              0.4444444444444444,
              "#bd3786"
             ],
             [
              0.5555555555555556,
              "#d8576b"
             ],
             [
              0.6666666666666666,
              "#ed7953"
             ],
             [
              0.7777777777777778,
              "#fb9f3a"
             ],
             [
              0.8888888888888888,
              "#fdca26"
             ],
             [
              1,
              "#f0f921"
             ]
            ],
            "type": "heatmapgl"
           }
          ],
          "histogram": [
           {
            "marker": {
             "pattern": {
              "fillmode": "overlay",
              "size": 10,
              "solidity": 0.2
             }
            },
            "type": "histogram"
           }
          ],
          "histogram2d": [
           {
            "colorbar": {
             "outlinewidth": 0,
             "ticks": ""
            },
            "colorscale": [
             [
              0,
              "#0d0887"
             ],
             [
              0.1111111111111111,
              "#46039f"
             ],
             [
              0.2222222222222222,
              "#7201a8"
             ],
             [
              0.3333333333333333,
              "#9c179e"
             ],
             [
              0.4444444444444444,
              "#bd3786"
             ],
             [
              0.5555555555555556,
              "#d8576b"
             ],
             [
              0.6666666666666666,
              "#ed7953"
             ],
             [
              0.7777777777777778,
              "#fb9f3a"
             ],
             [
              0.8888888888888888,
              "#fdca26"
             ],
             [
              1,
              "#f0f921"
             ]
            ],
            "type": "histogram2d"
           }
          ],
          "histogram2dcontour": [
           {
            "colorbar": {
             "outlinewidth": 0,
             "ticks": ""
            },
            "colorscale": [
             [
              0,
              "#0d0887"
             ],
             [
              0.1111111111111111,
              "#46039f"
             ],
             [
              0.2222222222222222,
              "#7201a8"
             ],
             [
              0.3333333333333333,
              "#9c179e"
             ],
             [
              0.4444444444444444,
              "#bd3786"
             ],
             [
              0.5555555555555556,
              "#d8576b"
             ],
             [
              0.6666666666666666,
              "#ed7953"
             ],
             [
              0.7777777777777778,
              "#fb9f3a"
             ],
             [
              0.8888888888888888,
              "#fdca26"
             ],
             [
              1,
              "#f0f921"
             ]
            ],
            "type": "histogram2dcontour"
           }
          ],
          "mesh3d": [
           {
            "colorbar": {
             "outlinewidth": 0,
             "ticks": ""
            },
            "type": "mesh3d"
           }
          ],
          "parcoords": [
           {
            "line": {
             "colorbar": {
              "outlinewidth": 0,
              "ticks": ""
             }
            },
            "type": "parcoords"
           }
          ],
          "pie": [
           {
            "automargin": true,
            "type": "pie"
           }
          ],
          "scatter": [
           {
            "fillpattern": {
             "fillmode": "overlay",
             "size": 10,
             "solidity": 0.2
            },
            "type": "scatter"
           }
          ],
          "scatter3d": [
           {
            "line": {
             "colorbar": {
              "outlinewidth": 0,
              "ticks": ""
             }
            },
            "marker": {
             "colorbar": {
              "outlinewidth": 0,
              "ticks": ""
             }
            },
            "type": "scatter3d"
           }
          ],
          "scattercarpet": [
           {
            "marker": {
             "colorbar": {
              "outlinewidth": 0,
              "ticks": ""
             }
            },
            "type": "scattercarpet"
           }
          ],
          "scattergeo": [
           {
            "marker": {
             "colorbar": {
              "outlinewidth": 0,
              "ticks": ""
             }
            },
            "type": "scattergeo"
           }
          ],
          "scattergl": [
           {
            "marker": {
             "colorbar": {
              "outlinewidth": 0,
              "ticks": ""
             }
            },
            "type": "scattergl"
           }
          ],
          "scattermapbox": [
           {
            "marker": {
             "colorbar": {
              "outlinewidth": 0,
              "ticks": ""
             }
            },
            "type": "scattermapbox"
           }
          ],
          "scatterpolar": [
           {
            "marker": {
             "colorbar": {
              "outlinewidth": 0,
              "ticks": ""
             }
            },
            "type": "scatterpolar"
           }
          ],
          "scatterpolargl": [
           {
            "marker": {
             "colorbar": {
              "outlinewidth": 0,
              "ticks": ""
             }
            },
            "type": "scatterpolargl"
           }
          ],
          "scatterternary": [
           {
            "marker": {
             "colorbar": {
              "outlinewidth": 0,
              "ticks": ""
             }
            },
            "type": "scatterternary"
           }
          ],
          "surface": [
           {
            "colorbar": {
             "outlinewidth": 0,
             "ticks": ""
            },
            "colorscale": [
             [
              0,
              "#0d0887"
             ],
             [
              0.1111111111111111,
              "#46039f"
             ],
             [
              0.2222222222222222,
              "#7201a8"
             ],
             [
              0.3333333333333333,
              "#9c179e"
             ],
             [
              0.4444444444444444,
              "#bd3786"
             ],
             [
              0.5555555555555556,
              "#d8576b"
             ],
             [
              0.6666666666666666,
              "#ed7953"
             ],
             [
              0.7777777777777778,
              "#fb9f3a"
             ],
             [
              0.8888888888888888,
              "#fdca26"
             ],
             [
              1,
              "#f0f921"
             ]
            ],
            "type": "surface"
           }
          ],
          "table": [
           {
            "cells": {
             "fill": {
              "color": "#EBF0F8"
             },
             "line": {
              "color": "white"
             }
            },
            "header": {
             "fill": {
              "color": "#C8D4E3"
             },
             "line": {
              "color": "white"
             }
            },
            "type": "table"
           }
          ]
         },
         "layout": {
          "annotationdefaults": {
           "arrowcolor": "#2a3f5f",
           "arrowhead": 0,
           "arrowwidth": 1
          },
          "autotypenumbers": "strict",
          "coloraxis": {
           "colorbar": {
            "outlinewidth": 0,
            "ticks": ""
           }
          },
          "colorscale": {
           "diverging": [
            [
             0,
             "#8e0152"
            ],
            [
             0.1,
             "#c51b7d"
            ],
            [
             0.2,
             "#de77ae"
            ],
            [
             0.3,
             "#f1b6da"
            ],
            [
             0.4,
             "#fde0ef"
            ],
            [
             0.5,
             "#f7f7f7"
            ],
            [
             0.6,
             "#e6f5d0"
            ],
            [
             0.7,
             "#b8e186"
            ],
            [
             0.8,
             "#7fbc41"
            ],
            [
             0.9,
             "#4d9221"
            ],
            [
             1,
             "#276419"
            ]
           ],
           "sequential": [
            [
             0,
             "#0d0887"
            ],
            [
             0.1111111111111111,
             "#46039f"
            ],
            [
             0.2222222222222222,
             "#7201a8"
            ],
            [
             0.3333333333333333,
             "#9c179e"
            ],
            [
             0.4444444444444444,
             "#bd3786"
            ],
            [
             0.5555555555555556,
             "#d8576b"
            ],
            [
             0.6666666666666666,
             "#ed7953"
            ],
            [
             0.7777777777777778,
             "#fb9f3a"
            ],
            [
             0.8888888888888888,
             "#fdca26"
            ],
            [
             1,
             "#f0f921"
            ]
           ],
           "sequentialminus": [
            [
             0,
             "#0d0887"
            ],
            [
             0.1111111111111111,
             "#46039f"
            ],
            [
             0.2222222222222222,
             "#7201a8"
            ],
            [
             0.3333333333333333,
             "#9c179e"
            ],
            [
             0.4444444444444444,
             "#bd3786"
            ],
            [
             0.5555555555555556,
             "#d8576b"
            ],
            [
             0.6666666666666666,
             "#ed7953"
            ],
            [
             0.7777777777777778,
             "#fb9f3a"
            ],
            [
             0.8888888888888888,
             "#fdca26"
            ],
            [
             1,
             "#f0f921"
            ]
           ]
          },
          "colorway": [
           "#636efa",
           "#EF553B",
           "#00cc96",
           "#ab63fa",
           "#FFA15A",
           "#19d3f3",
           "#FF6692",
           "#B6E880",
           "#FF97FF",
           "#FECB52"
          ],
          "font": {
           "color": "#2a3f5f"
          },
          "geo": {
           "bgcolor": "white",
           "lakecolor": "white",
           "landcolor": "#E5ECF6",
           "showlakes": true,
           "showland": true,
           "subunitcolor": "white"
          },
          "hoverlabel": {
           "align": "left"
          },
          "hovermode": "closest",
          "mapbox": {
           "style": "light"
          },
          "paper_bgcolor": "white",
          "plot_bgcolor": "#E5ECF6",
          "polar": {
           "angularaxis": {
            "gridcolor": "white",
            "linecolor": "white",
            "ticks": ""
           },
           "bgcolor": "#E5ECF6",
           "radialaxis": {
            "gridcolor": "white",
            "linecolor": "white",
            "ticks": ""
           }
          },
          "scene": {
           "xaxis": {
            "backgroundcolor": "#E5ECF6",
            "gridcolor": "white",
            "gridwidth": 2,
            "linecolor": "white",
            "showbackground": true,
            "ticks": "",
            "zerolinecolor": "white"
           },
           "yaxis": {
            "backgroundcolor": "#E5ECF6",
            "gridcolor": "white",
            "gridwidth": 2,
            "linecolor": "white",
            "showbackground": true,
            "ticks": "",
            "zerolinecolor": "white"
           },
           "zaxis": {
            "backgroundcolor": "#E5ECF6",
            "gridcolor": "white",
            "gridwidth": 2,
            "linecolor": "white",
            "showbackground": true,
            "ticks": "",
            "zerolinecolor": "white"
           }
          },
          "shapedefaults": {
           "line": {
            "color": "#2a3f5f"
           }
          },
          "ternary": {
           "aaxis": {
            "gridcolor": "white",
            "linecolor": "white",
            "ticks": ""
           },
           "baxis": {
            "gridcolor": "white",
            "linecolor": "white",
            "ticks": ""
           },
           "bgcolor": "#E5ECF6",
           "caxis": {
            "gridcolor": "white",
            "linecolor": "white",
            "ticks": ""
           }
          },
          "title": {
           "x": 0.05
          },
          "xaxis": {
           "automargin": true,
           "gridcolor": "white",
           "linecolor": "white",
           "ticks": "",
           "title": {
            "standoff": 15
           },
           "zerolinecolor": "white",
           "zerolinewidth": 2
          },
          "yaxis": {
           "automargin": true,
           "gridcolor": "white",
           "linecolor": "white",
           "ticks": "",
           "title": {
            "standoff": 15
           },
           "zerolinecolor": "white",
           "zerolinewidth": 2
          }
         }
        },
        "title": {
         "text": "Visualizing Clusters in Two Dimensions Using PCA"
        },
        "xaxis": {
         "ticklen": 5,
         "title": {
          "text": "PC1"
         },
         "zeroline": false
        },
        "yaxis": {
         "ticklen": 5,
         "title": {
          "text": "PC2"
         },
         "zeroline": false
        }
       }
      },
      "text/html": [
       "<div>                            <div id=\"5a986809-c970-45e0-9c48-001a10702e2e\" class=\"plotly-graph-div\" style=\"height:525px; width:100%;\"></div>            <script type=\"text/javascript\">                require([\"plotly\"], function(Plotly) {                    window.PLOTLYENV=window.PLOTLYENV || {};                                    if (document.getElementById(\"5a986809-c970-45e0-9c48-001a10702e2e\")) {                    Plotly.newPlot(                        \"5a986809-c970-45e0-9c48-001a10702e2e\",                        [{\"marker\":{\"color\":\"rgba(255, 128, 255, 0.8)\"},\"mode\":\"markers\",\"name\":\"Cluster 0\",\"x\":[2.722718956981406,-43.130143334577006,-11.14369769022738,15.340879514445533,-18.992233846508626,19.01677698685784,-28.44633846899938,0.8731165226686037,-17.244885742616784,-14.044707119390745,-20.593104669441995,-47.612366851499026,-73.05936006737677,-49.81300620015453,-50.43643374301457,41.7636742025217,-27.95549115322772,-13.411640992851579,-76.18304602266475,-69.35311616199361,-51.004496884127256,-1.9144609687543537,-40.482554831960165,74.14006866523583,-11.521458096364718,10.288514872247122,-107.01742892363018,-45.61885740067239,-25.24068806689562,12.20910872906986,-65.94629095996419,-59.52913057440261,60.88218367763911,-17.84614393259384,-29.052030136381845,-61.20988610521816,-44.130956162114344,-63.83260550389855,8.887590936385614,-26.542406208301003,-13.029019158782214,-27.591979865320514,-21.7910450559813,-43.374639903709166,14.71616270782781,-34.539164437374055,-50.115287685775776,-2.1492682856859497,-41.77572930085729,-7.995186720921742,-5.258776563199629,1.8860813972145791,60.68645736908403,16.029551514630633,-51.54049450832733,-33.80822801425254,7.724212207925097,-39.49244904769973,-88.04706243613171,-15.08464890946384,67.65201349103764,-0.7734537090031425,26.638078754725175,-2.2086418081316883,-7.5515262658061095,-50.90841467067137,-10.762811673754504,-3.472647978280272,5.9814402301978795,-119.37094064460942,-37.1789173676398,15.1387809832752,-32.829602457963134,-16.744850143718747,-33.1755790664315,-17.79433041120944,-54.15155902130751,-44.24663604626302,-3.7411890504003633,19.81505368406392,19.04460690358263,-50.0087731176714,-37.89266880264882,-44.03152061096198,-42.093521938873664,-50.43032058588426,-98.63302298330578,1.2698730442009787,24.157556312229346,47.13627035917487,-13.350941441427613,58.39558369356048,21.964178490346708,-14.228961117886795,26.578209170351077,-35.03230821359713,47.437126677754,55.0206252469618,-38.620005274741885,-5.865360148733168,-21.609140569491245,-23.02014565271173,-67.19269035307764,-42.34655211624939,-26.953861008742123,6.0219382107865425,-55.730016614904756,-7.209079291939991,-90.49813254086364,15.604023422986428,-10.606471338727635],\"y\":[-40.106300579372274,-24.527393651266618,-29.170624050395908,-26.510073692700995,-21.853743759480835,-22.565272765110667,-10.569088364011657,-21.0261505148561,-11.013687556031378,-31.01961925930563,-29.137221077309295,-29.222964175072217,22.803223232780635,-2.8118896740727783,-23.645476401728548,-8.154964793460591,-39.730490546151565,-12.993416710499273,-12.964524460238856,-10.255020563614467,-31.22325281711674,-31.37477641041757,-3.5149181073730156,-34.20448657675983,-30.80114514880604,-7.242566796884777,-29.179609040739496,-8.420882284763834,-38.036255077708404,-38.69311313934222,-29.069137854018514,8.203891245572683,-9.916694489594324,-0.5006414057985998,4.976950435973239,-41.43726166781414,15.166945397125952,-34.21369477092781,-1.967415642969955,1.7932817691516698,-26.948561672555474,-23.397504749086924,-9.624525173502182,-55.94497566656431,-35.56646782139994,-18.38000216672761,14.377519489604808,-17.738375548526903,-34.56936753508537,-7.1174695108164725,-6.8789480851946365,-33.86607615961775,-22.821775785049066,20.64995236937729,-11.443991489677378,-11.044120473958465,-27.27613760874225,-17.467788963665043,7.433373569496046,-0.9249225248063424,-15.120596719746874,-23.633429872036544,-18.437357304250256,-28.281143122706457,-47.15155864074735,-14.239907973618815,-3.5206145456441704,-14.67002208344635,-13.010477868392826,-19.62983194358286,-15.82418339191303,-5.87744546690766,-24.59044790292633,-35.97778778237075,-20.654396138503095,-13.202598182524401,-13.154819917534667,-26.714204478280354,-3.393481179999963,-27.141730996635978,-20.450757315850353,-36.07304042263891,-46.7972154742269,2.638654773582581,37.871400193298484,-18.8711436672392,20.732857671060593,2.301866748187066,-13.332452832034921,-16.440782981419986,-8.656674914494758,-16.93762413695588,-14.764182803977963,-9.601116538613145,26.393959944523342,-19.13614528305804,-9.939785917164137,-35.40238517982916,-26.582684026568227,-3.2569982292044917,-22.44764117882918,-30.81871797457527,-2.7446018346985794,-11.084805985094192,-4.5086402584932115,-30.635851241026387,-28.464764276885052,-20.40951382287135,-35.22075238504615,12.487979203151669,-23.83996462031546],\"type\":\"scatter\"},{\"marker\":{\"color\":\"rgba(255, 128, 2, 0.8)\"},\"mode\":\"markers\",\"name\":\"Cluster 1\",\"x\":[-12.768291506058972,40.791124854674585,-18.026315585080958,21.946239208848286,7.406331800822835,-43.28641086240522,-36.528856554152625,-22.442335991246814,-40.69239256537464,-19.619740145675262,-81.4794740251131,-70.83903560563213,29.956503375446058,-20.63162463996242,-17.535960782280245,-3.1239408346279984,6.274478855806959,18.512526130013015,-34.34255919311688,-30.895965588492004,-59.51850076506743,35.98797064720858,-61.00149914792878,81.13516372629118,-15.135823942083553,19.52342485311395,10.99578935719361,23.99933530463728,-80.90511526015057,-15.595866985182274,-8.768052762729207,12.390342842983223,12.7593897684592,1.8881541652037466,93.55197655004493,16.033136923468692,7.611288109264369,161.18580973769662,-29.52006886788995,44.61360217226651,-9.050997405097684,-71.55281277101004,33.5251420969123,-1.3740964125621506,75.28633712565173,-0.46645071793654924,23.94820776637659,-33.78937975531156,27.907010782649774,-62.86496616550955,25.684343835494047,8.133708136212242,51.24931318278031,47.445745255825834,-36.04894839278516,12.013361261339853,-46.362091185445884,-1.5438150550157868,56.18207647098234,34.30408536205665,82.35950732170113,38.41950343143441,35.820387555653234,-12.438588271931744,-69.39589984909033,-10.417033294895521,-46.87568269612527,-28.147411499840512,-48.701874355668416,-80.20970559877733,-28.95926835241216,-16.950002353548065,64.02602019530214,-98.17238304179355,-49.769828116746226,86.96942383562569,-41.99054754839517,70.23797755048092,-19.654943394538453,-58.95844592526247,-69.18314599977917,-5.426980233020519,-52.6118164587116,-115.76769330471272,-20.397209587477946,-147.23034754768247],\"y\":[2.560981538647494,45.749679088150835,20.85787724096562,-8.131551971971648,3.6207292042519277,-4.385930743648499,4.396161392708874,-22.14815952044736,18.123906087065336,38.7935593390035,29.92073197622651,25.756410116830573,38.94014722610049,38.85360978407921,-16.804718771597614,22.418096166968756,5.991615165020059,38.294855236429804,22.437535352477312,18.376375708065837,34.41394065118383,9.651626425529122,-3.1610816823535046,14.174244709054268,3.083655547099998,48.97137153098869,8.320330246442046,40.18398176307041,9.777494562839248,4.535156336715358,5.462958273516175,-4.207234703490792,8.882272059265693,4.618243958793392,10.508568137739639,52.142627505315076,24.12125930976367,-1.6731701724202124,38.888416949330264,24.426177725999153,20.233888349423705,28.742828223849266,44.97435453601546,52.35111935551386,41.40593011254866,23.357213408354653,42.59324666749659,20.57609616185179,62.641265288099724,44.038609581568856,10.558102209015795,6.893240422308594,26.911583571729622,44.08086830838346,34.6271874977643,19.11689519168766,23.87806321204967,-1.0201789308020868,27.73712928166762,51.59616866138981,37.00297541334668,31.066464769520536,45.131509856329515,5.723268529078182,51.9231023149465,77.25246387529603,20.88836239783813,45.878447625872695,37.580320333258406,26.27951708163602,15.317795666323772,16.676362642764456,27.815184022093884,24.84660373594084,18.5459959388281,3.52610930368258,18.9085176167017,7.302852996096701,8.785275424548814,8.261176055038183,63.176621839534384,27.22119429477879,12.505098293255447,34.612005998934,51.182958314296904,28.494569094041204],\"type\":\"scatter\"},{\"marker\":{\"color\":\"rgba(0, 255, 200, 0.8)\"},\"mode\":\"markers\",\"name\":\"Cluster 2\",\"x\":[106.56629382887756,-54.17595064150934,47.62245093124308,9.119194880395348,-45.63370444048753,-77.4499838196462,-7.301400461108625,27.76506170010073,37.28643730803766,36.72797306097788,92.68449180862906,-6.817490468580164,88.85142167809633,-12.364359733832629,105.92613577001944,-2.6888220377564362,57.22705240500226,-33.57280286894718,83.31747492390203,170.72679329011893,-69.93966959038003,25.814718798029567,57.83664024597623,57.37354031527634,-13.73505631111185,23.73006407484975,7.388532668312566,0.5288366547874583,114.83098736278754,61.35021851578248,16.998845429997147,30.13832662516393,77.49699643446034,8.979997844857301,54.92137665564132,5.818731415528472,7.986490877220548,56.06328608312322,17.53060764441805,-68.98100006814313,60.99310163685644,-35.06620730647284,83.16735650501109,35.99826673808875,-37.7595314030619,10.553811082678205,3.4673616845651773,-25.06418956137174,43.32244737359883,61.963470081933565,43.78758352661948,69.80001193055456,52.236576734092424,316.23367113744087,43.58569259008848,52.55503935676102,53.02783547763276,46.882164442872124,29.93517463580128,57.650774132958745,41.19025339404689,-20.509072757488614,4.504867428729479,147.6643460113538,162.07536134546064,59.723736869750866,-50.76915751240057,0.9005050294331459,39.515517345747796,-10.901501691620117,27.624271111226953,80.90832109309164,66.73926084360949,62.275381347742496,-15.850037789993436,24.854028550264218,21.377474252700793,31.78306414672433,-35.42397400537312,22.087955378666514,-44.17453412037654,-38.69286290422546,16.04751994382094,-24.66257708777758,-0.019722439993558563,13.81752887646231,72.44016298594906,-5.506430178571768,67.69569147727597,-17.402880622625325,32.31740184091969,-13.426630916507097,-42.55603683633612,-25.686550004574205,-33.21996386553243,95.15347682140744,-49.867096179903285],\"y\":[-15.106417598039002,3.102519377304933,-2.7048632437838407,7.202777751379739,-7.5947584130947945,-20.966843019406685,-9.515913212195278,8.425195596040092,-9.872961995066081,-11.513453785666293,-23.65065988645168,1.909939946223511,-6.441436961109044,-10.085900576770298,16.450461443183304,15.353787333871932,-6.464211782107919,-4.316431662193496,-18.868067734108923,-5.820683616391542,10.004812129268856,-3.7461382072655223,6.024629959940572,-20.34552008663019,-13.034054383137923,5.742020591263451,-11.884379407091497,-9.210653120368914,2.829285026763017,7.068517284106436,5.514358734287572,7.53487564683468,-24.622354657517203,-0.6632137365715022,-1.4560990232428452,-20.355127514686473,-12.292002652517834,-9.89559430258743,18.924866163637866,-10.033060293537446,5.682273256579243,-13.53023708456706,17.804363293141193,-21.742108031504664,-12.797645422319283,0.6978842463635185,-11.002966905659973,-12.45661886036255,-4.253098242878113,18.398574519039297,29.08444118639039,-13.620852931777582,-26.29441418556776,-12.291429168184978,7.615114548671367,-22.990431295212797,-21.638646921442533,-18.384423489050903,-1.091268396781823,-9.533516794840537,-9.860421634448423,38.534673805093384,12.040822215385363,-6.179836306508608,-1.0540568824625116,-7.6705885733557295,-26.19903615329018,34.14071017513396,-37.543364387594465,23.8645564795639,27.69059217527317,2.388199691597986,18.173410027677786,1.5593149425721662,-7.376327022387725,-30.565264122640972,-20.71982441755664,-17.740997351611444,16.75092898602717,29.423367445170626,-9.786219532707603,10.11632043649815,44.407465457402246,6.323122529218483,11.764476249173088,7.53904039450721,-1.970128617990111,-18.02536373189939,21.6695378045682,0.9213408352963911,0.8765537498387389,-11.148412232281613,-7.9102699561006755,-13.130618332497951,4.294822328206417,-16.873738955114348,13.842435890272505],\"type\":\"scatter\"}],                        {\"template\":{\"data\":{\"barpolar\":[{\"marker\":{\"line\":{\"color\":\"#E5ECF6\",\"width\":0.5},\"pattern\":{\"fillmode\":\"overlay\",\"size\":10,\"solidity\":0.2}},\"type\":\"barpolar\"}],\"bar\":[{\"error_x\":{\"color\":\"#2a3f5f\"},\"error_y\":{\"color\":\"#2a3f5f\"},\"marker\":{\"line\":{\"color\":\"#E5ECF6\",\"width\":0.5},\"pattern\":{\"fillmode\":\"overlay\",\"size\":10,\"solidity\":0.2}},\"type\":\"bar\"}],\"carpet\":[{\"aaxis\":{\"endlinecolor\":\"#2a3f5f\",\"gridcolor\":\"white\",\"linecolor\":\"white\",\"minorgridcolor\":\"white\",\"startlinecolor\":\"#2a3f5f\"},\"baxis\":{\"endlinecolor\":\"#2a3f5f\",\"gridcolor\":\"white\",\"linecolor\":\"white\",\"minorgridcolor\":\"white\",\"startlinecolor\":\"#2a3f5f\"},\"type\":\"carpet\"}],\"choropleth\":[{\"colorbar\":{\"outlinewidth\":0,\"ticks\":\"\"},\"type\":\"choropleth\"}],\"contourcarpet\":[{\"colorbar\":{\"outlinewidth\":0,\"ticks\":\"\"},\"type\":\"contourcarpet\"}],\"contour\":[{\"colorbar\":{\"outlinewidth\":0,\"ticks\":\"\"},\"colorscale\":[[0.0,\"#0d0887\"],[0.1111111111111111,\"#46039f\"],[0.2222222222222222,\"#7201a8\"],[0.3333333333333333,\"#9c179e\"],[0.4444444444444444,\"#bd3786\"],[0.5555555555555556,\"#d8576b\"],[0.6666666666666666,\"#ed7953\"],[0.7777777777777778,\"#fb9f3a\"],[0.8888888888888888,\"#fdca26\"],[1.0,\"#f0f921\"]],\"type\":\"contour\"}],\"heatmapgl\":[{\"colorbar\":{\"outlinewidth\":0,\"ticks\":\"\"},\"colorscale\":[[0.0,\"#0d0887\"],[0.1111111111111111,\"#46039f\"],[0.2222222222222222,\"#7201a8\"],[0.3333333333333333,\"#9c179e\"],[0.4444444444444444,\"#bd3786\"],[0.5555555555555556,\"#d8576b\"],[0.6666666666666666,\"#ed7953\"],[0.7777777777777778,\"#fb9f3a\"],[0.8888888888888888,\"#fdca26\"],[1.0,\"#f0f921\"]],\"type\":\"heatmapgl\"}],\"heatmap\":[{\"colorbar\":{\"outlinewidth\":0,\"ticks\":\"\"},\"colorscale\":[[0.0,\"#0d0887\"],[0.1111111111111111,\"#46039f\"],[0.2222222222222222,\"#7201a8\"],[0.3333333333333333,\"#9c179e\"],[0.4444444444444444,\"#bd3786\"],[0.5555555555555556,\"#d8576b\"],[0.6666666666666666,\"#ed7953\"],[0.7777777777777778,\"#fb9f3a\"],[0.8888888888888888,\"#fdca26\"],[1.0,\"#f0f921\"]],\"type\":\"heatmap\"}],\"histogram2dcontour\":[{\"colorbar\":{\"outlinewidth\":0,\"ticks\":\"\"},\"colorscale\":[[0.0,\"#0d0887\"],[0.1111111111111111,\"#46039f\"],[0.2222222222222222,\"#7201a8\"],[0.3333333333333333,\"#9c179e\"],[0.4444444444444444,\"#bd3786\"],[0.5555555555555556,\"#d8576b\"],[0.6666666666666666,\"#ed7953\"],[0.7777777777777778,\"#fb9f3a\"],[0.8888888888888888,\"#fdca26\"],[1.0,\"#f0f921\"]],\"type\":\"histogram2dcontour\"}],\"histogram2d\":[{\"colorbar\":{\"outlinewidth\":0,\"ticks\":\"\"},\"colorscale\":[[0.0,\"#0d0887\"],[0.1111111111111111,\"#46039f\"],[0.2222222222222222,\"#7201a8\"],[0.3333333333333333,\"#9c179e\"],[0.4444444444444444,\"#bd3786\"],[0.5555555555555556,\"#d8576b\"],[0.6666666666666666,\"#ed7953\"],[0.7777777777777778,\"#fb9f3a\"],[0.8888888888888888,\"#fdca26\"],[1.0,\"#f0f921\"]],\"type\":\"histogram2d\"}],\"histogram\":[{\"marker\":{\"pattern\":{\"fillmode\":\"overlay\",\"size\":10,\"solidity\":0.2}},\"type\":\"histogram\"}],\"mesh3d\":[{\"colorbar\":{\"outlinewidth\":0,\"ticks\":\"\"},\"type\":\"mesh3d\"}],\"parcoords\":[{\"line\":{\"colorbar\":{\"outlinewidth\":0,\"ticks\":\"\"}},\"type\":\"parcoords\"}],\"pie\":[{\"automargin\":true,\"type\":\"pie\"}],\"scatter3d\":[{\"line\":{\"colorbar\":{\"outlinewidth\":0,\"ticks\":\"\"}},\"marker\":{\"colorbar\":{\"outlinewidth\":0,\"ticks\":\"\"}},\"type\":\"scatter3d\"}],\"scattercarpet\":[{\"marker\":{\"colorbar\":{\"outlinewidth\":0,\"ticks\":\"\"}},\"type\":\"scattercarpet\"}],\"scattergeo\":[{\"marker\":{\"colorbar\":{\"outlinewidth\":0,\"ticks\":\"\"}},\"type\":\"scattergeo\"}],\"scattergl\":[{\"marker\":{\"colorbar\":{\"outlinewidth\":0,\"ticks\":\"\"}},\"type\":\"scattergl\"}],\"scattermapbox\":[{\"marker\":{\"colorbar\":{\"outlinewidth\":0,\"ticks\":\"\"}},\"type\":\"scattermapbox\"}],\"scatterpolargl\":[{\"marker\":{\"colorbar\":{\"outlinewidth\":0,\"ticks\":\"\"}},\"type\":\"scatterpolargl\"}],\"scatterpolar\":[{\"marker\":{\"colorbar\":{\"outlinewidth\":0,\"ticks\":\"\"}},\"type\":\"scatterpolar\"}],\"scatter\":[{\"fillpattern\":{\"fillmode\":\"overlay\",\"size\":10,\"solidity\":0.2},\"type\":\"scatter\"}],\"scatterternary\":[{\"marker\":{\"colorbar\":{\"outlinewidth\":0,\"ticks\":\"\"}},\"type\":\"scatterternary\"}],\"surface\":[{\"colorbar\":{\"outlinewidth\":0,\"ticks\":\"\"},\"colorscale\":[[0.0,\"#0d0887\"],[0.1111111111111111,\"#46039f\"],[0.2222222222222222,\"#7201a8\"],[0.3333333333333333,\"#9c179e\"],[0.4444444444444444,\"#bd3786\"],[0.5555555555555556,\"#d8576b\"],[0.6666666666666666,\"#ed7953\"],[0.7777777777777778,\"#fb9f3a\"],[0.8888888888888888,\"#fdca26\"],[1.0,\"#f0f921\"]],\"type\":\"surface\"}],\"table\":[{\"cells\":{\"fill\":{\"color\":\"#EBF0F8\"},\"line\":{\"color\":\"white\"}},\"header\":{\"fill\":{\"color\":\"#C8D4E3\"},\"line\":{\"color\":\"white\"}},\"type\":\"table\"}]},\"layout\":{\"annotationdefaults\":{\"arrowcolor\":\"#2a3f5f\",\"arrowhead\":0,\"arrowwidth\":1},\"autotypenumbers\":\"strict\",\"coloraxis\":{\"colorbar\":{\"outlinewidth\":0,\"ticks\":\"\"}},\"colorscale\":{\"diverging\":[[0,\"#8e0152\"],[0.1,\"#c51b7d\"],[0.2,\"#de77ae\"],[0.3,\"#f1b6da\"],[0.4,\"#fde0ef\"],[0.5,\"#f7f7f7\"],[0.6,\"#e6f5d0\"],[0.7,\"#b8e186\"],[0.8,\"#7fbc41\"],[0.9,\"#4d9221\"],[1,\"#276419\"]],\"sequential\":[[0.0,\"#0d0887\"],[0.1111111111111111,\"#46039f\"],[0.2222222222222222,\"#7201a8\"],[0.3333333333333333,\"#9c179e\"],[0.4444444444444444,\"#bd3786\"],[0.5555555555555556,\"#d8576b\"],[0.6666666666666666,\"#ed7953\"],[0.7777777777777778,\"#fb9f3a\"],[0.8888888888888888,\"#fdca26\"],[1.0,\"#f0f921\"]],\"sequentialminus\":[[0.0,\"#0d0887\"],[0.1111111111111111,\"#46039f\"],[0.2222222222222222,\"#7201a8\"],[0.3333333333333333,\"#9c179e\"],[0.4444444444444444,\"#bd3786\"],[0.5555555555555556,\"#d8576b\"],[0.6666666666666666,\"#ed7953\"],[0.7777777777777778,\"#fb9f3a\"],[0.8888888888888888,\"#fdca26\"],[1.0,\"#f0f921\"]]},\"colorway\":[\"#636efa\",\"#EF553B\",\"#00cc96\",\"#ab63fa\",\"#FFA15A\",\"#19d3f3\",\"#FF6692\",\"#B6E880\",\"#FF97FF\",\"#FECB52\"],\"font\":{\"color\":\"#2a3f5f\"},\"geo\":{\"bgcolor\":\"white\",\"lakecolor\":\"white\",\"landcolor\":\"#E5ECF6\",\"showlakes\":true,\"showland\":true,\"subunitcolor\":\"white\"},\"hoverlabel\":{\"align\":\"left\"},\"hovermode\":\"closest\",\"mapbox\":{\"style\":\"light\"},\"paper_bgcolor\":\"white\",\"plot_bgcolor\":\"#E5ECF6\",\"polar\":{\"angularaxis\":{\"gridcolor\":\"white\",\"linecolor\":\"white\",\"ticks\":\"\"},\"bgcolor\":\"#E5ECF6\",\"radialaxis\":{\"gridcolor\":\"white\",\"linecolor\":\"white\",\"ticks\":\"\"}},\"scene\":{\"xaxis\":{\"backgroundcolor\":\"#E5ECF6\",\"gridcolor\":\"white\",\"gridwidth\":2,\"linecolor\":\"white\",\"showbackground\":true,\"ticks\":\"\",\"zerolinecolor\":\"white\"},\"yaxis\":{\"backgroundcolor\":\"#E5ECF6\",\"gridcolor\":\"white\",\"gridwidth\":2,\"linecolor\":\"white\",\"showbackground\":true,\"ticks\":\"\",\"zerolinecolor\":\"white\"},\"zaxis\":{\"backgroundcolor\":\"#E5ECF6\",\"gridcolor\":\"white\",\"gridwidth\":2,\"linecolor\":\"white\",\"showbackground\":true,\"ticks\":\"\",\"zerolinecolor\":\"white\"}},\"shapedefaults\":{\"line\":{\"color\":\"#2a3f5f\"}},\"ternary\":{\"aaxis\":{\"gridcolor\":\"white\",\"linecolor\":\"white\",\"ticks\":\"\"},\"baxis\":{\"gridcolor\":\"white\",\"linecolor\":\"white\",\"ticks\":\"\"},\"bgcolor\":\"#E5ECF6\",\"caxis\":{\"gridcolor\":\"white\",\"linecolor\":\"white\",\"ticks\":\"\"}},\"title\":{\"x\":0.05},\"xaxis\":{\"automargin\":true,\"gridcolor\":\"white\",\"linecolor\":\"white\",\"ticks\":\"\",\"title\":{\"standoff\":15},\"zerolinecolor\":\"white\",\"zerolinewidth\":2},\"yaxis\":{\"automargin\":true,\"gridcolor\":\"white\",\"linecolor\":\"white\",\"ticks\":\"\",\"title\":{\"standoff\":15},\"zerolinecolor\":\"white\",\"zerolinewidth\":2}}},\"title\":{\"text\":\"Visualizing Clusters in Two Dimensions Using PCA\"},\"xaxis\":{\"ticklen\":5,\"title\":{\"text\":\"PC1\"},\"zeroline\":false},\"yaxis\":{\"ticklen\":5,\"title\":{\"text\":\"PC2\"},\"zeroline\":false}},                        {\"responsive\": true}                    ).then(function(){\n",
       "                            \n",
       "var gd = document.getElementById('5a986809-c970-45e0-9c48-001a10702e2e');\n",
       "var x = new MutationObserver(function (mutations, observer) {{\n",
       "        var display = window.getComputedStyle(gd).display;\n",
       "        if (!display || display === 'none') {{\n",
       "            console.log([gd, 'removed!']);\n",
       "            Plotly.purge(gd);\n",
       "            observer.disconnect();\n",
       "        }}\n",
       "}});\n",
       "\n",
       "// Listen for the removal of the full notebook cells\n",
       "var notebookContainer = gd.closest('#notebook-container');\n",
       "if (notebookContainer) {{\n",
       "    x.observe(notebookContainer, {childList: true});\n",
       "}}\n",
       "\n",
       "// Listen for the clearing of the current output cell\n",
       "var outputEl = gd.closest('.output');\n",
       "if (outputEl) {{\n",
       "    x.observe(outputEl, {childList: true});\n",
       "}}\n",
       "\n",
       "                        })                };                });            </script>        </div>"
      ]
     },
     "metadata": {},
     "output_type": "display_data"
    }
   ],
   "source": [
    "iplot(fig_proc)"
   ]
  },
  {
   "cell_type": "markdown",
   "metadata": {},
   "source": [
    "## Some References"
   ]
  },
  {
   "cell_type": "markdown",
   "metadata": {},
   "source": [
    "Some useful information:\n",
    "- [Visualizing High Dimensional Clusters](https://www.kaggle.com/code/minc33/visualizing-high-dimensional-clusters/notebook) and role of Scaling numerical values prior to clustering\n",
    "- [Why do dimensionality reduction before Clustering (normally)](https://stats.stackexchange.com/questions/99171/why-is-euclidean-distance-not-a-good-metric-in-high-dimensions/)\n",
    "\n",
    "Usage of Cluster Methods:\n",
    "- [Usage of sklearn.cluster.KMeans](https://scikit-learn.org/stable/modules/generated/sklearn.cluster.KMeans.html#sklearn.cluster.KMeans)"
   ]
  }
 ],
 "metadata": {
  "kernelspec": {
   "display_name": "Python 3.10.8 ('data-challenges-2022-2023-2fesPYec')",
   "language": "python",
   "name": "python3"
  },
  "language_info": {
   "codemirror_mode": {
    "name": "ipython",
    "version": 3
   },
   "file_extension": ".py",
   "mimetype": "text/x-python",
   "name": "python",
   "nbconvert_exporter": "python",
   "pygments_lexer": "ipython3",
   "version": "3.10.8"
  },
  "orig_nbformat": 4,
  "vscode": {
   "interpreter": {
    "hash": "b43ab113b2575d9c2ff0700978da8ec8a81117cd90ebd0a07108c0f1b63c4d88"
   }
  }
 },
 "nbformat": 4,
 "nbformat_minor": 2
}
