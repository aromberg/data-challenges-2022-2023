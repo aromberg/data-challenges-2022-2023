{
 "cells": [
  {
   "cell_type": "code",
   "execution_count": 1,
   "id": "4fa1dabf",
   "metadata": {},
   "outputs": [],
   "source": [
    "import pandas as pd\n",
    "import numpy as np\n",
    "from sklearn.impute import SimpleImputer\n",
    "import matplotlib.pyplot as plt"
   ]
  },
  {
   "cell_type": "code",
   "execution_count": 2,
   "id": "f1d8f61e",
   "metadata": {},
   "outputs": [],
   "source": [
    "# see heart-disease.names for attribute description\n",
    "attr = [\"age\",\"sex\",\"cp\",\"trestbps\",\n",
    "        \"chol\",\"fbs\",\"restecg\",\"thalach\",\n",
    "        \"exang\",\"oldpeak\",\"slope\",\"ca\",\n",
    "        \"thal\",\"num\"]"
   ]
  },
  {
   "cell_type": "code",
   "execution_count": 3,
   "id": "7a95ef11",
   "metadata": {},
   "outputs": [],
   "source": [
    "# load datasets\n",
    "cleve = pd.read_csv(\"../data/heart_disease/processed.cleveland.data\", sep= \",\", names=attr)\n",
    "hung = pd.read_csv(\"../data/heart_disease/processed.hungarian.data\", sep=\",\", names=attr)\n",
    "swiss = pd.read_csv(\"../data/heart_disease/processed.switzerland.data\", sep= \",\", names=attr)\n",
    "va = pd.read_csv(\"../data/heart_disease/processed.va.data\", sep=\",\", names=attr)"
   ]
  },
  {
   "cell_type": "code",
   "execution_count": 4,
   "id": "b0a38267",
   "metadata": {},
   "outputs": [],
   "source": [
    "# missing values should be denoted by -9.0 but seems to be replaced by '?'\n",
    "# replace by None\n",
    "cleve = cleve.replace(to_replace={'?': None, -9.0: None})\n",
    "hung = hung.replace(to_replace={'?': None, -9.0: None})\n",
    "swiss = swiss.replace(to_replace={'?': None, -9.0: None})\n",
    "va = va.replace(to_replace={'?': None, -9.0: None})"
   ]
  },
  {
   "cell_type": "code",
   "execution_count": 5,
   "id": "77565c66",
   "metadata": {},
   "outputs": [
    {
     "data": {
      "text/html": [
       "<div>\n",
       "<style scoped>\n",
       "    .dataframe tbody tr th:only-of-type {\n",
       "        vertical-align: middle;\n",
       "    }\n",
       "\n",
       "    .dataframe tbody tr th {\n",
       "        vertical-align: top;\n",
       "    }\n",
       "\n",
       "    .dataframe thead th {\n",
       "        text-align: right;\n",
       "    }\n",
       "</style>\n",
       "<table border=\"1\" class=\"dataframe\">\n",
       "  <thead>\n",
       "    <tr style=\"text-align: right;\">\n",
       "      <th></th>\n",
       "      <th>age</th>\n",
       "      <th>sex</th>\n",
       "      <th>cp</th>\n",
       "      <th>trestbps</th>\n",
       "      <th>chol</th>\n",
       "      <th>fbs</th>\n",
       "      <th>restecg</th>\n",
       "      <th>thalach</th>\n",
       "      <th>exang</th>\n",
       "      <th>oldpeak</th>\n",
       "      <th>slope</th>\n",
       "      <th>ca</th>\n",
       "      <th>thal</th>\n",
       "      <th>num</th>\n",
       "    </tr>\n",
       "  </thead>\n",
       "  <tbody>\n",
       "    <tr>\n",
       "      <th>0</th>\n",
       "      <td>63.0</td>\n",
       "      <td>1.0</td>\n",
       "      <td>1.0</td>\n",
       "      <td>145.0</td>\n",
       "      <td>233.0</td>\n",
       "      <td>1.0</td>\n",
       "      <td>2.0</td>\n",
       "      <td>150.0</td>\n",
       "      <td>0.0</td>\n",
       "      <td>2.3</td>\n",
       "      <td>3.0</td>\n",
       "      <td>0.0</td>\n",
       "      <td>6.0</td>\n",
       "      <td>0.0</td>\n",
       "    </tr>\n",
       "    <tr>\n",
       "      <th>1</th>\n",
       "      <td>67.0</td>\n",
       "      <td>1.0</td>\n",
       "      <td>4.0</td>\n",
       "      <td>160.0</td>\n",
       "      <td>286.0</td>\n",
       "      <td>0.0</td>\n",
       "      <td>2.0</td>\n",
       "      <td>108.0</td>\n",
       "      <td>1.0</td>\n",
       "      <td>1.5</td>\n",
       "      <td>2.0</td>\n",
       "      <td>3.0</td>\n",
       "      <td>3.0</td>\n",
       "      <td>2.0</td>\n",
       "    </tr>\n",
       "    <tr>\n",
       "      <th>2</th>\n",
       "      <td>67.0</td>\n",
       "      <td>1.0</td>\n",
       "      <td>4.0</td>\n",
       "      <td>120.0</td>\n",
       "      <td>229.0</td>\n",
       "      <td>0.0</td>\n",
       "      <td>2.0</td>\n",
       "      <td>129.0</td>\n",
       "      <td>1.0</td>\n",
       "      <td>2.6</td>\n",
       "      <td>2.0</td>\n",
       "      <td>2.0</td>\n",
       "      <td>7.0</td>\n",
       "      <td>1.0</td>\n",
       "    </tr>\n",
       "    <tr>\n",
       "      <th>3</th>\n",
       "      <td>37.0</td>\n",
       "      <td>1.0</td>\n",
       "      <td>3.0</td>\n",
       "      <td>130.0</td>\n",
       "      <td>250.0</td>\n",
       "      <td>0.0</td>\n",
       "      <td>0.0</td>\n",
       "      <td>187.0</td>\n",
       "      <td>0.0</td>\n",
       "      <td>3.5</td>\n",
       "      <td>3.0</td>\n",
       "      <td>0.0</td>\n",
       "      <td>3.0</td>\n",
       "      <td>0.0</td>\n",
       "    </tr>\n",
       "    <tr>\n",
       "      <th>4</th>\n",
       "      <td>41.0</td>\n",
       "      <td>0.0</td>\n",
       "      <td>2.0</td>\n",
       "      <td>130.0</td>\n",
       "      <td>204.0</td>\n",
       "      <td>0.0</td>\n",
       "      <td>2.0</td>\n",
       "      <td>172.0</td>\n",
       "      <td>0.0</td>\n",
       "      <td>1.4</td>\n",
       "      <td>1.0</td>\n",
       "      <td>0.0</td>\n",
       "      <td>3.0</td>\n",
       "      <td>0.0</td>\n",
       "    </tr>\n",
       "  </tbody>\n",
       "</table>\n",
       "</div>"
      ],
      "text/plain": [
       "    age  sex   cp  trestbps   chol  fbs  restecg  thalach  exang  oldpeak  \\\n",
       "0  63.0  1.0  1.0     145.0  233.0  1.0      2.0    150.0    0.0      2.3   \n",
       "1  67.0  1.0  4.0     160.0  286.0  0.0      2.0    108.0    1.0      1.5   \n",
       "2  67.0  1.0  4.0     120.0  229.0  0.0      2.0    129.0    1.0      2.6   \n",
       "3  37.0  1.0  3.0     130.0  250.0  0.0      0.0    187.0    0.0      3.5   \n",
       "4  41.0  0.0  2.0     130.0  204.0  0.0      2.0    172.0    0.0      1.4   \n",
       "\n",
       "   slope   ca  thal  num  \n",
       "0    3.0  0.0   6.0  0.0  \n",
       "1    2.0  3.0   3.0  2.0  \n",
       "2    2.0  2.0   7.0  1.0  \n",
       "3    3.0  0.0   3.0  0.0  \n",
       "4    1.0  0.0   3.0  0.0  "
      ]
     },
     "execution_count": 5,
     "metadata": {},
     "output_type": "execute_result"
    }
   ],
   "source": [
    "# merge datatsets\n",
    "data = pd.concat([cleve, hung, swiss, va], ignore_index=True)\n",
    "data = data.astype(float)\n",
    "data.head()"
   ]
  },
  {
   "cell_type": "code",
   "execution_count": 6,
   "id": "3848481e",
   "metadata": {},
   "outputs": [
    {
     "data": {
      "image/png": "[encoded data removed]",
      "text/plain": [
       "<Figure size 432x288 with 1 Axes>"
      ]
     },
     "metadata": {
      "needs_background": "light"
     },
     "output_type": "display_data"
    }
   ],
   "source": [
    "cleve_miss = cleve.isnull().sum()\n",
    "hung_miss = hung.isnull().sum()\n",
    "swiss_miss = swiss.isnull().sum()\n",
    "va_miss = va.isnull().sum()\n",
    "\n",
    "miss = pd.concat([cleve_miss, hung_miss, swiss_miss, va_miss], axis=1, keys=[\"Cleveland data\", \"Hungarian data\", \n",
    "                                                                            \"Switzerland data\", \"V.A. Medical Center data\"])\n",
    "\n",
    "missplot = miss.plot.bar(rot=45, width=1, title='Missing Values in Heart Disease dataset', xlabel='Attributes', ylabel='Count')"
   ]
  },
  {
   "cell_type": "code",
   "execution_count": 7,
   "id": "13750288",
   "metadata": {},
   "outputs": [
    {
     "data": {
      "image/png": "[encoded data removed]",
      "text/plain": [
       "<Figure size 432x288 with 1 Axes>"
      ]
     },
     "metadata": {
      "needs_background": "light"
     },
     "output_type": "display_data"
    }
   ],
   "source": [
    "# visualize missing values between male and female\n",
    "data_male = data[data['sex'] == 1]\n",
    "data_female = data[data['sex'] == 0]\n",
    "\n",
    "data_male_miss = data_male.isnull().sum()\n",
    "data_female_miss = data_female.isnull().sum()\n",
    "\n",
    "sex_miss = pd.concat([data_male_miss, data_female_miss], axis=1, keys=[\"male\", \"female\"])\n",
    "\n",
    "missplot = sex_miss.plot.bar(rot=45, width=1, title='Missing Values in Heart Disease dataset', xlabel='Attributes', ylabel='Count')"
   ]
  },
  {
   "cell_type": "code",
   "execution_count": 8,
   "id": "55e5f400",
   "metadata": {},
   "outputs": [
    {
     "data": {
      "text/html": [
       "<div>\n",
       "<style scoped>\n",
       "    .dataframe tbody tr th:only-of-type {\n",
       "        vertical-align: middle;\n",
       "    }\n",
       "\n",
       "    .dataframe tbody tr th {\n",
       "        vertical-align: top;\n",
       "    }\n",
       "\n",
       "    .dataframe thead th {\n",
       "        text-align: right;\n",
       "    }\n",
       "</style>\n",
       "<table border=\"1\" class=\"dataframe\">\n",
       "  <thead>\n",
       "    <tr style=\"text-align: right;\">\n",
       "      <th></th>\n",
       "      <th>trestbps</th>\n",
       "      <th>chol</th>\n",
       "      <th>thalach</th>\n",
       "      <th>oldpeak</th>\n",
       "    </tr>\n",
       "  </thead>\n",
       "  <tbody>\n",
       "    <tr>\n",
       "      <th>male</th>\n",
       "      <td>132.143498</td>\n",
       "      <td>187.864865</td>\n",
       "      <td>135.063893</td>\n",
       "      <td>0.939850</td>\n",
       "    </tr>\n",
       "    <tr>\n",
       "      <th>female</th>\n",
       "      <td>132.093750</td>\n",
       "      <td>241.481283</td>\n",
       "      <td>146.244792</td>\n",
       "      <td>0.668394</td>\n",
       "    </tr>\n",
       "  </tbody>\n",
       "</table>\n",
       "</div>"
      ],
      "text/plain": [
       "          trestbps        chol     thalach   oldpeak\n",
       "male    132.143498  187.864865  135.063893  0.939850\n",
       "female  132.093750  241.481283  146.244792  0.668394"
      ]
     },
     "execution_count": 8,
     "metadata": {},
     "output_type": "execute_result"
    }
   ],
   "source": [
    "# calculate means for each continuous variable for both male and female\n",
    "means_male = data_male.mean()\n",
    "means_female = data_female.mean()\n",
    "\n",
    "means = pd.DataFrame([means_male, means_female])\n",
    "means.index = ['male', 'female']\n",
    "means = means.drop(['age','sex','cp','fbs', 'restecg','exang','slope','thal','num','ca'], axis=1)\n",
    "means"
   ]
  },
  {
   "cell_type": "code",
   "execution_count": 9,
   "id": "5dbba0aa",
   "metadata": {},
   "outputs": [],
   "source": [
    "# delete variables where is no difference in male and female\n",
    "data_imp = data.copy()\n",
    "data_imp = data_imp.drop(columns=['trestbps'])"
   ]
  },
  {
   "cell_type": "code",
   "execution_count": 41,
   "id": "ae95134d",
   "metadata": {},
   "outputs": [
    {
     "data": {
      "image/png": "[encoded data removed]",
      "text/plain": [
       "<Figure size 432x288 with 1 Axes>"
      ]
     },
     "metadata": {
      "needs_background": "light"
     },
     "output_type": "display_data"
    }
   ],
   "source": [
    "# mean imputation\n",
    "data_imp['chol'] = data_imp['chol'].fillna(data_imp['chol'].mean())\n",
    "data_imp['thalach'] = data_imp['thalach'].fillna(data_imp['thalach'].mean())\n",
    "data_imp['oldpeak'] = data_imp['oldpeak'].fillna(data_imp['oldpeak'].mean())\n",
    "null_values = data['oldpeak'].isnull()\n",
    "# visualize results\n",
    "plot = plt.scatter(data_imp['age'], data_imp['oldpeak'])\n",
    "plot = plt.scatter(data_imp[np.isnan(data['oldpeak'])]['age'], data_imp[np.isnan(data['oldpeak'])]['oldpeak'])\n",
    "plt.show()"
   ]
  },
  {
   "cell_type": "code",
   "execution_count": 11,
   "id": "89a64515",
   "metadata": {},
   "outputs": [
    {
     "data": {
      "text/html": [
       "<div>\n",
       "<style scoped>\n",
       "    .dataframe tbody tr th:only-of-type {\n",
       "        vertical-align: middle;\n",
       "    }\n",
       "\n",
       "    .dataframe tbody tr th {\n",
       "        vertical-align: top;\n",
       "    }\n",
       "\n",
       "    .dataframe thead th {\n",
       "        text-align: right;\n",
       "    }\n",
       "</style>\n",
       "<table border=\"1\" class=\"dataframe\">\n",
       "  <thead>\n",
       "    <tr style=\"text-align: right;\">\n",
       "      <th></th>\n",
       "      <th>cp</th>\n",
       "      <th>fbs</th>\n",
       "      <th>restecg</th>\n",
       "      <th>exang</th>\n",
       "      <th>slope</th>\n",
       "      <th>ca</th>\n",
       "      <th>thal</th>\n",
       "    </tr>\n",
       "  </thead>\n",
       "  <tbody>\n",
       "    <tr>\n",
       "      <th>male</th>\n",
       "      <td>4.0</td>\n",
       "      <td>0.0</td>\n",
       "      <td>0.0</td>\n",
       "      <td>0.0</td>\n",
       "      <td>2.0</td>\n",
       "      <td>0.0</td>\n",
       "      <td>7.0</td>\n",
       "    </tr>\n",
       "    <tr>\n",
       "      <th>female</th>\n",
       "      <td>4.0</td>\n",
       "      <td>0.0</td>\n",
       "      <td>0.0</td>\n",
       "      <td>0.0</td>\n",
       "      <td>2.0</td>\n",
       "      <td>0.0</td>\n",
       "      <td>3.0</td>\n",
       "    </tr>\n",
       "  </tbody>\n",
       "</table>\n",
       "</div>"
      ],
      "text/plain": [
       "         cp  fbs  restecg  exang  slope   ca  thal\n",
       "male    4.0  0.0      0.0    0.0    2.0  0.0   7.0\n",
       "female  4.0  0.0      0.0    0.0    2.0  0.0   3.0"
      ]
     },
     "execution_count": 11,
     "metadata": {},
     "output_type": "execute_result"
    }
   ],
   "source": [
    "# calculate modes for each categorial variable for both male and female\n",
    "modes_male = data_male.mode().iloc[0]\n",
    "modes_female = data_female.mode().iloc[0]\n",
    "\n",
    "modes = pd.DataFrame([modes_male, modes_female])\n",
    "modes.index = ['male', 'female']\n",
    "modes = modes.drop(['age','sex','trestbps','chol','thalach','oldpeak','num'], axis=1)\n",
    "modes"
   ]
  },
  {
   "cell_type": "code",
   "execution_count": 12,
   "id": "016b56a7",
   "metadata": {},
   "outputs": [],
   "source": [
    "# delete variables where is no difference in male and female\n",
    "data_imp = data_imp.drop(columns=['cp','fbs','restecg','exang','slope','ca'])"
   ]
  },
  {
   "cell_type": "code",
   "execution_count": 42,
   "id": "503629cd",
   "metadata": {},
   "outputs": [
    {
     "data": {
      "image/png": "[encoded data removed]",
      "text/plain": [
       "<Figure size 432x288 with 1 Axes>"
      ]
     },
     "metadata": {
      "needs_background": "light"
     },
     "output_type": "display_data"
    }
   ],
   "source": [
    "# mode imputation\n",
    "data_imp['thal'] = data_imp['thal'].fillna(int(data_imp['thal'].mode()))\n",
    "null_values = data['thal'].isnull()\n",
    "\n",
    "# save results\n",
    "from pathlib import Path  \n",
    "filepath = Path('../data/data_imp.csv')  \n",
    "filepath.parent.mkdir(parents=True, exist_ok=True)  \n",
    "data_imp.to_csv(filepath, index=False)\n",
    "\n",
    "# visualize results\n",
    "plot = plt.scatter(data_imp['age'], data_imp['thal'])\n",
    "plot = plt.scatter(data_imp[np.isnan(data['thal'])]['age'], data_imp[np.isnan(data['thal'])]['thal'])\n",
    "plt.show()"
   ]
  },
  {
   "cell_type": "code",
   "execution_count": 45,
   "id": "c8e26a86",
   "metadata": {},
   "outputs": [
    {
     "data": {
      "image/png": "[encoded data removed]",
      "text/plain": [
       "<Figure size 432x288 with 1 Axes>"
      ]
     },
     "metadata": {
      "needs_background": "light"
     },
     "output_type": "display_data"
    },
    {
     "data": {
      "image/png": "[encoded data removed]",
      "text/plain": [
       "<Figure size 432x288 with 1 Axes>"
      ]
     },
     "metadata": {
      "needs_background": "light"
     },
     "output_type": "display_data"
    }
   ],
   "source": [
    "# mean imputation for subgroups\n",
    "data_imp_male = data[data['sex']==1].copy()\n",
    "data_imp_female = data[data['sex']==0].copy()\n",
    "\n",
    "data_imp_male['oldpeak'] = data_imp_male['oldpeak'].fillna(data_imp_male['oldpeak'].mean())\n",
    "data_imp_female['oldpeak'] = data_imp_female['oldpeak'].fillna(data_imp_female['oldpeak'].mean())\n",
    "\n",
    "# visualize results\n",
    "plot = plt.scatter(data_imp_male['age'], data_imp_male['oldpeak'])\n",
    "plot = plt.scatter(data_imp_male[np.isnan(data[data['sex']==1].copy()['oldpeak'])]['age'], \n",
    "                   data_imp_male[np.isnan(data[data['sex']==1].copy()['oldpeak'])]['oldpeak'])\n",
    "plt.show()\n",
    "\n",
    "plot = plt.scatter(data_imp_female['age'], data_imp_female['oldpeak'])\n",
    "plot = plt.scatter(data_imp_female[np.isnan(data[data['sex']==0]['oldpeak'])]['age'], \n",
    "                   data_imp_female[np.isnan(data[data['sex']==0]['oldpeak'])]['oldpeak'])\n",
    "plt.show()"
   ]
  },
  {
   "cell_type": "code",
   "execution_count": null,
   "id": "0a420e31",
   "metadata": {},
   "outputs": [],
   "source": []
  }
 ],
 "metadata": {
  "kernelspec": {
   "display_name": "Python 3 (ipykernel)",
   "language": "python",
   "name": "python3"
  },
  "language_info": {
   "codemirror_mode": {
    "name": "ipython",
    "version": 3
   },
   "file_extension": ".py",
   "mimetype": "text/x-python",
   "name": "python",
   "nbconvert_exporter": "python",
   "pygments_lexer": "ipython3",
   "version": "3.9.7"
  },
  "vscode": {
   "interpreter": {
    "hash": "6bd8012e6d6a76f2f78f3c2e8f10536a1d2502631b915f585e9ecfa4ed0816fb"
   }
  }
 },
 "nbformat": 4,
 "nbformat_minor": 5
}
